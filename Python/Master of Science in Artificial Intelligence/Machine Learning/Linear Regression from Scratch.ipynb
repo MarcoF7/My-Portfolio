{
 "cells": [
  {
   "cell_type": "markdown",
   "metadata": {
    "heading_collapsed": true
   },
   "source": [
    "# Libraries"
   ]
  },
  {
   "cell_type": "markdown",
   "metadata": {
    "hidden": true
   },
   "source": [
    "## Numpy"
   ]
  },
  {
   "cell_type": "markdown",
   "metadata": {
    "hidden": true
   },
   "source": [
    "Numpy and the numpy linalg library can be used to represent vectors, matrices and do linear algebra operations."
   ]
  },
  {
   "cell_type": "code",
   "execution_count": 1,
   "metadata": {
    "hidden": true
   },
   "outputs": [],
   "source": [
    "import numpy as np"
   ]
  },
  {
   "cell_type": "markdown",
   "metadata": {
    "hidden": true
   },
   "source": [
    "We can easily define vectors and matrices:"
   ]
  },
  {
   "cell_type": "code",
   "execution_count": 2,
   "metadata": {
    "hidden": true
   },
   "outputs": [],
   "source": [
    "v = np.array([1, 3])"
   ]
  },
  {
   "cell_type": "code",
   "execution_count": 3,
   "metadata": {
    "hidden": true
   },
   "outputs": [
    {
     "data": {
      "text/plain": [
       "array([1, 3])"
      ]
     },
     "execution_count": 3,
     "metadata": {},
     "output_type": "execute_result"
    }
   ],
   "source": [
    "v"
   ]
  },
  {
   "cell_type": "code",
   "execution_count": 4,
   "metadata": {
    "hidden": true
   },
   "outputs": [],
   "source": [
    "M = np.array([\n",
    "    [1, 2],\n",
    "    [3, 4]\n",
    "])"
   ]
  },
  {
   "cell_type": "code",
   "execution_count": 5,
   "metadata": {
    "hidden": true
   },
   "outputs": [
    {
     "data": {
      "text/plain": [
       "array([[1, 2],\n",
       "       [3, 4]])"
      ]
     },
     "execution_count": 5,
     "metadata": {},
     "output_type": "execute_result"
    }
   ],
   "source": [
    "M"
   ]
  },
  {
   "cell_type": "markdown",
   "metadata": {
    "hidden": true
   },
   "source": [
    "We can access elements of an existing matrix like this:"
   ]
  },
  {
   "cell_type": "code",
   "execution_count": 6,
   "metadata": {
    "hidden": true
   },
   "outputs": [
    {
     "data": {
      "text/plain": [
       "2"
      ]
     },
     "execution_count": 6,
     "metadata": {},
     "output_type": "execute_result"
    }
   ],
   "source": [
    "M[0,1]"
   ]
  },
  {
   "cell_type": "markdown",
   "metadata": {
    "hidden": true
   },
   "source": [
    "Shape of a matrix:"
   ]
  },
  {
   "cell_type": "code",
   "execution_count": 7,
   "metadata": {
    "hidden": true
   },
   "outputs": [
    {
     "data": {
      "text/plain": [
       "(2, 2)"
      ]
     },
     "execution_count": 7,
     "metadata": {},
     "output_type": "execute_result"
    }
   ],
   "source": [
    "M.shape"
   ]
  },
  {
   "cell_type": "markdown",
   "metadata": {
    "hidden": true
   },
   "source": [
    "Matrix / vector products:"
   ]
  },
  {
   "cell_type": "code",
   "execution_count": 8,
   "metadata": {
    "hidden": true
   },
   "outputs": [
    {
     "data": {
      "text/plain": [
       "array([[ 7, 10],\n",
       "       [15, 22]])"
      ]
     },
     "execution_count": 8,
     "metadata": {},
     "output_type": "execute_result"
    }
   ],
   "source": [
    "M.dot(M)"
   ]
  },
  {
   "cell_type": "code",
   "execution_count": 9,
   "metadata": {
    "hidden": true
   },
   "outputs": [
    {
     "data": {
      "text/plain": [
       "array([ 7, 15])"
      ]
     },
     "execution_count": 9,
     "metadata": {},
     "output_type": "execute_result"
    }
   ],
   "source": [
    "M.dot(v)"
   ]
  },
  {
   "cell_type": "code",
   "execution_count": 10,
   "metadata": {
    "hidden": true
   },
   "outputs": [
    {
     "data": {
      "text/plain": [
       "10"
      ]
     },
     "execution_count": 10,
     "metadata": {},
     "output_type": "execute_result"
    }
   ],
   "source": [
    "v.dot(v)"
   ]
  },
  {
   "cell_type": "markdown",
   "metadata": {
    "hidden": true
   },
   "source": [
    "Transpose:"
   ]
  },
  {
   "cell_type": "code",
   "execution_count": 11,
   "metadata": {
    "hidden": true
   },
   "outputs": [
    {
     "data": {
      "text/plain": [
       "array([[1, 3],\n",
       "       [2, 4]])"
      ]
     },
     "execution_count": 11,
     "metadata": {},
     "output_type": "execute_result"
    }
   ],
   "source": [
    "M.transpose()"
   ]
  },
  {
   "cell_type": "markdown",
   "metadata": {
    "hidden": true
   },
   "source": [
    "Inverse:"
   ]
  },
  {
   "cell_type": "code",
   "execution_count": 12,
   "metadata": {
    "hidden": true
   },
   "outputs": [
    {
     "data": {
      "text/plain": [
       "array([[-2. ,  1. ],\n",
       "       [ 1.5, -0.5]])"
      ]
     },
     "execution_count": 12,
     "metadata": {},
     "output_type": "execute_result"
    }
   ],
   "source": [
    "np.linalg.inv(M)"
   ]
  },
  {
   "cell_type": "markdown",
   "metadata": {
    "hidden": true
   },
   "source": [
    "Many other operations can be done. Use the documentation if needed: https://numpy.org/doc/\n",
    "\n",
    "Or more generally, simply use Google / Stackoverflow."
   ]
  },
  {
   "cell_type": "markdown",
   "metadata": {
    "hidden": true
   },
   "source": [
    "## Matplotlib"
   ]
  },
  {
   "cell_type": "markdown",
   "metadata": {
    "hidden": true
   },
   "source": [
    "Matplotlib is very convenient to plot figures with Python or in a Jupyter Notebook."
   ]
  },
  {
   "cell_type": "code",
   "execution_count": 13,
   "metadata": {
    "hidden": true
   },
   "outputs": [],
   "source": [
    "import matplotlib.pyplot as plt\n",
    "# This line is necessary to use matplotlib in a Jupyter Notebook:\n",
    "%matplotlib inline"
   ]
  },
  {
   "cell_type": "code",
   "execution_count": 14,
   "metadata": {
    "hidden": true
   },
   "outputs": [],
   "source": [
    "# We can use numpy to generate data\n",
    "X = np.arange(0, 10, 0.5) # generate points spaced by 0.5 from 0 to 10 (excluded)\n",
    "Y = np.sin(X)"
   ]
  },
  {
   "cell_type": "code",
   "execution_count": 15,
   "metadata": {
    "hidden": true
   },
   "outputs": [
    {
     "data": {
      "text/plain": [
       "<matplotlib.collections.PathCollection at 0x1b4448db880>"
      ]
     },
     "execution_count": 15,
     "metadata": {},
     "output_type": "execute_result"
    },
    {
     "data": {
      "image/png": "[encoded data removed]",
      "text/plain": [
       "<Figure size 432x288 with 1 Axes>"
      ]
     },
     "metadata": {
      "needs_background": "light"
     },
     "output_type": "display_data"
    }
   ],
   "source": [
    "plt.scatter(X, Y)"
   ]
  },
  {
   "cell_type": "code",
   "execution_count": 16,
   "metadata": {
    "hidden": true
   },
   "outputs": [
    {
     "data": {
      "image/png": "[encoded data removed]",
      "text/plain": [
       "<Figure size 432x288 with 1 Axes>"
      ]
     },
     "metadata": {
      "needs_background": "light"
     },
     "output_type": "display_data"
    }
   ],
   "source": [
    "plt.plot(X, Y)\n",
    "plt.show()"
   ]
  },
  {
   "cell_type": "markdown",
   "metadata": {
    "hidden": true
   },
   "source": [
    "We can also generate random points"
   ]
  },
  {
   "cell_type": "code",
   "execution_count": 17,
   "metadata": {
    "hidden": true
   },
   "outputs": [
    {
     "data": {
      "text/plain": [
       "<matplotlib.collections.PathCollection at 0x1b4449f1640>"
      ]
     },
     "execution_count": 17,
     "metadata": {},
     "output_type": "execute_result"
    },
    {
     "data": {
      "image/png": "[encoded data removed]",
      "text/plain": [
       "<Figure size 432x288 with 1 Axes>"
      ]
     },
     "metadata": {
      "needs_background": "light"
     },
     "output_type": "display_data"
    }
   ],
   "source": [
    "X = np.random.uniform(0,5,size=50) # 50 numbers uniformly sampled in [0,5]\n",
    "noise = np.random.normal(2,1,size=50) # 50 numbers sampled from a normal distribution with mean 2 and standard deviation 1\n",
    "Y = X + noise\n",
    "plt.scatter(X, Y)"
   ]
  },
  {
   "cell_type": "markdown",
   "metadata": {
    "hidden": true
   },
   "source": [
    "If you run several times the two cells above, you will notice that new points are generated every time. If we want to generate random numbers but still be able to reproduce the results, we can use a *seed*"
   ]
  },
  {
   "cell_type": "code",
   "execution_count": 18,
   "metadata": {
    "hidden": true
   },
   "outputs": [
    {
     "data": {
      "text/plain": [
       "<matplotlib.collections.PathCollection at 0x1b444a3e910>"
      ]
     },
     "execution_count": 18,
     "metadata": {},
     "output_type": "execute_result"
    },
    {
     "data": {
      "image/png": "[encoded data removed]",
      "text/plain": [
       "<Figure size 432x288 with 1 Axes>"
      ]
     },
     "metadata": {
      "needs_background": "light"
     },
     "output_type": "display_data"
    }
   ],
   "source": [
    "np.random.seed(42)\n",
    "X = np.random.uniform(0,5,size=50) # 50 numbers uniformly sampled in [0,5]\n",
    "noise = np.random.normal(2,1,size=50) # 50 numbers sampled from a normal distribution with mean 2 and standard deviation 1\n",
    "Y = X + noise\n",
    "plt.scatter(X, Y)"
   ]
  },
  {
   "cell_type": "markdown",
   "metadata": {
    "hidden": true
   },
   "source": [
    "Now if you run the cell above several times but keep the same seed (42), the generated points stay the same. You can use another seed if you want to generated different points."
   ]
  },
  {
   "cell_type": "markdown",
   "metadata": {},
   "source": [
    "# Under and overfitting"
   ]
  },
  {
   "cell_type": "markdown",
   "metadata": {},
   "source": [
    "Let's define a \"ground-truth\" function f(x) = x * sin(x), and plot it on [0,10]"
   ]
  },
  {
   "cell_type": "code",
   "execution_count": 19,
   "metadata": {},
   "outputs": [],
   "source": [
    "def f(x):\n",
    "    return np.sin(x) / x"
   ]
  },
  {
   "cell_type": "code",
   "execution_count": 20,
   "metadata": {},
   "outputs": [],
   "source": [
    "X_f = np.arange(1,10,0.1)\n",
    "Y_f = f(X_f)"
   ]
  },
  {
   "cell_type": "code",
   "execution_count": 21,
   "metadata": {},
   "outputs": [
    {
     "data": {
      "image/png": "[encoded data removed]",
      "text/plain": [
       "<Figure size 432x288 with 1 Axes>"
      ]
     },
     "metadata": {
      "needs_background": "light"
     },
     "output_type": "display_data"
    }
   ],
   "source": [
    "plt.plot(X_f,Y_f)\n",
    "plt.show()"
   ]
  },
  {
   "cell_type": "markdown",
   "metadata": {},
   "source": [
    "Let's randomly sample N points from this function, and create corresponding labels while adding some random noise."
   ]
  },
  {
   "cell_type": "code",
   "execution_count": 22,
   "metadata": {},
   "outputs": [],
   "source": [
    "np.random.seed(42)\n",
    "N = 12\n",
    "points = np.random.uniform(1, 10, size=N)\n",
    "noise = np.random.randn(N)\n",
    "labels = f(points) + 0.1 * noise"
   ]
  },
  {
   "cell_type": "code",
   "execution_count": 23,
   "metadata": {},
   "outputs": [
    {
     "data": {
      "image/png": "[encoded data removed]",
      "text/plain": [
       "<Figure size 432x288 with 1 Axes>"
      ]
     },
     "metadata": {
      "needs_background": "light"
     },
     "output_type": "display_data"
    }
   ],
   "source": [
    "plt.plot(X_f,Y_f,color='orange')\n",
    "plt.scatter(points, labels)\n",
    "plt.show()"
   ]
  },
  {
   "cell_type": "markdown",
   "metadata": {},
   "source": [
    "We will now assume we do not know the ground truth function. We will instead use the sampled points as training examples to try to predict the corresponding labels, and try to fit a polynomial curve.\n",
    "\n",
    "For now, we will use all the points as training examples."
   ]
  },
  {
   "cell_type": "code",
   "execution_count": 24,
   "metadata": {},
   "outputs": [],
   "source": [
    "from sklearn.preprocessing import PolynomialFeatures\n",
    "from sklearn.linear_model import LinearRegression\n",
    "\n",
    "def get_polynomial_coefficients(points, labels, degree=3):\n",
    "    \"\"\"Return the coefficients of the d-degree polynomial which best matches\n",
    "    the curve represented by (points, labels)\"\"\"\n",
    "    polyfeatures = PolynomialFeatures(degree)\n",
    "    lr = LinearRegression(fit_intercept=False)\n",
    "    points_poly = polyfeatures.fit_transform(points.reshape(-1,1))\n",
    "    lr.fit(points_poly, labels)\n",
    "    return lr.coef_"
   ]
  },
  {
   "cell_type": "markdown",
   "metadata": {},
   "source": [
    "You can use the Polynomial class from numpy if you want:"
   ]
  },
  {
   "cell_type": "code",
   "execution_count": 25,
   "metadata": {},
   "outputs": [
    {
     "data": {
      "image/png": "[encoded data removed]",
      "text/plain": [
       "<Figure size 432x288 with 1 Axes>"
      ]
     },
     "metadata": {
      "needs_background": "light"
     },
     "output_type": "display_data"
    }
   ],
   "source": [
    "from numpy.polynomial.polynomial import Polynomial\n",
    "poly = Polynomial([-10,0,2]) # represents function f(x) = 2*x^2 - 10\n",
    "X = np.arange(-5, 5, 0.1)\n",
    "Y = poly(X)\n",
    "plt.plot(X, Y)\n",
    "plt.show()"
   ]
  },
  {
   "cell_type": "markdown",
   "metadata": {},
   "source": [
    "**Try to fit polynomials of varying degrees to the training points and labels, and show the resulting plot**"
   ]
  },
  {
   "cell_type": "markdown",
   "metadata": {},
   "source": [
    "Example with a polynomial of degree \"super 0\", i.e. the function f(x) = 0:"
   ]
  },
  {
   "cell_type": "code",
   "execution_count": 26,
   "metadata": {},
   "outputs": [
    {
     "data": {
      "image/png": "[encoded data removed]",
      "text/plain": [
       "<Figure size 432x288 with 1 Axes>"
      ]
     },
     "metadata": {
      "needs_background": "light"
     },
     "output_type": "display_data"
    }
   ],
   "source": [
    "predictions = 0 * X_f\n",
    "plt.plot(X_f,predictions)\n",
    "plt.scatter(points, labels)\n",
    "plt.show()"
   ]
  },
  {
   "cell_type": "code",
   "execution_count": 27,
   "metadata": {},
   "outputs": [],
   "source": [
    "#Calculating the coefficients for polynomials of different degrees\n",
    "new_coef_1 = get_polynomial_coefficients(points, labels, degree=1)\n",
    "new_coef_2 = get_polynomial_coefficients(points, labels, degree=2)\n",
    "new_coef_3 = get_polynomial_coefficients(points, labels, degree=3)\n",
    "new_coef_5 = get_polynomial_coefficients(points, labels, degree=5)\n",
    "new_coef_7 = get_polynomial_coefficients(points, labels, degree=7)\n",
    "new_coef_10 = get_polynomial_coefficients(points, labels, degree=10)\n",
    "new_coef_15 = get_polynomial_coefficients(points, labels, degree=15)"
   ]
  },
  {
   "cell_type": "code",
   "execution_count": 28,
   "metadata": {},
   "outputs": [
    {
     "data": {
      "image/png": "[encoded data removed]",
      "text/plain": [
       "<Figure size 432x288 with 1 Axes>"
      ]
     },
     "metadata": {
      "needs_background": "light"
     },
     "output_type": "display_data"
    }
   ],
   "source": [
    "poly = Polynomial(new_coef_1)\n",
    "X = np.arange(1, 10, 0.1)\n",
    "Y = poly(X)\n",
    "plt.plot(X, Y,color='orange')\n",
    "plt.scatter(points, labels)\n",
    "plt.show()"
   ]
  },
  {
   "cell_type": "code",
   "execution_count": 29,
   "metadata": {},
   "outputs": [
    {
     "data": {
      "image/png": "[encoded data removed]",
      "text/plain": [
       "<Figure size 432x288 with 1 Axes>"
      ]
     },
     "metadata": {
      "needs_background": "light"
     },
     "output_type": "display_data"
    }
   ],
   "source": [
    "poly = Polynomial(new_coef_2)\n",
    "X = np.arange(1, 10, 0.1)\n",
    "Y = poly(X)\n",
    "plt.plot(X, Y,color='orange')\n",
    "plt.scatter(points, labels)\n",
    "plt.show()"
   ]
  },
  {
   "cell_type": "code",
   "execution_count": 30,
   "metadata": {},
   "outputs": [
    {
     "data": {
      "image/png": "[encoded data removed]",
      "text/plain": [
       "<Figure size 432x288 with 1 Axes>"
      ]
     },
     "metadata": {
      "needs_background": "light"
     },
     "output_type": "display_data"
    }
   ],
   "source": [
    "poly = Polynomial(new_coef_3)\n",
    "X = np.arange(1, 10, 0.1)\n",
    "Y = poly(X)\n",
    "plt.plot(X, Y,color='orange')\n",
    "plt.scatter(points, labels)\n",
    "plt.show()"
   ]
  },
  {
   "cell_type": "code",
   "execution_count": 31,
   "metadata": {},
   "outputs": [
    {
     "data": {
      "image/png": "[encoded data removed]",
      "text/plain": [
       "<Figure size 432x288 with 1 Axes>"
      ]
     },
     "metadata": {
      "needs_background": "light"
     },
     "output_type": "display_data"
    }
   ],
   "source": [
    "poly = Polynomial(new_coef_5)\n",
    "X = np.arange(1, 10, 0.1)\n",
    "Y = poly(X)\n",
    "plt.plot(X, Y,color='orange')\n",
    "plt.scatter(points, labels)\n",
    "plt.show()"
   ]
  },
  {
   "cell_type": "code",
   "execution_count": 32,
   "metadata": {},
   "outputs": [
    {
     "data": {
      "image/png": "[encoded data removed]",
      "text/plain": [
       "<Figure size 432x288 with 1 Axes>"
      ]
     },
     "metadata": {
      "needs_background": "light"
     },
     "output_type": "display_data"
    }
   ],
   "source": [
    "poly = Polynomial(new_coef_7)\n",
    "X = np.arange(1, 10, 0.1)\n",
    "Y = poly(X)\n",
    "plt.plot(X, Y,color='orange')\n",
    "plt.scatter(points, labels)\n",
    "plt.show()"
   ]
  },
  {
   "cell_type": "code",
   "execution_count": 33,
   "metadata": {},
   "outputs": [
    {
     "data": {
      "image/png": "[encoded data removed]",
      "text/plain": [
       "<Figure size 432x288 with 1 Axes>"
      ]
     },
     "metadata": {
      "needs_background": "light"
     },
     "output_type": "display_data"
    }
   ],
   "source": [
    "poly = Polynomial(new_coef_10)\n",
    "X = np.arange(1, 10, 0.1)\n",
    "Y = poly(X)\n",
    "plt.plot(X, Y,color='orange')\n",
    "plt.scatter(points, labels)\n",
    "plt.show()"
   ]
  },
  {
   "cell_type": "code",
   "execution_count": 34,
   "metadata": {
    "scrolled": true
   },
   "outputs": [
    {
     "data": {
      "image/png": "[encoded data removed]",
      "text/plain": [
       "<Figure size 432x288 with 1 Axes>"
      ]
     },
     "metadata": {
      "needs_background": "light"
     },
     "output_type": "display_data"
    }
   ],
   "source": [
    "poly = Polynomial(new_coef_15)\n",
    "X = np.arange(1, 10, 0.1)\n",
    "Y = poly(X)\n",
    "plt.plot(X, Y,color='orange')\n",
    "plt.scatter(points, labels)\n",
    "plt.show()"
   ]
  },
  {
   "cell_type": "markdown",
   "metadata": {},
   "source": [
    "**Which degree seem to yield the lowest training error?**\n",
    "\n",
    "**Which degree seem to intuitively be the most relevant match?**"
   ]
  },
  {
   "cell_type": "markdown",
   "metadata": {},
   "source": [
    "- Degree 15 seems to yield the lowest training error\n",
    "- Degree 5 seems to be the most relevant match (the one that has the closest similarity to the ground truth function)"
   ]
  },
  {
   "cell_type": "markdown",
   "metadata": {},
   "source": [
    "**Compute the training error using the least square loss for polynomials of different degrees (for instance 2, 3, 5, 10, 15...). Does this match your estimate of the polynomial with lowest training error?**"
   ]
  },
  {
   "cell_type": "code",
   "execution_count": 35,
   "metadata": {},
   "outputs": [],
   "source": [
    "def calc_error(new_coef, points, labels):\n",
    "    size = len(points)\n",
    "    poly = Polynomial(new_coef)\n",
    "    Estimated_labels = poly(points)\n",
    "    sum_prev = 0\n",
    "    for i in range(0,size):\n",
    "        sum_prev += (labels[i]-Estimated_labels[i])**2    \n",
    "    training_cost = sum_prev/size\n",
    "    return training_cost"
   ]
  },
  {
   "cell_type": "code",
   "execution_count": 36,
   "metadata": {},
   "outputs": [
    {
     "name": "stdout",
     "output_type": "stream",
     "text": [
      "training_error_1 = 0.03807321383862155\n",
      "training_error_2 = 0.02461520603003564\n",
      "training_error_3 = 0.00606239751674498\n",
      "training_error_5 = 0.0044452181038654925\n",
      "training_error_7 = 0.003686083457176638\n",
      "training_error_10 = 0.002049634813886768\n",
      "training_error_15 = 0.0036639522792390193\n"
     ]
    }
   ],
   "source": [
    "training_error_1 = calc_error(new_coef_1, points, labels)\n",
    "training_error_2 = calc_error(new_coef_2, points, labels)\n",
    "training_error_3 = calc_error(new_coef_3, points, labels)\n",
    "training_error_5 = calc_error(new_coef_5, points, labels)\n",
    "training_error_7 = calc_error(new_coef_7, points, labels)\n",
    "training_error_10 = calc_error(new_coef_10, points, labels)\n",
    "training_error_15 = calc_error(new_coef_15, points, labels)\n",
    "\n",
    "print('training_error_1 =', training_error_1)\n",
    "print('training_error_2 =', training_error_2)\n",
    "print('training_error_3 =', training_error_3)\n",
    "print('training_error_5 =', training_error_5)\n",
    "print('training_error_7 =', training_error_7)\n",
    "print('training_error_10 =', training_error_10)\n",
    "print('training_error_15 =', training_error_15)"
   ]
  },
  {
   "cell_type": "markdown",
   "metadata": {},
   "source": [
    "- It kind of match my estimate because in general the higher the degree the lower the training error. However, for this particular case, degree 10 yields the lowest training error and not degree 15"
   ]
  },
  {
   "cell_type": "markdown",
   "metadata": {},
   "source": [
    "**Now sample some *new* points from the ground truth function, similarly to how the training points where sampled.**"
   ]
  },
  {
   "cell_type": "code",
   "execution_count": 37,
   "metadata": {},
   "outputs": [],
   "source": [
    "#Sampling new points\n",
    "np.random.seed(100)\n",
    "N_test = 12\n",
    "points_test = np.random.uniform(1, 10, size=N_test)\n",
    "noise_test = np.random.randn(N_test)\n",
    "labels_test = f(points_test) + 0.1 * noise_test"
   ]
  },
  {
   "cell_type": "code",
   "execution_count": 38,
   "metadata": {
    "scrolled": true
   },
   "outputs": [
    {
     "data": {
      "image/png": "[encoded data removed]",
      "text/plain": [
       "<Figure size 432x288 with 1 Axes>"
      ]
     },
     "metadata": {
      "needs_background": "light"
     },
     "output_type": "display_data"
    }
   ],
   "source": [
    "plt.plot(X_f,Y_f,color='orange')\n",
    "plt.scatter(points, labels, color='blue')\n",
    "plt.scatter(points_test, labels_test, color='red')\n",
    "plt.show()"
   ]
  },
  {
   "cell_type": "code",
   "execution_count": 39,
   "metadata": {},
   "outputs": [],
   "source": [
    "test_error_1 = calc_error(new_coef_1, points_test, labels_test)\n",
    "test_error_2 = calc_error(new_coef_2, points_test, labels_test)\n",
    "test_error_3 = calc_error(new_coef_3, points_test, labels_test)\n",
    "test_error_5 = calc_error(new_coef_5, points_test, labels_test)\n",
    "test_error_7 = calc_error(new_coef_7, points_test, labels_test)\n",
    "test_error_10 = calc_error(new_coef_10, points_test, labels_test)\n",
    "test_error_15 = calc_error(new_coef_15, points_test, labels_test)"
   ]
  },
  {
   "cell_type": "code",
   "execution_count": 40,
   "metadata": {},
   "outputs": [
    {
     "name": "stdout",
     "output_type": "stream",
     "text": [
      "Coefficient 1:\n",
      "training_error_1 = 0.03807321383862155\n",
      "test_error_1 = 0.06902106472072474\n",
      "\n",
      "\n",
      "Coefficient 2:\n",
      "training_error_2 = 0.02461520603003564\n",
      "test_error_2 = 0.034107383867490355\n",
      "\n",
      "\n",
      "Coefficient 3:\n",
      "training_error_3 = 0.00606239751674498\n",
      "test_error_3 = 0.015307005754528877\n",
      "\n",
      "\n",
      "Coefficient 5:\n",
      "training_error_5 = 0.0044452181038654925\n",
      "test_error_5 = 0.013399846767347632\n",
      "\n",
      "\n",
      "Coefficient 7:\n",
      "training_error_7 = 0.003686083457176638\n",
      "test_error_7 = 0.008819840071246175\n",
      "\n",
      "\n",
      "Coefficient 10:\n",
      "training_error_10 = 0.002049634813886768\n",
      "test_error_10 = 31.5625481132158\n",
      "\n",
      "\n",
      "Coefficient 15:\n",
      "training_error_15 = 0.0036639522792390193\n",
      "test_error_15 = 5.538812764326022\n"
     ]
    }
   ],
   "source": [
    "print(\"Coefficient 1:\")\n",
    "print('training_error_1 =', training_error_1)\n",
    "print('test_error_1 =', test_error_1)\n",
    "print(\"\\n\")\n",
    "print(\"Coefficient 2:\")\n",
    "print('training_error_2 =', training_error_2)\n",
    "print('test_error_2 =', test_error_2)\n",
    "print(\"\\n\")\n",
    "print(\"Coefficient 3:\")\n",
    "print('training_error_3 =', training_error_3)\n",
    "print('test_error_3 =', test_error_3)\n",
    "print(\"\\n\")\n",
    "print(\"Coefficient 5:\")\n",
    "print('training_error_5 =', training_error_5)\n",
    "print('test_error_5 =', test_error_5)\n",
    "print(\"\\n\")\n",
    "print(\"Coefficient 7:\")\n",
    "print('training_error_7 =', training_error_7)\n",
    "print('test_error_7 =', test_error_7)\n",
    "print(\"\\n\")\n",
    "print(\"Coefficient 10:\")\n",
    "print('training_error_10 =', training_error_10)\n",
    "print('test_error_10 =', test_error_10)\n",
    "print(\"\\n\")\n",
    "print(\"Coefficient 15:\")\n",
    "print('training_error_15 =', training_error_15)\n",
    "print('test_error_15 =', test_error_15)"
   ]
  },
  {
   "cell_type": "markdown",
   "metadata": {},
   "source": [
    "**Interpret this in term of overfitting, underfitting etc**"
   ]
  },
  {
   "cell_type": "markdown",
   "metadata": {},
   "source": [
    "- With 1 coefficient ->   Underfitting: High Training Error and High Test Error\n",
    "- With 2 coefficients ->  Underfitting: High Training Error and High Test Error\n",
    "- With 3 coefficients ->  About Right:   Low Training Error and Low Test Error\n",
    "- With 5 coefficients ->  About Right:   Low Training Error and Low Test Error\n",
    "- With 7 coefficients ->  Just Right:    Low Training Error and Low Test Error\n",
    "- With 10 coefficients -> Overfitting:   Low Training Error and High Test Error\n",
    "- With 15 coefficients -> Overfitting:   Low Training Error and High Test Error"
   ]
  },
  {
   "cell_type": "markdown",
   "metadata": {},
   "source": [
    "# Linear regression"
   ]
  },
  {
   "cell_type": "markdown",
   "metadata": {},
   "source": [
    "Now we will implement two ways to do linear regression. We will generate some data (area and age) for houses, and try to predict their price."
   ]
  },
  {
   "cell_type": "markdown",
   "metadata": {},
   "source": [
    "We will start by generating N training points and labels."
   ]
  },
  {
   "cell_type": "code",
   "execution_count": 41,
   "metadata": {},
   "outputs": [],
   "source": [
    "np.random.seed(42)\n",
    "N = 50\n",
    "house_area = np.random.uniform(50,300,size=N)\n",
    "house_age = np.random.uniform(0,150,size=N)\n",
    "noise = np.random.normal(10, 5,size=N)\n",
    "house_price = 1.1 * house_area - 0.5 * house_age + noise # the price is assumed to be in k€"
   ]
  },
  {
   "cell_type": "code",
   "execution_count": 42,
   "metadata": {},
   "outputs": [],
   "source": [
    "training_data = np.concatenate([house_age.reshape(-1,1), house_area.reshape(-1,1)], axis=1)"
   ]
  },
  {
   "cell_type": "markdown",
   "metadata": {},
   "source": [
    "Let's visualize the relation between the target and each individual variable."
   ]
  },
  {
   "cell_type": "code",
   "execution_count": 43,
   "metadata": {},
   "outputs": [
    {
     "data": {
      "image/png": "[encoded data removed]",
      "text/plain": [
       "<Figure size 432x288 with 1 Axes>"
      ]
     },
     "metadata": {
      "needs_background": "light"
     },
     "output_type": "display_data"
    }
   ],
   "source": [
    "plt.scatter(house_area, house_price)\n",
    "plt.xlabel('Area')\n",
    "plt.ylabel('Price')\n",
    "plt.show()"
   ]
  },
  {
   "cell_type": "code",
   "execution_count": 44,
   "metadata": {},
   "outputs": [
    {
     "data": {
      "image/png": "[encoded data removed]",
      "text/plain": [
       "<Figure size 432x288 with 1 Axes>"
      ]
     },
     "metadata": {
      "needs_background": "light"
     },
     "output_type": "display_data"
    }
   ],
   "source": [
    "plt.scatter(house_age, house_price)\n",
    "plt.xlabel('Age')\n",
    "plt.ylabel('Price')\n",
    "plt.show()"
   ]
  },
  {
   "cell_type": "markdown",
   "metadata": {},
   "source": [
    "**Are the generated data and ground truth function realistic?**"
   ]
  },
  {
   "cell_type": "markdown",
   "metadata": {},
   "source": [
    "- Yes, they are. The ground truth function depends linearly on both Area and Age, but the Area has a greater coefficient than the Age (1.1 > 0.5). Also, the values for the area are greater than those for the age. Thus, the plot Price vs Area shows a more linear relation than that of Price vs Age."
   ]
  },
  {
   "cell_type": "markdown",
   "metadata": {},
   "source": [
    "Now let's do a linear regression! We will assume there is no intercept, i.e. $f(\\mathbf{x}) = \\mathbf{w}^\\top\\mathbf{x}$ (there is no additional $w_0$ term)"
   ]
  },
  {
   "cell_type": "markdown",
   "metadata": {},
   "source": [
    "Given the parameters $\\mathbf{w} = (w_1,w_2)^\\top$ and the training data $\\mathbf{X}$,\n",
    "predictions can be made with $\\hat{\\mathbf{y}} = \\mathbf{Xw}$"
   ]
  },
  {
   "cell_type": "code",
   "execution_count": 45,
   "metadata": {},
   "outputs": [],
   "source": [
    "w = np.array([2,2]) # as a start\n",
    "X = training_data"
   ]
  },
  {
   "cell_type": "code",
   "execution_count": 46,
   "metadata": {},
   "outputs": [],
   "source": [
    "predictions = X.dot(w)"
   ]
  },
  {
   "cell_type": "markdown",
   "metadata": {},
   "source": [
    "**Implement a function which provides the mean square error\n",
    "$J(\\mathbf{w}) = \\frac{1}{N}  \\lVert \\mathbf{y} - \\mathbf{Xw} \\rVert_2^2$\n",
    "given the training data, labels and model parameters.**"
   ]
  },
  {
   "cell_type": "code",
   "execution_count": 47,
   "metadata": {},
   "outputs": [],
   "source": [
    "def calc_MSE(w,X,y):\n",
    "    calc =(1/N)*np.sum(np.square(y-X.dot(w)))\n",
    "    return calc"
   ]
  },
  {
   "cell_type": "markdown",
   "metadata": {},
   "source": [
    "**What is $\\frac{\\partial J(\\mathbf{w})}{\\partial \\mathbf{w}}$?**"
   ]
  },
  {
   "cell_type": "code",
   "execution_count": 48,
   "metadata": {},
   "outputs": [],
   "source": [
    "y = house_price"
   ]
  },
  {
   "cell_type": "code",
   "execution_count": 49,
   "metadata": {},
   "outputs": [],
   "source": [
    "Derivative = (2/N)*X.T.dot(X.dot(w)-y)"
   ]
  },
  {
   "cell_type": "markdown",
   "metadata": {},
   "source": [
    "**Implement gradient descent:\n",
    "$\\mathbf{w}_{(t)} = \\mathbf{w}_{(t-1)} - \\alpha \\frac{\\partial J(\\mathbf{w})}{\\partial \\mathbf{w}}$**\n",
    "\n",
    "**Determine suitable values for the parameters $\\mathbf{w}$ using gradient descent on the training set.**\n",
    "\n",
    "**Print the training error at each step. Is the training error decreasing? If not, try different values of $\\alpha$.**"
   ]
  },
  {
   "cell_type": "code",
   "execution_count": 50,
   "metadata": {},
   "outputs": [],
   "source": [
    "def gradient_descent(X,y,w,learning_rate=0.01,iterations=100):\n",
    "    for i in range(iterations):\n",
    "        #predictions = np.dot(X,w)\n",
    "        w = w - (2/N)*learning_rate*(X.T.dot((X.dot(w)-y)))\n",
    "        print(\"Training Error: {}\".format(calc_MSE(w,X,y)))\n",
    "    return w"
   ]
  },
  {
   "cell_type": "code",
   "execution_count": 51,
   "metadata": {},
   "outputs": [
    {
     "name": "stdout",
     "output_type": "stream",
     "text": [
      "Training Error: 105381.4286950627\n",
      "Training Error: 91769.28789017533\n",
      "Training Error: 80053.03822673431\n",
      "Training Error: 69967.1880018132\n",
      "Training Error: 61283.43764712765\n",
      "Training Error: 53805.46943215294\n",
      "Training Error: 47364.46708613946\n",
      "Training Error: 41815.26308349712\n",
      "Training Error: 37033.025662163964\n",
      "Training Error: 32910.40996288512\n",
      "Training Error: 29355.108269947275\n",
      "Training Error: 26287.743442595398\n",
      "Training Error: 23640.057458989355\n",
      "Training Error: 21353.353729904527\n",
      "Training Error: 19377.157631159247\n",
      "Training Error: 17668.064684152472\n",
      "Training Error: 16188.750096582538\n",
      "Training Error: 14907.117058136682\n",
      "Training Error: 13795.564352741832\n",
      "Training Error: 12830.35657212574\n",
      "Training Error: 11991.082557104228\n",
      "Training Error: 11260.189706629157\n",
      "Training Error: 10622.583526159644\n",
      "Training Error: 10065.283275873851\n",
      "Training Error: 9577.125859604124\n",
      "Training Error: 9148.511196374388\n",
      "Training Error: 8771.183263175291\n",
      "Training Error: 8438.04181173582\n",
      "Training Error: 8142.980462122001\n",
      "Training Error: 7880.747477990621\n",
      "Training Error: 7646.8260459886915\n",
      "Training Error: 7437.331326931745\n",
      "Training Error: 7248.92192917584\n",
      "Training Error: 7078.72378375533\n",
      "Training Error: 6924.264683903528\n",
      "Training Error: 6783.417994966137\n",
      "Training Error: 6654.354250012892\n",
      "Training Error: 6535.499526427746\n",
      "Training Error: 6425.4996535199425\n",
      "Training Error: 6323.18943427945\n",
      "Training Error: 6227.566178837733\n",
      "Training Error: 6137.7669456006915\n",
      "Training Error: 6053.048970640615\n",
      "Training Error: 5972.772838699358\n",
      "Training Error: 5896.388011726634\n",
      "Training Error: 5823.420384683098\n",
      "Training Error: 5753.461584606023\n",
      "Training Error: 5686.159768721729\n",
      "Training Error: 5621.2117116014415\n",
      "Training Error: 5558.356000777038\n",
      "Training Error: 5497.367185531301\n",
      "Training Error: 5438.050745331541\n",
      "Training Error: 5380.23876308201\n",
      "Training Error: 5323.786204456469\n",
      "Training Error: 5268.567718404752\n",
      "Training Error: 5214.47488582179\n",
      "Training Error: 5161.413853595871\n",
      "Training Error: 5109.30330004829\n",
      "Training Error: 5058.072685339793\n",
      "Training Error: 5007.6607469229275\n",
      "Training Error: 4958.014205711968\n",
      "Training Error: 4909.086653451186\n",
      "Training Error: 4860.837595897648\n",
      "Training Error: 4813.231629990778\n",
      "Training Error: 4766.237736238775\n",
      "Training Error: 4719.82867018151\n",
      "Training Error: 4673.980439050638\n",
      "Training Error: 4628.671851692029\n",
      "Training Error: 4583.884131487592\n",
      "Training Error: 4539.600583451306\n",
      "Training Error: 4495.806307910632\n",
      "Training Error: 4452.487954247556\n",
      "Training Error: 4409.633509087751\n",
      "Training Error: 4367.232114112457\n",
      "Training Error: 4325.273909343671\n",
      "Training Error: 4283.749898334513\n",
      "Training Error: 4242.6518321965295\n",
      "Training Error: 4201.972109825505\n",
      "Training Error: 4161.703692056964\n",
      "Training Error: 4121.840027800404\n",
      "Training Error: 4082.3749904745814\n",
      "Training Error: 4043.302823301232\n",
      "Training Error: 4004.618092216671\n",
      "Training Error: 3966.315645334506\n",
      "Training Error: 3928.3905780421715\n",
      "Training Error: 3890.8382029424492\n",
      "Training Error: 3853.6540239616684\n",
      "Training Error: 3816.833714041303\n",
      "Training Error: 3780.3730959113777\n",
      "Training Error: 3744.2681255143743\n",
      "Training Error: 3708.514877708727\n",
      "Training Error: 3673.1095339329854\n",
      "Training Error: 3638.0483715563646\n",
      "Training Error: 3603.3277546798363\n",
      "Training Error: 3568.944126184968\n",
      "Training Error: 3534.8940008560917\n",
      "Training Error: 3501.173959425823\n",
      "Training Error: 3467.7806434149948\n",
      "Training Error: 3434.7107506560624\n",
      "Training Error: 3401.961031404635\n",
      "Training Error: 3369.5282849571186\n",
      "Training Error: 3337.4093567039235\n",
      "Training Error: 3305.60113555761\n",
      "Training Error: 3274.1005517037934\n",
      "Training Error: 3242.9045746299707\n",
      "Training Error: 3212.0102113936814\n",
      "Training Error: 3181.41450509683\n",
      "Training Error: 3151.114533537656\n",
      "Training Error: 3121.1074080157914\n",
      "Training Error: 3091.390272269312\n",
      "Training Error: 3061.9603015256534\n",
      "Training Error: 3032.8147016507405\n",
      "Training Error: 3003.950708382943\n",
      "Training Error: 2975.365586640278\n",
      "Training Error: 2947.0566298909575\n",
      "Training Error: 2919.021159578697\n",
      "Training Error: 2891.256524595465\n",
      "Training Error: 2863.7601007953276\n",
      "Training Error: 2836.529290543969\n",
      "Training Error: 2809.5615222991783\n",
      "Training Error: 2782.854250218287\n",
      "Training Error: 2756.404953789099\n",
      "Training Error: 2730.2111374813044\n",
      "Training Error: 2704.270330415831\n",
      "Training Error: 2678.5800860498966\n",
      "Training Error: 2653.1379818758824\n",
      "Training Error: 2627.941619132365\n",
      "Training Error: 2602.9886225258992\n",
      "Training Error: 2578.276639962343\n",
      "Training Error: 2553.80334228665\n",
      "Training Error: 2529.5664230302527\n",
      "Training Error: 2505.5635981652204\n",
      "Training Error: 2481.7926058645567\n",
      "Training Error: 2458.2512062680066\n",
      "Training Error: 2434.9371812529134\n",
      "Training Error: 2411.8483342096592\n",
      "Training Error: 2388.98248982132\n",
      "Training Error: 2366.337493847214\n",
      "Training Error: 2343.911212910047\n",
      "Training Error: 2321.7015342864265\n",
      "Training Error: 2299.7063657005024\n",
      "Training Error: 2277.9236351205764\n",
      "Training Error: 2256.351290558495\n",
      "Training Error: 2234.9872998717\n",
      "Training Error: 2213.829650567789\n",
      "Training Error: 2192.8763496115075\n",
      "Training Error: 2172.1254232340393\n",
      "Training Error: 2151.574916744545\n",
      "Training Error: 2131.222894343841\n",
      "Training Error: 2111.067438940174\n",
      "Training Error: 2091.1066519670208\n",
      "Training Error: 2071.338653202859\n",
      "Training Error: 2051.761580592859\n",
      "Training Error: 2032.3735900724648\n",
      "Training Error: 2013.1728553928042\n",
      "Training Error: 1994.1575679479022\n",
      "Training Error: 1975.3259366036723\n",
      "Training Error: 1956.6761875286338\n",
      "Training Error: 1938.2065640263481\n",
      "Training Error: 1919.9153263695282\n",
      "Training Error: 1901.8007516358127\n",
      "Training Error: 1883.8611335451658\n",
      "Training Error: 1866.0947822988974\n",
      "Training Error: 1848.5000244202613\n",
      "Training Error: 1831.0752025966356\n",
      "Training Error: 1813.8186755232373\n",
      "Training Error: 1796.7288177483883\n",
      "Training Error: 1779.8040195202766\n",
      "Training Error: 1763.0426866352227\n",
      "Training Error: 1746.443240287425\n",
      "Training Error: 1730.0041169201718\n",
      "Training Error: 1713.7237680784863\n",
      "Training Error: 1697.6006602632272\n",
      "Training Error: 1681.633274786583\n",
      "Training Error: 1665.8201076289831\n",
      "Training Error: 1650.1596692973915\n",
      "Training Error: 1634.650484684974\n",
      "Training Error: 1619.2910929321272\n",
      "Training Error: 1604.0800472888504\n",
      "Training Error: 1589.0159149784513\n",
      "Training Error: 1574.0972770625729\n",
      "Training Error: 1559.3227283075198\n",
      "Training Error: 1544.690877051888\n",
      "Training Error: 1530.2003450754617\n",
      "Training Error: 1515.849767469391\n",
      "Training Error: 1501.6377925076156\n",
      "Training Error: 1487.5630815195345\n",
      "Training Error: 1473.6243087639075\n",
      "Training Error: 1459.8201613039726\n",
      "Training Error: 1446.149338883773\n",
      "Training Error: 1432.6105538056795\n",
      "Training Error: 1419.2025308090906\n",
      "Training Error: 1405.9240069503126\n",
      "Training Error: 1392.7737314835958\n",
      "Training Error: 1379.7504657433208\n",
      "Training Error: 1366.8529830273205\n",
      "Training Error: 1354.0800684813357\n",
      "Training Error: 1341.4305189845795\n",
      "Training Error: 1328.9031430364116\n",
      "Training Error: 1316.4967606441066\n",
      "Training Error: 1304.2102032117048\n",
      "Training Error: 1292.0423134299397\n",
      "Training Error: 1279.991945167224\n",
      "Training Error: 1268.057963361694\n",
      "Training Error: 1256.239243914293\n",
      "Training Error: 1244.5346735828878\n",
      "Training Error: 1232.9431498774088\n",
      "Training Error: 1221.4635809560057\n",
      "Training Error: 1210.094885522197\n",
      "Training Error: 1198.8359927230265\n",
      "Training Error: 1187.6858420481904\n",
      "Training Error: 1176.6433832301457\n",
      "Training Error: 1165.7075761451847\n",
      "Training Error: 1154.8773907154596\n",
      "Training Error: 1144.1518068119572\n",
      "Training Error: 1133.5298141584094\n",
      "Training Error: 1123.0104122361313\n",
      "Training Error: 1112.5926101897808\n",
      "Training Error: 1102.2754267340272\n",
      "Training Error: 1092.0578900611163\n",
      "Training Error: 1081.9390377493398\n",
      "Training Error: 1071.9179166723748\n",
      "Training Error: 1061.993582909511\n",
      "Training Error: 1052.1651016567366\n",
      "Training Error: 1042.4315471386885\n",
      "Training Error: 1032.7920025214494\n",
      "Training Error: 1023.2455598261871\n",
      "Training Error: 1013.791319843632\n",
      "Training Error: 1004.4283920493751\n",
      "Training Error: 995.1558945199886\n",
      "Training Error: 985.9729538499539\n",
      "Training Error: 976.8787050693926\n",
      "Training Error: 967.8722915625924\n",
      "Training Error: 958.9528649873209\n",
      "Training Error: 950.1195851949154\n",
      "Training Error: 941.3716201511487\n",
      "Training Error: 932.708145857856\n",
      "Training Error: 924.1283462753208\n",
      "Training Error: 915.6314132454089\n",
      "Training Error: 907.2165464154452\n",
      "Training Error: 898.8829531628272\n",
      "Training Error: 890.6298485203642\n",
      "Training Error: 882.4564551023391\n",
      "Training Error: 874.3620030312843\n",
      "Training Error: 866.3457298654648\n",
      "Training Error: 858.4068805270603\n",
      "Training Error: 850.5447072310428\n",
      "Training Error: 842.7584694147413\n",
      "Training Error: 835.0474336680837\n",
      "Training Error: 827.4108736645163\n",
      "Training Error: 819.8480700925884\n",
      "Training Error: 812.3583105881985\n",
      "Training Error: 804.9408896674939\n",
      "Training Error: 797.5951086604183\n",
      "Training Error: 790.3202756449039\n",
      "Training Error: 783.1157053816949\n",
      "Training Error: 775.9807192498048\n",
      "Training Error: 768.9146451825931\n",
      "Training Error: 761.9168176044626\n",
      "Training Error: 754.9865773681652\n",
      "Training Error: 748.1232716927166\n",
      "Training Error: 741.3262541019077\n",
      "Training Error: 734.5948843634116\n",
      "Training Error: 727.9285284284769\n",
      "Training Error: 721.326558372206\n",
      "Training Error: 714.7883523344093\n",
      "Training Error: 708.3132944610276\n",
      "Training Error: 701.9007748461257\n",
      "Training Error: 695.5501894744425\n",
      "Training Error: 689.2609401644963\n",
      "Training Error: 683.0324345122414\n",
      "Training Error: 676.864085835266\n",
      "Training Error: 670.755313117533\n",
      "Training Error: 664.7055409546499\n",
      "Training Error: 658.7141994996718\n",
      "Training Error: 652.7807244094245\n",
      "Training Error: 646.9045567913471\n",
      "Training Error: 641.085143150849\n",
      "Training Error: 635.3219353391739\n",
      "Training Error: 629.6143905017689\n",
      "Training Error: 623.9619710271489\n",
      "Training Error: 618.3641444962608\n",
      "Training Error: 612.8203836323302\n",
      "Training Error: 607.3301662511979\n",
      "Training Error: 601.8929752121314\n",
      "Training Error: 596.5082983691166\n",
      "Training Error: 591.175628522614\n",
      "Training Error: 585.894463371787\n",
      "Training Error: 580.664305467186\n",
      "Training Error: 575.4846621638948\n",
      "Training Error: 570.3550455751238\n",
      "Training Error: 565.2749725262566\n",
      "Training Error: 560.2439645093386\n",
      "Training Error: 555.2615476380023\n",
      "Training Error: 550.3272526028327\n",
      "Training Error: 545.4406146271616\n",
      "Training Error: 540.6011734232869\n",
      "Training Error: 535.8084731491192\n",
      "Training Error: 531.0620623652421\n",
      "Training Error: 526.3614939923921\n",
      "Training Error: 521.7063252693446\n",
      "Training Error: 517.0961177112106\n",
      "Training Error: 512.5304370681338\n",
      "Training Error: 508.0088532843859\n",
      "Training Error: 503.530940457862\n",
      "Training Error: 499.0962767999587\n",
      "Training Error: 494.7044445958483\n",
      "Training Error: 490.35503016513104\n",
      "Training Error: 486.04762382287004\n",
      "Training Error: 481.78181984100127\n",
      "Training Error: 477.55721641011775\n",
      "Training Error: 473.37341560162025\n",
      "Training Error: 469.23002333023646\n",
      "Training Error: 465.1266493169007\n",
      "Training Error: 461.0629070519914\n",
      "Training Error: 457.0384137589259\n",
      "Training Error: 453.05279035810423\n",
      "Training Error: 449.10566143120394\n",
      "Training Error: 445.1966551858163\n",
      "Training Error: 441.32540342042785\n",
      "Training Error: 437.49154148973724\n",
      "Training Error: 433.69470827030847\n",
      "Training Error: 429.9345461265558\n",
      "Training Error: 426.21070087705675\n",
      "Training Error: 422.52282176119013\n",
      "Training Error: 418.8705614060976\n",
      "Training Error: 415.2535757939632\n",
      "Training Error: 411.67152422960936\n",
      "Training Error: 408.12406930840524\n",
      "Training Error: 404.61087688448634\n",
      "Training Error: 401.1316160392798\n",
      "Training Error: 397.68595905033385\n",
      "Training Error: 394.27358136044927\n",
      "Training Error: 390.8941615471078\n",
      "Training Error: 387.54738129219675\n",
      "Training Error: 384.2329253520256\n",
      "Training Error: 380.9504815276317\n",
      "Training Error: 377.69974063537353\n",
      "Training Error: 374.4803964778083\n",
      "Training Error: 371.2921458148493\n",
      "Training Error: 368.13468833520363\n",
      "Training Error: 365.007726628084\n",
      "Training Error: 361.9109661551963\n",
      "Training Error: 358.8441152229937\n",
      "Training Error: 355.8068849552036\n",
      "Training Error: 352.7989892656155\n",
      "Training Error: 349.8201448311348\n",
      "Training Error: 346.87007106509606\n",
      "Training Error: 343.9484900908319\n",
      "Training Error: 341.05512671550076\n",
      "Training Error: 338.18970840416415\n",
      "Training Error: 335.3519652541179\n",
      "Training Error: 332.5416299694663\n",
      "Training Error: 329.75843783594695\n",
      "Training Error: 327.0021266959953\n",
      "Training Error: 324.2724369240519\n",
      "Training Error: 321.5691114021067\n",
      "Training Error: 318.8918954954812\n",
      "Training Error: 316.24053702884316\n",
      "Training Error: 313.6147862624529\n",
      "Training Error: 311.0143958686406\n",
      "Training Error: 308.43912090850904\n",
      "Training Error: 305.8887188088619\n",
      "Training Error: 303.36294933935545\n",
      "Training Error: 300.8615745898705\n",
      "Training Error: 298.384358948103\n",
      "Training Error: 295.93106907737007\n",
      "Training Error: 293.50147389463285\n",
      "Training Error: 291.0953445487284\n",
      "Training Error: 288.71245439881443\n",
      "Training Error: 286.35257899302144\n",
      "Training Error: 284.0154960473105\n",
      "Training Error: 281.7009854245356\n",
      "Training Error: 279.4088291137086\n",
      "Training Error: 277.1388112094635\n",
      "Training Error: 274.89071789172044\n",
      "Training Error: 272.66433740554453\n",
      "Training Error: 270.45946004120015\n",
      "Training Error: 268.2758781143988\n",
      "Training Error: 266.11338594673475\n",
      "Training Error: 263.9717798463129\n",
      "Training Error: 261.8508580885629\n",
      "Training Error: 259.750420897236\n",
      "Training Error: 257.67027042558937\n",
      "Training Error: 255.61021073774995\n",
      "Training Error: 253.57004779025823\n",
      "Training Error: 251.54958941379056\n",
      "Training Error: 249.5486452950589\n",
      "Training Error: 247.56702695888342\n",
      "Training Error: 245.60454775044084\n",
      "Training Error: 243.6610228176818\n",
      "Training Error: 241.73626909391947\n",
      "Training Error: 239.83010528058594\n",
      "Training Error: 237.94235183015502\n",
      "Training Error: 236.07283092922958\n",
      "Training Error: 234.22136648179432\n",
      "Training Error: 232.3877840926269\n",
      "Training Error: 230.57191105087233\n",
      "Training Error: 228.7735763137743\n",
      "Training Error: 226.99261049056426\n",
      "Training Error: 225.22884582650565\n",
      "Training Error: 223.48211618709323\n",
      "Training Error: 221.7522570424041\n",
      "Training Error: 220.03910545159914\n",
      "Training Error: 218.34250004757695\n",
      "Training Error: 216.66228102177243\n",
      "Training Error: 214.9982901091051\n",
      "Training Error: 213.35037057307088\n",
      "Training Error: 211.71836719097905\n",
      "Training Error: 210.10212623933117\n",
      "Training Error: 208.5014954793412\n",
      "Training Error: 206.91632414259607\n",
      "Training Error: 205.34646291685394\n",
      "Training Error: 203.79176393198028\n",
      "Training Error: 202.2520807460193\n",
      "Training Error: 200.72726833140004\n",
      "Training Error: 199.21718306127667\n",
      "Training Error: 197.72168269599814\n",
      "Training Error: 196.24062636971206\n",
      "Training Error: 194.7738745770947\n",
      "Training Error: 193.3212891602111\n",
      "Training Error: 191.88273329550145\n",
      "Training Error: 190.45807148089403\n",
      "Training Error: 189.04716952303988\n",
      "Training Error: 187.649894524675\n",
      "Training Error: 186.26611487210056\n",
      "Training Error: 184.89570022278687\n",
      "Training Error: 183.5385214930961\n",
      "Training Error: 182.19445084612195\n",
      "Training Error: 180.86336167965032\n",
      "Training Error: 179.545128614233\n",
      "Training Error: 178.23962748137805\n",
      "Training Error: 176.9467353118542\n",
      "Training Error: 175.66633032410797\n",
      "Training Error: 174.39829191279205\n",
      "Training Error: 173.14250063740604\n",
      "Training Error: 171.89883821104547\n",
      "Training Error: 170.6671874892599\n",
      "Training Error: 169.44743245901918\n",
      "Training Error: 168.23945822778504\n",
      "Training Error: 167.04315101269003\n",
      "Training Error: 165.85839812981914\n",
      "Training Error: 164.68508798359576\n",
      "Training Error: 163.52311005627124\n",
      "Training Error: 162.37235489751285\n",
      "Training Error: 161.23271411409652\n",
      "Training Error: 160.1040803596953\n",
      "Training Error: 158.9863473247691\n",
      "Training Error: 157.87940972655036\n",
      "Training Error: 156.78316329912775\n",
      "Training Error: 155.69750478362448\n",
      "Training Error: 154.62233191847224\n",
      "Training Error: 153.55754342977917\n",
      "Training Error: 152.50303902179\n",
      "Training Error: 151.45871936743913\n",
      "Training Error: 150.42448609899512\n",
      "Training Error: 149.40024179879435\n",
      "Training Error: 148.38588999006535\n",
      "Training Error: 147.38133512784177\n",
      "Training Error: 146.3864825899617\n",
      "Training Error: 145.40123866815586\n",
      "Training Error: 144.42551055922036\n",
      "Training Error: 143.45920635627547\n",
      "Training Error: 142.50223504010867\n",
      "Training Error: 141.55450647060124\n",
      "Training Error: 140.6159313782377\n",
      "Training Error: 139.68642135569675\n",
      "Training Error: 138.76588884952514\n",
      "Training Error: 137.85424715188924\n",
      "Training Error: 136.95141039240872\n",
      "Training Error: 136.0572935300679\n",
      "Training Error: 135.1718123452054\n",
      "Training Error: 134.29488343158144\n",
      "Training Error: 133.42642418852122\n",
      "Training Error: 132.56635281313476\n",
      "Training Error: 131.71458829261152\n",
      "Training Error: 130.8710503965896\n",
      "Training Error: 130.03565966959857\n",
      "Training Error: 129.2083374235752\n",
      "Training Error: 128.38900573045186\n",
      "Training Error: 127.57758741481601\n",
      "Training Error: 126.7740060466409\n",
      "Training Error: 125.97818593408618\n",
      "Training Error: 125.1900521163686\n",
      "Training Error: 124.40953035670104\n",
      "Training Error: 123.63654713529988\n",
      "Training Error: 122.87102964245973\n",
      "Training Error: 122.11290577169606\n",
      "Training Error: 121.36210411295217\n",
      "Training Error: 120.61855394587374\n",
      "Training Error: 119.88218523314686\n",
      "Training Error: 119.15292861390135\n",
      "Training Error: 118.43071539717744\n",
      "Training Error: 117.71547755545528\n",
      "Training Error: 117.00714771824757\n",
      "Training Error: 116.30565916575335\n",
      "Training Error: 115.61094582257368\n",
      "Training Error: 114.92294225148811\n",
      "Training Error: 114.24158364728991\n",
      "Training Error: 113.5668058306832\n",
      "Training Error: 112.8985452422367\n",
      "Training Error: 112.23673893639734\n",
      "Training Error: 111.581324575561\n",
      "Training Error: 110.93224042420088\n",
      "Training Error: 110.28942534305254\n",
      "Training Error: 109.65281878335452\n",
      "Training Error: 109.0223607811458\n",
      "Training Error: 108.39799195161699\n",
      "Training Error: 107.77965348351673\n",
      "Training Error: 107.16728713361252\n",
      "Training Error: 106.56083522120423\n",
      "Training Error: 105.96024062269113\n",
      "Training Error: 105.3654467661911\n",
      "Training Error: 104.77639762621214\n",
      "Training Error: 104.19303771837504\n",
      "Training Error: 103.61531209418706\n",
      "Training Error: 103.04316633586637\n",
      "Training Error: 102.47654655121595\n",
      "Training Error: 101.91539936854755\n",
      "Training Error: 101.35967193165477\n",
      "Training Error: 100.80931189483347\n",
      "Training Error: 100.26426741795196\n",
      "Training Error: 99.72448716156767\n",
      "Training Error: 99.18992028209165\n",
      "Training Error: 98.66051642699891\n",
      "Training Error: 98.13622573008601\n",
      "Training Error: 97.61699880677371\n",
      "Training Error: 97.10278674945559\n",
      "Training Error: 96.59354112289122\n",
      "Training Error: 96.08921395964354\n",
      "Training Error: 95.58975775556115\n",
      "Training Error: 95.09512546530334\n",
      "Training Error: 94.60527049790892\n",
      "Training Error: 94.12014671240775\n",
      "Training Error: 93.63970841347457\n",
      "Training Error: 93.16391034712466\n",
      "Training Error: 92.69270769645122\n",
      "Training Error: 92.2260560774041\n",
      "Training Error: 91.76391153460912\n",
      "Training Error: 91.30623053722753\n",
      "Training Error: 90.85296997485607\n",
      "Training Error: 90.40408715346581\n",
      "Training Error: 89.95953979138115\n",
      "Training Error: 89.51928601529679\n",
      "Training Error: 89.08328435633382\n",
      "Training Error: 88.65149374613355\n",
      "Training Error: 88.22387351298909\n",
      "Training Error: 87.80038337801437\n",
      "Training Error: 87.38098345135015\n",
      "Training Error: 86.96563422840666\n",
      "Training Error: 86.55429658614273\n",
      "Training Error: 86.14693177938048\n",
      "Training Error: 85.7435014371557\n",
      "Training Error: 85.34396755910373\n",
      "Training Error: 84.9482925118801\n",
      "Training Error: 84.55643902561566\n",
      "Training Error: 84.16837019040602\n",
      "Training Error: 83.78404945283482\n",
      "Training Error: 83.40344061253089\n",
      "Training Error: 83.02650781875815\n",
      "Training Error: 82.65321556703884\n",
      "Training Error: 82.2835286958093\n",
      "Training Error: 81.91741238310786\n",
      "Training Error: 81.5548321432948\n",
      "Training Error: 81.1957538238045\n",
      "Training Error: 80.84014360192778\n",
      "Training Error: 80.4879679816266\n",
      "Training Error: 80.13919379037885\n",
      "Training Error: 79.79378817605348\n",
      "Training Error: 79.45171860381623\n",
      "Training Error: 79.11295285306524\n",
      "Training Error: 78.77745901439577\n",
      "Training Error: 78.44520548659479\n",
      "Training Error: 78.11616097366431\n",
      "Training Error: 77.79029448187327\n",
      "Training Error: 77.46757531683858\n",
      "Training Error: 77.1479730806335\n",
      "Training Error: 76.83145766892486\n",
      "Training Error: 76.51799926813672\n",
      "Training Error: 76.20756835264281\n",
      "Training Error: 75.90013568198515\n",
      "Training Error: 75.59567229811985\n",
      "Training Error: 75.29414952268918\n",
      "Training Error: 74.99553895432088\n",
      "Training Error: 74.69981246595218\n",
      "Training Error: 74.40694220218116\n",
      "Training Error: 74.11690057664241\n",
      "Training Error: 73.82966026940879\n",
      "Training Error: 73.54519422441825\n",
      "Training Error: 73.26347564692506\n",
      "Training Error: 72.98447800097604\n",
      "Training Error: 72.70817500691086\n",
      "Training Error: 72.43454063888746\n",
      "Training Error: 72.16354912242934\n",
      "Training Error: 71.89517493199881\n",
      "Training Error: 71.6293927885922\n",
      "Training Error: 71.36617765735888\n",
      "Training Error: 71.10550474524321\n",
      "Training Error: 70.8473494986488\n",
      "Training Error: 70.59168760112631\n",
      "Training Error: 70.3384949710828\n",
      "Training Error: 70.08774775951308\n",
      "Training Error: 69.83942234775384\n",
      "Training Error: 69.59349534525848\n",
      "Training Error: 69.34994358739405\n",
      "Training Error: 69.10874413325968\n",
      "Training Error: 68.86987426352466\n",
      "Training Error: 68.63331147828971\n",
      "Training Error: 68.39903349496683\n",
      "Training Error: 68.16701824618063\n",
      "Training Error: 67.9372438776898\n",
      "Training Error: 67.7096887463286\n",
      "Training Error: 67.484331417968\n",
      "Training Error: 67.26115066549707\n",
      "Training Error: 67.04012546682323\n",
      "Training Error: 66.82123500289248\n",
      "Training Error: 66.60445865572778\n",
      "Training Error: 66.38977600648789\n",
      "Training Error: 66.1771668335429\n",
      "Training Error: 65.96661111057057\n",
      "Training Error: 65.75808900466937\n",
      "Training Error: 65.55158087449044\n",
      "Training Error: 65.34706726838773\n",
      "Training Error: 65.14452892258562\n",
      "Training Error: 64.94394675936425\n",
      "Training Error: 64.74530188526305\n",
      "Training Error: 64.54857558930046\n",
      "Training Error: 64.35374934121194\n",
      "Training Error: 64.16080478970436\n",
      "Training Error: 63.96972376072748\n",
      "Training Error: 63.780488255761966\n",
      "Training Error: 63.59308045012436\n",
      "Training Error: 63.407482691287754\n",
      "Training Error: 63.223677497219306\n",
      "Training Error: 63.04164755473334\n",
      "Training Error: 62.86137571786074\n",
      "Training Error: 62.682845006233954\n",
      "Training Error: 62.50603860348716\n",
      "Training Error: 62.33093985567305\n",
      "Training Error: 62.15753226969313\n",
      "Training Error: 61.98579951174517\n",
      "Training Error: 61.81572540578389\n",
      "Training Error: 61.64729393199789\n",
      "Training Error: 61.480489225300275\n",
      "Training Error: 61.31529557383448\n",
      "Training Error: 61.151697417494205\n",
      "Training Error: 60.98967934645787\n",
      "Training Error: 60.829226099737056\n",
      "Training Error: 60.670322563739184\n",
      "Training Error: 60.51295377084348\n",
      "Training Error: 60.35710489799161\n",
      "Training Error: 60.20276126529125\n",
      "Training Error: 60.04990833463326\n",
      "Training Error: 59.898531708322515\n",
      "Training Error: 59.74861712772147\n",
      "Training Error: 59.600150471907355\n",
      "Training Error: 59.453117756341875\n",
      "Training Error: 59.30750513155408\n",
      "Training Error: 59.163298881835836\n",
      "Training Error: 59.02048542394983\n",
      "Training Error: 58.87905130585019\n",
      "Training Error: 58.73898320541531\n",
      "Training Error: 58.60026792919311\n",
      "Training Error: 58.46289241115832\n",
      "Training Error: 58.32684371148157\n",
      "Training Error: 58.19210901531066\n",
      "Training Error: 58.058675631563474\n",
      "Training Error: 57.92653099173273\n",
      "Training Error: 57.79566264870185\n",
      "Training Error: 57.66605827557253\n",
      "Training Error: 57.537705664504\n",
      "Training Error: 57.41059272556266\n",
      "Training Error: 57.28470748558351\n",
      "Training Error: 57.16003808704252\n",
      "Training Error: 57.03657278693943\n",
      "Training Error: 56.91429995569169\n",
      "Training Error: 56.79320807603943\n",
      "Training Error: 56.67328574195987\n",
      "Training Error: 56.55452165759372\n",
      "Training Error: 56.436904636180884\n",
      "Training Error: 56.3204235990063\n",
      "Training Error: 56.205067574357265\n",
      "Training Error: 56.090825696489205\n",
      "Training Error: 55.97768720460277\n",
      "Training Error: 55.86564144182982\n",
      "Training Error: 55.75467785422976\n",
      "Training Error: 55.64478598979559\n",
      "Training Error: 55.53595549746913\n",
      "Training Error: 55.42817612616626\n",
      "Training Error: 55.321437723811215\n",
      "Training Error: 55.215730236380224\n",
      "Training Error: 55.11104370695479\n",
      "Training Error: 55.00736827478363\n",
      "Training Error: 54.90469417435371\n",
      "Training Error: 54.803011734470665\n",
      "Training Error: 54.70231137734773\n",
      "Training Error: 54.60258361770368\n",
      "Training Error: 54.50381906186905\n",
      "Training Error: 54.40600840690175\n",
      "Training Error: 54.30914243971063\n",
      "Training Error: 54.21321203618727\n",
      "Training Error: 54.11820816034747\n",
      "Training Error: 54.02412186347916\n",
      "Training Error: 53.93094428329999\n",
      "Training Error: 53.83866664312264\n",
      "Training Error: 53.747280251027604\n",
      "Training Error: 53.65677649904526\n",
      "Training Error: 53.56714686234427\n",
      "Training Error: 53.478382898429025\n",
      "Training Error: 53.39047624634447\n",
      "Training Error: 53.3034186258883\n",
      "Training Error: 53.217201836831194\n",
      "Training Error: 53.13181775814439\n",
      "Training Error: 53.04725834723473\n",
      "Training Error: 52.96351563918695\n",
      "Training Error: 52.88058174601372\n",
      "Training Error: 52.79844885591254\n",
      "Training Error: 52.71710923252975\n",
      "Training Error: 52.636555214232125\n",
      "Training Error: 52.55677921338486\n",
      "Training Error: 52.47777371563721\n",
      "Training Error: 52.39953127921443\n",
      "Training Error: 52.32204453421689\n",
      "Training Error: 52.24530618192609\n",
      "Training Error: 52.16930899411664\n",
      "Training Error: 52.094045812375946\n",
      "Training Error: 52.019509547429905\n",
      "Training Error: 51.945693178474585\n",
      "Training Error: 51.872589752515644\n",
      "Training Error: 51.80019238371287\n",
      "Training Error: 51.72849425273194\n",
      "Training Error: 51.65748860610184\n",
      "Training Error: 51.587168755578745\n",
      "Training Error: 51.51752807751624\n",
      "Training Error: 51.44856001224122\n",
      "Training Error: 51.38025806343609\n",
      "Training Error: 51.31261579752692\n",
      "Training Error: 51.24562684307717\n",
      "Training Error: 51.17928489018809\n",
      "Training Error: 51.11358368990359\n",
      "Training Error: 51.04851705362241\n",
      "Training Error: 50.98407885251477\n",
      "Training Error: 50.920263016945164\n",
      "Training Error: 50.85706353590042\n",
      "Training Error: 50.794474456424176\n",
      "Training Error: 50.73248988305534\n",
      "Training Error: 50.67110397727323\n",
      "Training Error: 50.61031095694757\n",
      "Training Error: 50.550105095793846\n",
      "Training Error: 50.490480722833766\n",
      "Training Error: 50.431432221861414\n",
      "Training Error: 50.37295403091388\n",
      "Training Error: 50.31504064174765\n",
      "Training Error: 50.25768659931961\n",
      "Training Error: 50.20088650127326\n",
      "Training Error: 50.14463499742997\n",
      "Training Error: 50.0889267892847\n",
      "Training Error: 50.03375662950724\n",
      "Training Error: 49.97911932144789\n",
      "Training Error: 49.925009718647836\n",
      "Training Error: 49.87142272435448\n",
      "Training Error: 49.81835329104144\n",
      "Training Error: 49.76579641993287\n",
      "Training Error: 49.71374716053291\n",
      "Training Error: 49.66220061015911\n",
      "Training Error: 49.61115191348086\n",
      "Training Error: 49.56059626206186\n",
      "Training Error: 49.5105288939074\n",
      "Training Error: 49.460945093015454\n",
      "Training Error: 49.41184018893302\n",
      "Training Error: 49.36320955631567\n",
      "Training Error: 49.31504861449212\n",
      "Training Error: 49.267352827032795\n",
      "Training Error: 49.22011770132245\n",
      "Training Error: 49.173338788136945\n",
      "Training Error: 49.12701168122433\n",
      "Training Error: 49.08113201688956\n",
      "Training Error: 49.0356954735836\n",
      "Training Error: 48.9906977714967\n",
      "Training Error: 48.94613467215447\n",
      "Training Error: 48.90200197801942\n",
      "Training Error: 48.85829553209509\n",
      "Training Error: 48.815011217534895\n",
      "Training Error: 48.77214495725392\n",
      "Training Error: 48.7296927135451\n",
      "Training Error: 48.687650487699\n",
      "Training Error: 48.64601431962692\n",
      "Training Error: 48.60478028748823\n",
      "Training Error: 48.5639445073204\n",
      "Training Error: 48.52350313267378\n",
      "Training Error: 48.48345235424894\n",
      "Training Error: 48.44378839953785\n",
      "Training Error: 48.40450753246869\n",
      "Training Error: 48.365606053053845\n",
      "Training Error: 48.32708029704138\n",
      "Training Error: 48.28892663556998\n",
      "Training Error: 48.251141474827\n",
      "Training Error: 48.213721255710105\n",
      "Training Error: 48.17666245349193\n",
      "Training Error: 48.139961577488094\n",
      "Training Error: 48.103615170728276\n",
      "Training Error: 48.067619809631\n",
      "Training Error: 48.03197210368066\n",
      "Training Error: 47.99666869510842\n",
      "Training Error: 47.96170625857592\n",
      "Training Error: 47.92708150086205\n",
      "Training Error: 47.892791160552555\n",
      "Training Error: 47.858832007733234\n",
      "Training Error: 47.82520084368535\n",
      "Training Error: 47.791894500584434\n",
      "Training Error: 47.758909841202\n",
      "Training Error: 47.72624375860981\n",
      "Training Error: 47.69389317588755\n",
      "Training Error: 47.661855045832716\n",
      "Training Error: 47.630126350673784\n",
      "Training Error: 47.598704101785664\n",
      "Training Error: 47.56758533940862\n",
      "Training Error: 47.53676713236918\n",
      "Training Error: 47.506246577804184\n",
      "Training Error: 47.47602080088707\n",
      "Training Error: 47.44608695455753\n",
      "Training Error: 47.416442219253085\n",
      "Training Error: 47.38708380264342\n",
      "Training Error: 47.35800893936753\n",
      "Training Error: 47.32921489077327\n",
      "Training Error: 47.30069894465909\n",
      "Training Error: 47.272458415019\n",
      "Training Error: 47.244490641789206\n",
      "Training Error: 47.216792990597796\n",
      "Training Error: 47.18936285251652\n",
      "Training Error: 47.162197643814835\n",
      "Training Error: 47.13529480571686\n",
      "Training Error: 47.10865180416028\n",
      "Training Error: 47.08226612955738\n",
      "Training Error: 47.0561352965592\n",
      "Training Error: 47.030256843820744\n",
      "Training Error: 47.00462833376978\n",
      "Training Error: 46.97924735237686\n",
      "Training Error: 46.954111508928\n",
      "Training Error: 46.929218435799555\n",
      "Training Error: 46.90456578823519\n",
      "Training Error: 46.880151244125\n",
      "Training Error: 46.855972503786816\n",
      "Training Error: 46.83202728974947\n",
      "Training Error: 46.808313346538434\n",
      "Training Error: 46.784828440463286\n",
      "Training Error: 46.761570359407386\n",
      "Training Error: 46.738536912619246\n",
      "Training Error: 46.71572593050677\n",
      "Training Error: 46.69313526443208\n",
      "Training Error: 46.67076278650984\n",
      "Training Error: 46.64860638940644\n",
      "Training Error: 46.62666398614149\n",
      "Training Error: 46.60493350989158\n",
      "Training Error: 46.583412913795186\n",
      "Training Error: 46.562100170760154\n",
      "Training Error: 46.540993273272626\n",
      "Training Error: 46.520090233207895\n",
      "Training Error: 46.49938908164338\n",
      "Training Error: 46.47888786867285\n",
      "Training Error: 46.45858466322299\n",
      "Training Error: 46.438477552871504\n",
      "Training Error: 46.41856464366674\n",
      "Training Error: 46.398844059949674\n",
      "Training Error: 46.37931394417676\n",
      "Training Error: 46.3599724567455\n",
      "Training Error: 46.34081777582067\n",
      "Training Error: 46.321848097163006\n",
      "Training Error: 46.303061633959246\n",
      "Training Error: 46.28445661665367\n",
      "Training Error: 46.26603129278159\n",
      "Training Error: 46.24778392680415\n",
      "Training Error: 46.229712799944956\n",
      "Training Error: 46.21181621002811\n",
      "Training Error: 46.19409247131779\n",
      "Training Error: 46.17653991435974\n",
      "Training Error: 46.15915688582375\n",
      "Training Error: 46.141941748348074\n",
      "Training Error: 46.12489288038509\n",
      "Training Error: 46.10800867604858\n",
      "Training Error: 46.09128754496263\n",
      "Training Error: 46.07472791211168\n",
      "Training Error: 46.05832821769215\n",
      "Training Error: 46.04208691696566\n",
      "Training Error: 46.02600248011313\n",
      "Training Error: 46.01007339209136\n",
      "Training Error: 45.99429815248965\n",
      "Training Error: 45.97867527538902\n",
      "Training Error: 45.963203289221745\n",
      "Training Error: 45.947880736633145\n",
      "Training Error: 45.93270617434411\n",
      "Training Error: 45.91767817301523\n",
      "Training Error: 45.90279531711203\n",
      "Training Error: 45.88805620477182\n",
      "Training Error: 45.873459447671614\n",
      "Training Error: 45.859003670897174\n",
      "Training Error: 45.84468751281376\n",
      "Training Error: 45.83050962493766\n",
      "Training Error: 45.81646867180933\n",
      "Training Error: 45.802563330867514\n",
      "Training Error: 45.78879229232471\n",
      "Training Error: 45.7751542590437\n",
      "Training Error: 45.76164794641564\n",
      "Training Error: 45.748272082238636\n",
      "Training Error: 45.73502540659825\n",
      "Training Error: 45.721906671748776\n",
      "Training Error: 45.708914641995534\n",
      "Training Error: 45.69604809357857\n",
      "Training Error: 45.68330581455758\n",
      "Training Error: 45.67068660469745\n",
      "Training Error: 45.65818927535541\n",
      "Training Error: 45.64581264936887\n",
      "Training Error: 45.63355556094484\n",
      "Training Error: 45.6214168555498\n",
      "Training Error: 45.609395389801215\n",
      "Training Error: 45.59749003135961\n",
      "Training Error: 45.58569965882209\n",
      "Training Error: 45.57402316161655\n",
      "Training Error: 45.562459439897346\n",
      "Training Error: 45.551007404441314\n",
      "Training Error: 45.539665976545464\n",
      "Training Error: 45.52843408792532\n",
      "Training Error: 45.51731068061416\n",
      "Training Error: 45.50629470686343\n",
      "Training Error: 45.49538512904415\n",
      "Training Error: 45.48458091954915\n",
      "Training Error: 45.47388106069616\n",
      "Training Error: 45.463284544632046\n",
      "Training Error: 45.45279037323774\n",
      "Training Error: 45.44239755803462\n",
      "Training Error: 45.43210512009085\n",
      "Training Error: 45.42191208992951\n",
      "Training Error: 45.41181750743729\n",
      "Training Error: 45.40182042177391\n",
      "Training Error: 45.3919198912826\n",
      "Training Error: 45.382114983401486\n",
      "Training Error: 45.37240477457563\n",
      "Training Error: 45.362788350170135\n",
      "Training Error: 45.35326480438395\n",
      "Training Error: 45.34383324016448\n",
      "Training Error: 45.33449276912334\n",
      "Training Error: 45.32524251145224\n",
      "Training Error: 45.316081595840515\n",
      "Training Error: 45.30700915939298\n",
      "Training Error: 45.29802434754847\n",
      "Training Error: 45.28912631399946\n",
      "Training Error: 45.280314220612354\n",
      "Training Error: 45.27158723734852\n",
      "Training Error: 45.262944542186155\n",
      "Training Error: 45.25438532104285\n",
      "Training Error: 45.24590876769877\n",
      "Training Error: 45.237514083720846\n",
      "Training Error: 45.22920047838757\n",
      "Training Error: 45.22096716861451\n",
      "Training Error: 45.21281337888046\n",
      "Training Error: 45.20473834115445\n",
      "Training Error: 45.19674129482354\n",
      "Training Error: 45.18882148662094\n",
      "Training Error: 45.18097817055501\n",
      "Training Error: 45.17321060783947\n",
      "Training Error: 45.165518066823196\n",
      "Training Error: 45.15789982292182\n",
      "Training Error: 45.150355158549075\n",
      "Training Error: 45.14288336304946\n",
      "Training Error: 45.13548373263119\n",
      "Training Error: 45.128155570300024\n",
      "Training Error: 45.12089818579336\n",
      "Training Error: 45.1137108955155\n",
      "Training Error: 45.10659302247314\n",
      "Training Error: 45.09954389621154\n",
      "Training Error: 45.09256285275153\n",
      "Training Error: 45.0856492345267\n",
      "Training Error: 45.07880239032187\n",
      "Training Error: 45.072021675211346\n",
      "Training Error: 45.06530645049834\n",
      "Training Error: 45.058656083654846\n",
      "Training Error: 45.052069948262144\n",
      "Training Error: 45.04554742395141\n",
      "Training Error: 45.03908789634573\n",
      "Training Error: 45.032690757002165\n",
      "Training Error: 45.02635540335399\n",
      "Training Error: 45.02008123865451\n",
      "Training Error: 45.01386767192055\n",
      "Training Error: 45.007714117876766\n",
      "Training Error: 45.00161999690081\n",
      "Training Error: 44.99558473496833\n",
      "Training Error: 44.989607763599125\n",
      "Training Error: 44.98368851980357\n",
      "Training Error: 44.977826446029695\n",
      "Training Error: 44.972020990110295\n",
      "Training Error: 44.96627160521146\n",
      "Training Error: 44.96057774978059\n",
      "Training Error: 44.954938887495636\n",
      "Training Error: 44.94935448721461\n",
      "Training Error: 44.94382402292539\n",
      "Training Error: 44.93834697369618\n",
      "Training Error: 44.932922823626704\n",
      "Training Error: 44.92755106179925\n",
      "Training Error: 44.92223118223078\n",
      "Training Error: 44.91696268382524\n",
      "Training Error: 44.91174507032632\n",
      "Training Error: 44.906577850270644\n",
      "Training Error: 44.90146053694164\n",
      "Training Error: 44.896392648323626\n",
      "Training Error: 44.891373707056175\n",
      "Training Error: 44.88640324038978\n",
      "Training Error: 44.88148078014042\n",
      "Training Error: 44.87660586264622\n",
      "Training Error: 44.87177802872362\n",
      "Training Error: 44.866996823623694\n",
      "Training Error: 44.86226179698985\n",
      "Training Error: 44.857572502815145\n",
      "Training Error: 44.852928499400306\n",
      "Training Error: 44.8483293493121\n",
      "Training Error: 44.84377461934225\n",
      "Training Error: 44.8392638804665\n",
      "Training Error: 44.83479670780422\n",
      "Training Error: 44.83037268057851\n",
      "Training Error: 44.82599138207638\n",
      "Training Error: 44.82165239960968\n",
      "Training Error: 44.81735532447602\n",
      "Training Error: 44.8130997519206\n",
      "Training Error: 44.80888528109761\n",
      "Training Error: 44.804711515032885\n",
      "Training Error: 44.80057806058641\n",
      "Training Error: 44.79648452841516\n",
      "Training Error: 44.79243053293654\n",
      "Training Error: 44.78841569229212\n",
      "Training Error: 44.78443962831143\n",
      "Training Error: 44.78050196647662\n",
      "Training Error: 44.776602335887\n",
      "Training Error: 44.772740369224145\n",
      "Training Error: 44.76891570271743\n",
      "Training Error: 44.765127976109504\n",
      "Training Error: 44.76137683262255\n",
      "Training Error: 44.75766191892473\n",
      "Training Error: 44.753982885096605\n",
      "Training Error: 44.750339384598526\n",
      "Training Error: 44.746731074237836\n",
      "Training Error: 44.74315761413644\n",
      "Training Error: 44.73961866769898\n",
      "Training Error: 44.736113901581106\n",
      "Training Error: 44.73264298565781\n",
      "Training Error: 44.72920559299282\n",
      "Training Error: 44.72580139980723\n",
      "Training Error: 44.722430085449545\n",
      "Training Error: 44.71909133236517\n",
      "Training Error: 44.71578482606644\n",
      "Training Error: 44.71251025510317\n",
      "Training Error: 44.709267311033344\n",
      "Training Error: 44.706055688393846\n",
      "Training Error: 44.70287508467202\n",
      "Training Error: 44.69972520027687\n",
      "Training Error: 44.69660573851082\n",
      "Training Error: 44.69351640554213\n",
      "Training Error: 44.69045691037678\n",
      "Training Error: 44.687426964831424\n",
      "Training Error: 44.68442628350599\n",
      "Training Error: 44.68145458375693\n",
      "Training Error: 44.67851158567058\n",
      "Training Error: 44.67559701203676\n",
      "Training Error: 44.67271058832262\n",
      "Training Error: 44.66985204264691\n",
      "Training Error: 44.66702110575436\n",
      "Training Error: 44.66421751099006\n",
      "Training Error: 44.66144099427472\n",
      "Training Error: 44.65869129407952\n",
      "Training Error: 44.6559681514017\n",
      "Training Error: 44.65327130973982\n",
      "Training Error: 44.65060051507\n",
      "Training Error: 44.647955515821714\n",
      "Training Error: 44.64533606285424\n",
      "Training Error: 44.64274190943308\n",
      "Training Error: 44.6401728112069\n",
      "Training Error: 44.63762852618424\n",
      "Training Error: 44.635108814710975\n",
      "Training Error: 44.63261343944756\n",
      "Training Error: 44.630142165346854\n",
      "Training Error: 44.627694759631815\n",
      "Training Error: 44.625270991773604\n",
      "Training Error: 44.622870633470036\n",
      "Training Error: 44.62049345862378\n",
      "Training Error: 44.618139243321366\n",
      "Training Error: 44.61580776581187\n",
      "Training Error: 44.61349880648615\n",
      "Training Error: 44.611212147856094\n",
      "Training Error: 44.608947574534206\n",
      "Training Error: 44.60670487321324\n",
      "Training Error: 44.60448383264618\n",
      "Training Error: 44.60228424362617\n",
      "Training Error: 44.60010589896715\n",
      "Training Error: 44.59794859348403\n",
      "Training Error: 44.595812123973374\n",
      "Training Error: 44.5936962891945\n",
      "Training Error: 44.591600889850376\n",
      "Training Error: 44.58952572856866\n",
      "Training Error: 44.587470609883574\n",
      "Training Error: 44.58543534021694\n",
      "Training Error: 44.58341972786041\n",
      "Training Error: 44.58142358295718\n",
      "Training Error: 44.579446717484046\n",
      "Training Error: 44.5774889452339\n",
      "Training Error: 44.57555008179814\n",
      "Training Error: 44.57362994454902\n",
      "Training Error: 44.57172835262294\n",
      "Training Error: 44.569845126902955\n",
      "Training Error: 44.567980090002074\n",
      "Training Error: 44.566133066246806\n",
      "Training Error: 44.5643038816601\n",
      "Training Error: 44.56249236394541\n",
      "Training Error: 44.560698342470104\n",
      "Training Error: 44.558921648249836\n",
      "Training Error: 44.557162113932115\n",
      "Training Error: 44.555419573780966\n",
      "Training Error: 44.55369386366112\n",
      "Training Error: 44.55198482102244\n",
      "Training Error: 44.55029228488494\n",
      "Training Error: 44.54861609582333\n",
      "Training Error: 44.54695609595209\n",
      "Training Error: 44.545312128910766\n",
      "Training Error: 44.5436840398488\n",
      "Training Error: 44.54207167541146\n",
      "Training Error: 44.54047488372515\n",
      "Training Error: 44.53889351438306\n",
      "Training Error: 44.53732741843104\n",
      "Training Error: 44.53577644835361\n",
      "Training Error: 44.53424045806003\n",
      "Training Error: 44.53271930287067\n",
      "Training Error: 44.5312128395031\n",
      "Training Error: 44.52972092605883\n",
      "Training Error: 44.52824342200984\n",
      "Training Error: 44.5267801881855\n",
      "Training Error: 44.525331086759195\n",
      "Training Error: 44.52389598123549\n",
      "Training Error: 44.522474736437395\n",
      "Training Error: 44.52106721849331\n",
      "Training Error: 44.5196732948248\n",
      "Training Error: 44.51829283413381\n",
      "Training Error: 44.5169257063905\n",
      "Training Error: 44.51557178282077\n",
      "Training Error: 44.51423093589434\n",
      "Training Error: 44.5129030393126\n",
      "Training Error: 44.51158796799694\n",
      "Training Error: 44.51028559807659\n",
      "Training Error: 44.50899580687729\n",
      "Training Error: 44.50771847290953\n",
      "Training Error: 44.506453475857306\n",
      "Training Error: 44.505200696566526\n",
      "Training Error: 44.503960017034025\n",
      "Training Error: 44.502731320396364\n",
      "Training Error: 44.50151449091869\n",
      "Training Error: 44.50030941398404\n",
      "Training Error: 44.49911597608256\n",
      "Training Error: 44.497934064800454\n",
      "Training Error: 44.49676356880987\n",
      "Training Error: 44.49560437785816\n",
      "Training Error: 44.49445638275746\n",
      "Training Error: 44.49331947537454\n",
      "Training Error: 44.49219354862059\n",
      "Training Error: 44.491078496440934\n",
      "Training Error: 44.489974213805475\n",
      "Training Error: 44.48888059669827\n",
      "Training Error: 44.487797542108154\n",
      "Training Error: 44.48672494801878\n",
      "Training Error: 44.48566271339918\n",
      "Training Error: 44.484610738194164\n",
      "Training Error: 44.48356892331498\n",
      "Training Error: 44.48253717062971\n",
      "Training Error: 44.48151538295435\n",
      "Training Error: 44.480503464043615\n",
      "Training Error: 44.47950131858162\n",
      "Training Error: 44.47850885217323\n",
      "Training Error: 44.477525971334835\n",
      "Training Error: 44.47655258348586\n",
      "Training Error: 44.47558859693988\n",
      "Training Error: 44.474633920895975\n",
      "Training Error: 44.47368846543026\n",
      "Training Error: 44.47275214148726\n",
      "Training Error: 44.471824860871784\n",
      "Training Error: 44.47090653624027\n",
      "Training Error: 44.46999708109293\n",
      "Training Error: 44.46909640976528\n",
      "Training Error: 44.468204437420376\n",
      "Training Error: 44.46732108004041\n",
      "Training Error: 44.466446254419324\n",
      "Training Error: 44.46557987815453\n",
      "Training Error: 44.46472186963924\n",
      "Training Error: 44.463872148055074\n",
      "Training Error: 44.463030633364035\n",
      "Training Error: 44.46219724630126\n",
      "Training Error: 44.461371908367376\n",
      "Training Error: 44.46055454182123\n",
      "Training Error: 44.45974506967259\n",
      "Training Error: 44.458943415674646\n",
      "Training Error: 44.45814950431712\n",
      "Training Error: 44.45736326081909\n",
      "Training Error: 44.456584611121706\n",
      "Training Error: 44.45581348188167\n",
      "Training Error: 44.455049800463804\n",
      "Training Error: 44.454293494934575\n",
      "Training Error: 44.453544494055215\n",
      "Training Error: 44.452802727275014\n",
      "Training Error: 44.452068124724605\n",
      "Training Error: 44.45134061720952\n",
      "Training Error: 44.450620136203526\n",
      "Training Error: 44.44990661384222\n",
      "Training Error: 44.44919998291678\n",
      "Training Error: 44.44850017686739\n",
      "Training Error: 44.44780712977718\n",
      "Training Error: 44.4471207763658\n",
      "Training Error: 44.44644105198354\n",
      "Training Error: 44.44576789260496\n",
      "Training Error: 44.44510123482323\n",
      "Training Error: 44.444441015843616\n",
      "Training Error: 44.44378717347803\n",
      "Training Error: 44.443139646139144\n",
      "Training Error: 44.442498372834216\n",
      "Training Error: 44.441863293159784\n",
      "Training Error: 44.44123434729565\n",
      "Training Error: 44.440611475999425\n",
      "Training Error: 44.43999462060103\n",
      "Training Error: 44.439383722996816\n",
      "Training Error: 44.43877872564446\n",
      "Training Error: 44.438179571557384\n",
      "Training Error: 44.437586204299414\n",
      "Training Error: 44.43699856797935\n",
      "Training Error: 44.436416607245974\n",
      "Training Error: 44.435840267282536\n",
      "Training Error: 44.43526949380179\n",
      "Training Error: 44.43470423304081\n",
      "Training Error: 44.43414443175596\n",
      "Training Error: 44.433590037217755\n",
      "Training Error: 44.433040997205936\n",
      "Training Error: 44.43249726000487\n",
      "Training Error: 44.431958774398275\n",
      "Training Error: 44.431425489664356\n",
      "Training Error: 44.4308973555714\n",
      "Training Error: 44.4303743223729\n",
      "Training Error: 44.429856340802665\n",
      "Training Error: 44.42934336207041\n",
      "Training Error: 44.428835337856974\n",
      "Training Error: 44.428332220310075\n",
      "Training Error: 44.427833962039486\n",
      "Training Error: 44.427340516112665\n",
      "Training Error: 44.4268518360504\n",
      "Training Error: 44.426367875822436\n",
      "Training Error: 44.425888589842984\n",
      "Training Error: 44.425413932966684\n",
      "Training Error: 44.42494386048397\n",
      "Training Error: 44.42447832811744\n",
      "Training Error: 44.42401729201699\n",
      "Training Error: 44.4235607087563\n",
      "Training Error: 44.42310853532828\n",
      "Training Error: 44.42266072914133\n",
      "Training Error: 44.422217248015244\n",
      "Training Error: 44.42177805017702\n",
      "Training Error: 44.42134309425739\n",
      "Training Error: 44.42091233928639\n",
      "Training Error: 44.42048574468994\n",
      "Training Error: 44.420063270285695\n",
      "Training Error: 44.41964487627943\n",
      "Training Error: 44.41923052326145\n",
      "Training Error: 44.41882017220243\n",
      "Training Error: 44.4184137844502\n",
      "Training Error: 44.41801132172574\n",
      "Training Error: 44.41761274611992\n",
      "Training Error: 44.41721802008964\n",
      "Training Error: 44.416827106454384\n",
      "Training Error: 44.41643996839272\n",
      "Training Error: 44.41605656943903\n",
      "Training Error: 44.41567687347976\n",
      "Training Error: 44.415300844750035\n",
      "Training Error: 44.41492844783061\n",
      "Training Error: 44.41455964764434\n",
      "Training Error: 44.41419440945264\n",
      "Training Error: 44.41383269885262\n",
      "Training Error: 44.413474481773704\n",
      "Training Error: 44.41311972447426\n",
      "Training Error: 44.41276839353855\n",
      "Training Error: 44.41242045587365\n",
      "Training Error: 44.41207587870619\n",
      "Training Error: 44.41173462957946\n",
      "Training Error: 44.41139667635007\n",
      "Training Error: 44.41106198718515\n",
      "Training Error: 44.410730530559306\n",
      "Training Error: 44.41040227525159\n",
      "Training Error: 44.41007719034262\n",
      "Training Error: 44.409755245211585\n",
      "Training Error: 44.409436409533555\n",
      "Training Error: 44.40912065327626\n",
      "Training Error: 44.40880794669779\n",
      "Training Error: 44.40849826034325\n",
      "Training Error: 44.408191565042316\n",
      "Training Error: 44.40788783190643\n",
      "Training Error: 44.407587032325985\n",
      "Training Error: 44.407289137967794\n",
      "Training Error: 44.40699412077213\n",
      "Training Error: 44.40670195295052\n",
      "Training Error: 44.40641260698272\n",
      "Training Error: 44.40612605561432\n",
      "Training Error: 44.40584227185416\n",
      "Training Error: 44.405561228971784\n",
      "Training Error: 44.40528290049487\n",
      "Training Error: 44.40500726020676\n",
      "Training Error: 44.404734282144034\n",
      "Training Error: 44.404463940594134\n",
      "Training Error: 44.404196210092636\n",
      "Training Error: 44.40393106542121\n",
      "Training Error: 44.403668481605\n",
      "Training Error: 44.403408433910485\n",
      "Training Error: 44.40315089784291\n",
      "Training Error: 44.402895849144215\n",
      "Training Error: 44.40264326379049\n",
      "Training Error: 44.40239311798998\n",
      "Training Error: 44.402145388180614\n",
      "Training Error: 44.401900051028\n",
      "Training Error: 44.40165708342308\n",
      "Training Error: 44.40141646247992\n",
      "Training Error: 44.40117816553375\n",
      "Training Error: 44.400942170138535\n",
      "Training Error: 44.40070845406522\n",
      "Training Error: 44.40047699529932\n",
      "Training Error: 44.400247772039066\n",
      "Training Error: 44.400020762693096\n",
      "Training Error: 44.39979594587873\n",
      "Training Error: 44.399573300419895\n",
      "Training Error: 44.39935280534474\n",
      "Training Error: 44.3991344398842\n",
      "Training Error: 44.39891818346978\n",
      "Training Error: 44.39870401573165\n",
      "Training Error: 44.39849191649659\n",
      "Training Error: 44.39828186578636\n",
      "Training Error: 44.39807384381562\n",
      "Training Error: 44.39786783099017\n",
      "Training Error: 44.39766380790489\n",
      "Training Error: 44.397461755342356\n",
      "Training Error: 44.39726165427056\n",
      "Training Error: 44.39706348584131\n",
      "Training Error: 44.39686723138857\n",
      "Training Error: 44.39667287242648\n",
      "Training Error: 44.39648039064771\n",
      "Training Error: 44.396289767921935\n",
      "Training Error: 44.396100986293675\n",
      "Training Error: 44.395914027981114\n",
      "Training Error: 44.395728875373905\n",
      "Training Error: 44.3955455110321\n",
      "Training Error: 44.395363917683966\n",
      "Training Error: 44.39518407822469\n",
      "Training Error: 44.395005975714604\n",
      "Training Error: 44.39482959337771\n",
      "Training Error: 44.39465491459994\n",
      "Training Error: 44.39448192292779\n",
      "Training Error: 44.39431060206665\n",
      "Training Error: 44.3941409358793\n",
      "Training Error: 44.39397290838427\n",
      "Training Error: 44.3938065037546\n",
      "Training Error: 44.39364170631603\n",
      "Training Error: 44.39347850054589\n",
      "Training Error: 44.393316871071214\n",
      "Training Error: 44.393156802667676\n",
      "Training Error: 44.39299828025792\n",
      "Training Error: 44.392841288910226\n",
      "Training Error: 44.392685813837055\n",
      "Training Error: 44.39253184039378\n",
      "Training Error: 44.392379354077164\n",
      "Training Error: 44.392228340524\n",
      "Training Error: 44.39207878550983\n",
      "Training Error: 44.39193067494762\n",
      "Training Error: 44.39178399488642\n",
      "Training Error: 44.39163873150993\n",
      "Training Error: 44.39149487113542\n",
      "Training Error: 44.39135240021215\n",
      "Training Error: 44.391211305320276\n",
      "Training Error: 44.39107157316976\n",
      "Training Error: 44.390933190598716\n",
      "Training Error: 44.3907961445725\n",
      "Training Error: 44.39066042218231\n",
      "Training Error: 44.390526010644024\n",
      "Training Error: 44.39039289729697\n",
      "Training Error: 44.39026106960283\n",
      "Training Error: 44.39013051514429\n",
      "Training Error: 44.39000122162408\n",
      "Training Error: 44.38987317686366\n",
      "Training Error: 44.38974636880194\n",
      "Training Error: 44.3896207854946\n",
      "Training Error: 44.389496415112575\n",
      "Training Error: 44.38937324594098\n",
      "Training Error: 44.38925126637815\n",
      "Training Error: 44.38913046493434\n",
      "Training Error: 44.38901083023109\n",
      "Training Error: 44.38889235099946\n",
      "Training Error: 44.38877501607956\n",
      "Training Error: 44.38865881441936\n",
      "Training Error: 44.38854373507329\n",
      "Training Error: 44.38842976720177\n",
      "Training Error: 44.38831690006977\n",
      "Training Error: 44.38820512304602\n",
      "Training Error: 44.38809442560187\n",
      "Training Error: 44.3879847973104\n",
      "Training Error: 44.38787622784532\n",
      "Training Error: 44.38776870698022\n",
      "Training Error: 44.387662224587274\n",
      "Training Error: 44.38755677063669\n",
      "Training Error: 44.387452335195356\n",
      "Training Error: 44.38734890842612\n",
      "Training Error: 44.38724648058707\n",
      "Training Error: 44.38714504202999\n",
      "Training Error: 44.38704458320022\n",
      "Training Error: 44.38694509463515\n",
      "Training Error: 44.386846566963705\n",
      "Training Error: 44.3867489909052\n",
      "Training Error: 44.38665235726865\n",
      "Training Error: 44.38655665695186\n",
      "Training Error: 44.38646188094046\n",
      "Training Error: 44.38636802030727\n",
      "Training Error: 44.38627506621127\n",
      "Training Error: 44.38618300989675\n",
      "Training Error: 44.38609184269265\n",
      "Training Error: 44.38600155601173\n",
      "Training Error: 44.385912141349536\n",
      "Training Error: 44.38582359028374\n",
      "Training Error: 44.38573589447362\n",
      "Training Error: 44.385649045658795\n",
      "Training Error: 44.38556303565858\n",
      "Training Error: 44.385477856371516\n",
      "Training Error: 44.385393499774274\n",
      "Training Error: 44.3853099579211\n",
      "Training Error: 44.38522722294283\n",
      "Training Error: 44.385145287046406\n",
      "Training Error: 44.38506414251413\n",
      "Training Error: 44.384983781702665\n",
      "Training Error: 44.38490419704265\n",
      "Training Error: 44.38482538103761\n",
      "Training Error: 44.38474732626377\n",
      "Training Error: 44.38467002536884\n",
      "Training Error: 44.3845934710716\n",
      "Training Error: 44.38451765616119\n",
      "Training Error: 44.38444257349635\n",
      "Training Error: 44.38436821600476\n",
      "Training Error: 44.38429457668258\n",
      "Training Error: 44.384221648593396\n",
      "Training Error: 44.3841494248679\n",
      "Training Error: 44.384077898703175\n",
      "Training Error: 44.38400706336185\n",
      "Training Error: 44.383936912171755\n",
      "Training Error: 44.38386743852515\n",
      "Training Error: 44.38379863587807\n",
      "Training Error: 44.38373049774986\n",
      "Training Error: 44.383663017722256\n",
      "Training Error: 44.383596189439174\n",
      "Training Error: 44.38353000660582\n",
      "Training Error: 44.38346446298825\n",
      "Training Error: 44.38339955241274\n",
      "Training Error: 44.383335268765094\n",
      "Training Error: 44.383271605990195\n",
      "Training Error: 44.38320855809157\n",
      "Training Error: 44.38314611913045\n",
      "Training Error: 44.38308428322559\n",
      "Training Error: 44.3830230445524\n",
      "Training Error: 44.382962397342624\n",
      "Training Error: 44.38290233588378\n",
      "Training Error: 44.382842854518394\n",
      "Training Error: 44.382783947643766\n",
      "Training Error: 44.38272560971135\n",
      "Training Error: 44.38266783522604\n",
      "Training Error: 44.382610618745886\n",
      "Training Error: 44.382553954881494\n",
      "Training Error: 44.382497838295485\n",
      "Training Error: 44.382442263702124\n",
      "Training Error: 44.382387225866644\n",
      "Training Error: 44.38233271960481\n",
      "Training Error: 44.38227873978258\n",
      "Training Error: 44.38222528131538\n",
      "Training Error: 44.38217233916778\n",
      "Training Error: 44.38211990835306\n",
      "Training Error: 44.382067983932565\n",
      "Training Error: 44.38201656101526\n",
      "Training Error: 44.38196563475769\n",
      "Training Error: 44.381915200362755\n",
      "Training Error: 44.38186525307993\n",
      "Training Error: 44.38181578820457\n",
      "Training Error: 44.38176680107739\n",
      "Training Error: 44.38171828708416\n",
      "Training Error: 44.381670241655165\n",
      "Training Error: 44.381622660264874\n",
      "Training Error: 44.38157553843147\n",
      "Training Error: 44.381528871716334\n",
      "Training Error: 44.38148265572391\n",
      "Training Error: 44.38143688610079\n",
      "Training Error: 44.381391558535924\n",
      "Training Error: 44.381346668759726\n",
      "Training Error: 44.38130221254386\n",
      "Training Error: 44.381258185700936\n",
      "Training Error: 44.38121458408385\n",
      "Training Error: 44.38117140358567\n",
      "Training Error: 44.38112864013907\n",
      "Training Error: 44.38108628971603\n",
      "Training Error: 44.38104434832742\n",
      "Training Error: 44.3810028120227\n",
      "Training Error: 44.38096167688935\n",
      "Training Error: 44.38092093905284\n",
      "Training Error: 44.38088059467581\n",
      "Training Error: 44.380840639958194\n",
      "Training Error: 44.38080107113651\n",
      "Training Error: 44.38076188448361\n",
      "Training Error: 44.38072307630847\n",
      "Training Error: 44.380684642955586\n",
      "Training Error: 44.380646580804736\n",
      "Training Error: 44.38060888627074\n",
      "Training Error: 44.380571555803115\n",
      "Training Error: 44.38053458588553\n",
      "Training Error: 44.380497973035666\n",
      "Training Error: 44.380461713804884\n",
      "Training Error: 44.380425804777744\n",
      "Training Error: 44.38039024257193\n",
      "Training Error: 44.380355023837765\n",
      "Training Error: 44.38032014525776\n",
      "Training Error: 44.380285603546675\n",
      "Training Error: 44.38025139545087\n",
      "Training Error: 44.38021751774831\n",
      "Training Error: 44.38018396724777\n",
      "Training Error: 44.380150740789134\n",
      "Training Error: 44.38011783524266\n",
      "Training Error: 44.380085247508866\n",
      "Training Error: 44.38005297451816\n",
      "Training Error: 44.38002101323082\n",
      "Training Error: 44.37998936063615\n",
      "Training Error: 44.37995801375271\n",
      "Training Error: 44.37992696962798\n",
      "Training Error: 44.37989622533765\n",
      "Training Error: 44.3798657779859\n",
      "Training Error: 44.37983562470474\n",
      "Training Error: 44.37980576265403\n",
      "Training Error: 44.3797761890209\n",
      "Training Error: 44.379746901019715\n",
      "Training Error: 44.37971789589178\n",
      "Training Error: 44.379689170904975\n",
      "Training Error: 44.379660723353716\n",
      "Training Error: 44.37963255055829\n",
      "Training Error: 44.37960464986508\n",
      "Training Error: 44.379577018646\n",
      "Training Error: 44.37954965429847\n",
      "Training Error: 44.37952255424487\n",
      "Training Error: 44.379495715932556\n",
      "Training Error: 44.379469136833556\n",
      "Training Error: 44.37944281444433\n",
      "Training Error: 44.379416746285536\n",
      "Training Error: 44.37939092990161\n",
      "Training Error: 44.37936536286094\n",
      "Training Error: 44.3793400427552\n",
      "Training Error: 44.379314967199484\n",
      "Training Error: 44.37929013383173\n",
      "Training Error: 44.37926554031292\n",
      "Training Error: 44.37924118432654\n",
      "Training Error: 44.37921706357829\n",
      "Training Error: 44.3791931757963\n",
      "Training Error: 44.379169518730414\n",
      "Training Error: 44.379146090152275\n",
      "Training Error: 44.37912288785518\n",
      "Training Error: 44.379099909653526\n",
      "Training Error: 44.379077153383015\n",
      "Training Error: 44.37905461690012\n",
      "Training Error: 44.37903229808201\n",
      "Training Error: 44.37901019482648\n",
      "Training Error: 44.378988305051514\n",
      "Training Error: 44.37896662669528\n",
      "Training Error: 44.3789451577158\n",
      "Training Error: 44.37892389609087\n",
      "Training Error: 44.378902839817805\n",
      "Training Error: 44.37888198691318\n",
      "Training Error: 44.378861335412786\n",
      "Training Error: 44.37884088337146\n",
      "Training Error: 44.37882062886277\n",
      "Training Error: 44.3788005699788\n",
      "Training Error: 44.378780704830234\n",
      "Training Error: 44.378761031545864\n",
      "Training Error: 44.37874154827259\n",
      "Training Error: 44.378722253175255\n",
      "Training Error: 44.37870314443636\n",
      "Training Error: 44.378684220255984\n",
      "Training Error: 44.37866547885171\n",
      "Training Error: 44.37864691845804\n",
      "Training Error: 44.37862853732689\n",
      "Training Error: 44.37861033372675\n",
      "Training Error: 44.37859230594307\n",
      "Training Error: 44.37857445227765\n",
      "Training Error: 44.3785567710489\n",
      "Training Error: 44.37853926059132\n",
      "Training Error: 44.37852191925554\n",
      "Training Error: 44.37850474540819\n",
      "Training Error: 44.37848773743153\n",
      "Training Error: 44.378470893723495\n",
      "Training Error: 44.378454212697626\n",
      "Training Error: 44.378437692782676\n",
      "Training Error: 44.37842133242253\n",
      "Training Error: 44.378405130076196\n",
      "Training Error: 44.37838908421742\n",
      "Training Error: 44.37837319333492\n",
      "Training Error: 44.37835745593186\n",
      "Training Error: 44.37834187052584\n",
      "Training Error: 44.37832643564886\n",
      "Training Error: 44.37831114984704\n",
      "Training Error: 44.37829601168056\n",
      "Training Error: 44.37828101972353\n",
      "Training Error: 44.37826617256381\n",
      "Training Error: 44.37825146880282\n",
      "Training Error: 44.37823690705571\n",
      "Training Error: 44.37822248595076\n",
      "Training Error: 44.3782082041296\n",
      "Training Error: 44.37819406024709\n",
      "Training Error: 44.378180052970826\n",
      "Training Error: 44.378166180981516\n",
      "Training Error: 44.37815244297246\n",
      "Training Error: 44.37813883764969\n",
      "Training Error: 44.37812536373158\n",
      "Training Error: 44.37811201994911\n",
      "Training Error: 44.37809880504528\n",
      "Training Error: 44.37808571777542\n",
      "Training Error: 44.378072756906725\n",
      "Training Error: 44.378059921218366\n",
      "Training Error: 44.37804720950141\n",
      "Training Error: 44.37803462055843\n",
      "Training Error: 44.3780221532036\n",
      "Training Error: 44.37800980626266\n",
      "Training Error: 44.377997578572575\n",
      "Training Error: 44.377985468981585\n",
      "Training Error: 44.377973476349034\n",
      "Training Error: 44.37796159954525\n",
      "Training Error: 44.37794983745165\n",
      "Training Error: 44.377938188960265\n",
      "Training Error: 44.37792665297384\n",
      "Training Error: 44.37791522840584\n",
      "Training Error: 44.37790391418002\n",
      "Training Error: 44.37789270923086\n",
      "Training Error: 44.377881612502755\n",
      "Training Error: 44.37787062295057\n",
      "Training Error: 44.37785973953909\n",
      "Training Error: 44.37784896124322\n",
      "Training Error: 44.37783828704771\n",
      "Training Error: 44.37782771594711\n",
      "Training Error: 44.37781724694576\n",
      "Training Error: 44.37780687905744\n",
      "Training Error: 44.37779661130568\n",
      "Training Error: 44.37778644272325\n",
      "Training Error: 44.377776372352365\n",
      "Training Error: 44.37776639924447\n",
      "Training Error: 44.37775652246013\n",
      "Training Error: 44.37774674106913\n",
      "Training Error: 44.377737054149996\n",
      "Training Error: 44.37772746079036\n",
      "Training Error: 44.37771796008654\n",
      "Training Error: 44.37770855114367\n",
      "Training Error: 44.37769923307554\n",
      "Training Error: 44.377690005004396\n",
      "Training Error: 44.377680866061\n",
      "Training Error: 44.377671815384545\n",
      "Training Error: 44.37766285212256\n",
      "Training Error: 44.37765397543076\n",
      "Training Error: 44.37764518447294\n",
      "Training Error: 44.37763647842117\n",
      "Training Error: 44.377627856455256\n",
      "Training Error: 44.377619317763184\n",
      "Training Error: 44.37761086154066\n",
      "Training Error: 44.37760248699116\n",
      "Training Error: 44.37759419332582\n",
      "Training Error: 44.37758597976341\n",
      "Training Error: 44.37757784553031\n",
      "Training Error: 44.37756978986042\n",
      "Training Error: 44.377561811994795\n",
      "Training Error: 44.37755391118206\n",
      "Training Error: 44.377546086677995\n",
      "Training Error: 44.37753833774555\n",
      "Training Error: 44.37753066365494\n",
      "Training Error: 44.37752306368318\n",
      "Training Error: 44.37751553711451\n",
      "Training Error: 44.37750808323994\n",
      "Training Error: 44.37750070135735\n",
      "Training Error: 44.37749339077141\n",
      "Training Error: 44.377486150793615\n",
      "Training Error: 44.37747898074184\n",
      "Training Error: 44.37747187994084\n",
      "Training Error: 44.37746484772176\n",
      "Training Error: 44.377457883422124\n",
      "Training Error: 44.37745098638605\n",
      "Training Error: 44.377444155963865\n",
      "Training Error: 44.37743739151209\n",
      "Training Error: 44.377430692393695\n",
      "Training Error: 44.377424057977585\n",
      "Training Error: 44.377417487638894\n",
      "Training Error: 44.37741098075872\n",
      "Training Error: 44.37740453672415\n",
      "Training Error: 44.37739815492813\n",
      "Training Error: 44.37739183476972\n",
      "Training Error: 44.377385575653435\n",
      "Training Error: 44.37737937698979\n",
      "Training Error: 44.37737323819491\n",
      "Training Error: 44.37736715869047\n",
      "Training Error: 44.37736113790398\n",
      "Training Error: 44.37735517526829\n",
      "Training Error: 44.3773492702216\n",
      "Training Error: 44.37734342220784\n",
      "Training Error: 44.37733763067623\n",
      "Training Error: 44.37733189508107\n",
      "Training Error: 44.37732621488225\n",
      "Training Error: 44.37732058954462\n",
      "Training Error: 44.3773150185384\n",
      "Training Error: 44.37730950133878\n",
      "Training Error: 44.37730403742609\n",
      "Training Error: 44.37729862628572\n",
      "Training Error: 44.37729326740789\n",
      "Training Error: 44.37728796028795\n",
      "Training Error: 44.37728270442594\n",
      "Training Error: 44.37727749932673\n",
      "Training Error: 44.37727234450016\n",
      "Training Error: 44.377267239460565\n",
      "Training Error: 44.37726218372716\n",
      "Training Error: 44.377257176823676\n",
      "Training Error: 44.377252218278564\n",
      "Training Error: 44.37724730762474\n",
      "Training Error: 44.37724244439959\n",
      "Training Error: 44.3772376281451\n",
      "Training Error: 44.377232858407574\n",
      "Training Error: 44.37722813473784\n",
      "Training Error: 44.37722345669079\n",
      "Training Error: 44.377218823825935\n",
      "Training Error: 44.377214235706795\n",
      "Training Error: 44.37720969190123\n",
      "Training Error: 44.37720519198125\n",
      "Training Error: 44.377200735523004\n",
      "Training Error: 44.37719632210665\n",
      "Training Error: 44.377191951316625\n",
      "Training Error: 44.37718762274111\n",
      "Training Error: 44.377183335972376\n",
      "Training Error: 44.37717909060677\n",
      "Training Error: 44.377174886244205\n",
      "Training Error: 44.37717072248882\n",
      "Training Error: 44.37716659894837\n",
      "Training Error: 44.37716251523443\n",
      "Training Error: 44.377158470962314\n",
      "Training Error: 44.377154465751204\n",
      "Training Error: 44.37715049922369\n",
      "Training Error: 44.377146571006264\n",
      "Training Error: 44.37714268072885\n",
      "Training Error: 44.37713882802502\n",
      "Training Error: 44.37713501253185\n",
      "Training Error: 44.37713123389001\n",
      "Training Error: 44.37712749174354\n",
      "Training Error: 44.377123785740004\n",
      "Training Error: 44.37712011553027\n",
      "Training Error: 44.3771164807686\n",
      "Training Error: 44.377112881112716\n",
      "Training Error: 44.37710931622347\n",
      "Training Error: 44.37710578576509\n",
      "Training Error: 44.37710228940503\n",
      "Training Error: 44.377098826814084\n",
      "Training Error: 44.37709539766589\n",
      "Training Error: 44.37709200163759\n",
      "Training Error: 44.37708863840926\n",
      "Training Error: 44.37708530766405\n",
      "Training Error: 44.37708200908832\n",
      "Training Error: 44.37707874237136\n",
      "Training Error: 44.37707550720539\n",
      "Training Error: 44.37707230328576\n",
      "Training Error: 44.377069130310666\n",
      "Training Error: 44.37706598798119\n",
      "Training Error: 44.37706287600134\n",
      "Training Error: 44.37705979407807\n",
      "Training Error: 44.377056741921045\n",
      "Training Error: 44.37705371924274\n",
      "Training Error: 44.37705072575848\n",
      "Training Error: 44.377047761186304\n",
      "Training Error: 44.37704482524688\n",
      "Training Error: 44.377041917663796\n",
      "Training Error: 44.37703903816308\n",
      "Training Error: 44.37703618647355\n",
      "Training Error: 44.377033362326614\n",
      "Training Error: 44.37703056545619\n",
      "Training Error: 44.37702779559891\n",
      "Training Error: 44.377025052493764\n",
      "Training Error: 44.377022335882515\n",
      "Training Error: 44.37701964550918\n",
      "Training Error: 44.37701698112033\n",
      "Training Error: 44.377014342465024\n",
      "Training Error: 44.377011729294765\n",
      "Training Error: 44.37700914136333\n",
      "Training Error: 44.37700657842702\n",
      "Training Error: 44.37700404024441\n",
      "Training Error: 44.37700152657642\n",
      "Training Error: 44.37699903718625\n",
      "Training Error: 44.376996571839435\n",
      "Training Error: 44.37699413030376\n",
      "Training Error: 44.37699171234925\n",
      "Training Error: 44.376989317748205\n",
      "Training Error: 44.37698694627491\n",
      "Training Error: 44.37698459770614\n",
      "Training Error: 44.376982271820616\n",
      "Training Error: 44.376979968399226\n",
      "Training Error: 44.376977687225114\n",
      "Training Error: 44.37697542808333\n",
      "Training Error: 44.376973190761085\n",
      "Training Error: 44.37697097504763\n",
      "Training Error: 44.376968780734295\n",
      "Training Error: 44.376966607614285\n",
      "Training Error: 44.3769644554831\n",
      "Training Error: 44.37696232413786\n",
      "Training Error: 44.37696021337787\n",
      "Training Error: 44.376958123004265\n",
      "Training Error: 44.376956052820205\n",
      "Training Error: 44.376954002630654\n",
      "Training Error: 44.376951972242495\n",
      "Training Error: 44.37694996146457\n",
      "Training Error: 44.37694797010737\n",
      "Training Error: 44.376945997983405\n",
      "Training Error: 44.37694404490679\n",
      "Training Error: 44.376942110693655\n",
      "Training Error: 44.37694019516182\n",
      "Training Error: 44.37693829813087\n",
      "Training Error: 44.37693641942195\n",
      "Training Error: 44.37693455885829\n",
      "Training Error: 44.3769327162646\n",
      "Training Error: 44.376930891467275\n",
      "Training Error: 44.376929084294424\n",
      "Training Error: 44.37692729457588\n",
      "Training Error: 44.37692552214304\n",
      "Training Error: 44.37692376682888\n",
      "Training Error: 44.37692202846818\n",
      "Training Error: 44.37692030689714\n",
      "Training Error: 44.37691860195357\n",
      "Training Error: 44.376916913476926\n",
      "Training Error: 44.37691524130816\n",
      "Training Error: 44.37691358528982\n",
      "Training Error: 44.376911945265796\n",
      "Training Error: 44.37691032108166\n",
      "Training Error: 44.37690871258444\n",
      "Training Error: 44.37690711962265\n",
      "Training Error: 44.376905542046124\n",
      "Training Error: 44.37690397970642\n",
      "Training Error: 44.37690243245632\n",
      "Training Error: 44.37690090015001\n",
      "Training Error: 44.37689938264329\n",
      "Training Error: 44.37689787979317\n",
      "Training Error: 44.37689639145804\n",
      "Training Error: 44.3768949174977\n",
      "Training Error: 44.37689345777345\n",
      "Training Error: 44.376892012147664\n",
      "Training Error: 44.37689058048419\n",
      "Training Error: 44.37688916264821\n",
      "Training Error: 44.37688775850619\n",
      "Training Error: 44.37688636792583\n",
      "Training Error: 44.376884990776134\n",
      "Training Error: 44.3768836269274\n",
      "Training Error: 44.37688227625118\n",
      "Training Error: 44.3768809386202\n",
      "Training Error: 44.376879613908585\n",
      "Training Error: 44.376878301991404\n",
      "Training Error: 44.3768770027452\n",
      "Training Error: 44.376875716047515\n",
      "Training Error: 44.37687444177724\n",
      "Training Error: 44.37687317981423\n",
      "Training Error: 44.37687193003967\n",
      "Training Error: 44.3768706923359\n",
      "Training Error: 44.37686946658627\n",
      "Training Error: 44.3768682526753\n",
      "Training Error: 44.37686705048875\n",
      "Training Error: 44.376865859913316\n",
      "Training Error: 44.37686468083679\n",
      "Training Error: 44.376863513148194\n",
      "Training Error: 44.376862356737576\n",
      "Training Error: 44.37686121149588\n",
      "Training Error: 44.37686007731537\n",
      "Training Error: 44.37685895408907\n",
      "Training Error: 44.376857841711335\n",
      "Training Error: 44.3768567400773\n",
      "Training Error: 44.37685564908318\n",
      "Training Error: 44.376854568626314\n",
      "Training Error: 44.37685349860479\n",
      "Training Error: 44.37685243891793\n",
      "Training Error: 44.37685138946586\n",
      "Training Error: 44.37685035014975\n",
      "Training Error: 44.37684932087168\n",
      "Training Error: 44.37684830153476\n",
      "Training Error: 44.3768472920429\n",
      "Training Error: 44.376846292301046\n",
      "Training Error: 44.37684530221508\n",
      "Training Error: 44.37684432169164\n",
      "Training Error: 44.376843350638445\n",
      "Training Error: 44.37684238896396\n",
      "Training Error: 44.3768414365777\n",
      "Training Error: 44.37684049338989\n",
      "Training Error: 44.37683955931173\n",
      "Training Error: 44.37683863425514\n",
      "Training Error: 44.37683771813308\n",
      "Training Error: 44.37683681085925\n",
      "Training Error: 44.37683591234816\n",
      "Training Error: 44.376835022515195\n",
      "Training Error: 44.376834141276554\n",
      "Training Error: 44.37683326854913\n",
      "Training Error: 44.37683240425086\n",
      "Training Error: 44.37683154830029\n",
      "Training Error: 44.37683070061673\n",
      "Training Error: 44.37682986112037\n",
      "Training Error: 44.376829029732136\n",
      "Training Error: 44.37682820637383\n",
      "Training Error: 44.37682739096766\n",
      "Training Error: 44.37682658343703\n",
      "Training Error: 44.376825783705776\n",
      "Training Error: 44.3768249916986\n",
      "Training Error: 44.37682420734088\n",
      "Training Error: 44.37682343055878\n",
      "Training Error: 44.37682266127906\n",
      "Training Error: 44.37682189942932\n",
      "Training Error: 44.376821144937765\n",
      "Training Error: 44.376820397733354\n",
      "Training Error: 44.37681965774567\n",
      "Training Error: 44.37681892490507\n",
      "Training Error: 44.37681819914245\n",
      "Training Error: 44.37681748038948\n",
      "Training Error: 44.37681676857849\n",
      "Training Error: 44.37681606364237\n",
      "Training Error: 44.376815365514815\n",
      "Training Error: 44.37681467412997\n",
      "Training Error: 44.37681398942281\n",
      "Training Error: 44.37681331132869\n",
      "Training Error: 44.376812639783886\n",
      "Training Error: 44.37681197472508\n",
      "Training Error: 44.376811316089615\n",
      "Training Error: 44.37681066381543\n",
      "Training Error: 44.37681001784118\n",
      "Training Error: 44.37680937810599\n",
      "Training Error: 44.37680874454954\n",
      "Training Error: 44.37680811711215\n",
      "Training Error: 44.376807495734845\n",
      "Training Error: 44.376806880358956\n",
      "Training Error: 44.37680627092653\n",
      "Training Error: 44.37680566738027\n",
      "Training Error: 44.37680506966321\n",
      "Training Error: 44.37680447771913\n",
      "Training Error: 44.376803891492244\n",
      "Training Error: 44.37680331092735\n",
      "Training Error: 44.376802735969704\n",
      "Training Error: 44.376802166565234\n",
      "Training Error: 44.37680160266023\n",
      "Training Error: 44.376801044201606\n",
      "Training Error: 44.376800491136756\n",
      "Training Error: 44.376799943413644\n",
      "Training Error: 44.37679940098059\n",
      "Training Error: 44.37679886378653\n",
      "Training Error: 44.37679833178087\n",
      "Training Error: 44.376797804913465\n",
      "Training Error: 44.37679728313476\n",
      "Training Error: 44.37679676639552\n",
      "Training Error: 44.37679625464718\n",
      "Training Error: 44.37679574784149\n",
      "Training Error: 44.37679524593059\n",
      "Training Error: 44.376794748867425\n",
      "Training Error: 44.376794256604974\n",
      "Training Error: 44.376793769097006\n"
     ]
    },
    {
     "name": "stdout",
     "output_type": "stream",
     "text": [
      "Training Error: 44.376793286297556\n",
      "Training Error: 44.37679280816113\n",
      "Training Error: 44.37679233464274\n",
      "Training Error: 44.37679186569769\n",
      "Training Error: 44.376791401281935\n",
      "Training Error: 44.37679094135154\n",
      "Training Error: 44.3767904858634\n",
      "Training Error: 44.37679003477452\n",
      "Training Error: 44.37678958804241\n",
      "Training Error: 44.376789145624926\n",
      "Training Error: 44.376788707480486\n",
      "Training Error: 44.376788273567826\n",
      "Training Error: 44.37678784384602\n",
      "Training Error: 44.376787418274574\n",
      "Training Error: 44.37678699681348\n",
      "Training Error: 44.37678657942294\n",
      "Training Error: 44.37678616606376\n",
      "Training Error: 44.37678575669692\n",
      "Training Error: 44.376785351283864\n",
      "Training Error: 44.37678494978642\n",
      "Training Error: 44.37678455216684\n",
      "Training Error: 44.37678415838757\n",
      "Training Error: 44.37678376841148\n",
      "Training Error: 44.37678338220195\n",
      "Training Error: 44.3767829997226\n",
      "Training Error: 44.37678262093729\n",
      "Training Error: 44.37678224581048\n",
      "Training Error: 44.376781874306744\n",
      "Training Error: 44.376781506391126\n",
      "Training Error: 44.37678114202896\n",
      "Training Error: 44.376780781185936\n",
      "Training Error: 44.37678042382799\n",
      "Training Error: 44.37678006992156\n",
      "Training Error: 44.37677971943329\n",
      "Training Error: 44.37677937233017\n",
      "Training Error: 44.376779028579456\n",
      "Training Error: 44.37677868814881\n",
      "Training Error: 44.376778351006145\n",
      "Training Error: 44.37677801711969\n",
      "Training Error: 44.3767776864581\n",
      "Training Error: 44.3767773589901\n",
      "Training Error: 44.37677703468491\n",
      "Training Error: 44.376776713511916\n"
     ]
    }
   ],
   "source": [
    "lr = 0.000001 #Learning Rate\n",
    "n_iter = 2000 #Number of Iterations\n",
    "\n",
    "w = np.array([2,2]) # as a start\n",
    "\n",
    "X = training_data\n",
    "y = house_price\n",
    "w = gradient_descent(X,y,w,lr,n_iter)"
   ]
  },
  {
   "cell_type": "code",
   "execution_count": 52,
   "metadata": {},
   "outputs": [
    {
     "data": {
      "text/plain": [
       "array([-0.44720082,  1.12725779])"
      ]
     },
     "execution_count": 52,
     "metadata": {},
     "output_type": "execute_result"
    }
   ],
   "source": [
    "w"
   ]
  },
  {
   "cell_type": "markdown",
   "metadata": {},
   "source": [
    "The training error should be much lower than at the start."
   ]
  },
  {
   "cell_type": "markdown",
   "metadata": {},
   "source": [
    "**Plot the fitted curve for each of the two parameters in the fitted $\\mathbf{w}$.**"
   ]
  },
  {
   "cell_type": "code",
   "execution_count": 53,
   "metadata": {},
   "outputs": [
    {
     "data": {
      "image/png": "[encoded data removed]",
      "text/plain": [
       "<Figure size 432x288 with 1 Axes>"
      ]
     },
     "metadata": {
      "needs_background": "light"
     },
     "output_type": "display_data"
    }
   ],
   "source": [
    "plt.scatter(house_age, house_price)\n",
    "plt.xlabel('Age')\n",
    "plt.ylabel('Price')\n",
    "\n",
    "age_range = np.arange(0,150,1)\n",
    "predictions = w[0] * age_range\n",
    "plt.plot(age_range, predictions)\n",
    "\n",
    "plt.show()"
   ]
  },
  {
   "cell_type": "code",
   "execution_count": 54,
   "metadata": {},
   "outputs": [
    {
     "data": {
      "image/png": "[encoded data removed]",
      "text/plain": [
       "<Figure size 432x288 with 1 Axes>"
      ]
     },
     "metadata": {
      "needs_background": "light"
     },
     "output_type": "display_data"
    }
   ],
   "source": [
    "plt.scatter(house_area, house_price)\n",
    "plt.xlabel('Area')\n",
    "plt.ylabel('Price')\n",
    "\n",
    "area_range = np.arange(50,300,1)\n",
    "predictions = w[1] * area_range\n",
    "plt.plot(area_range, predictions)\n",
    "\n",
    "plt.show()"
   ]
  },
  {
   "cell_type": "markdown",
   "metadata": {},
   "source": [
    "**Now use the closed-form solution to obtain good values for the parameters $\\mathbf{w}$ using the training set.**"
   ]
  },
  {
   "cell_type": "code",
   "execution_count": 55,
   "metadata": {},
   "outputs": [],
   "source": [
    "w = np.linalg.inv(X.T.dot(X)).dot(X.T).dot(y)"
   ]
  },
  {
   "cell_type": "markdown",
   "metadata": {},
   "source": [
    "**Display the exact values of the parameters $\\mathbf{w}$.\n",
    "Are they the same as the one you obtained from gradient descent?\n",
    "Are they the same as the ground truth values? Why?**"
   ]
  },
  {
   "cell_type": "code",
   "execution_count": 56,
   "metadata": {},
   "outputs": [
    {
     "data": {
      "text/plain": [
       "array([-0.44730823,  1.12730327])"
      ]
     },
     "execution_count": 56,
     "metadata": {},
     "output_type": "execute_result"
    }
   ],
   "source": [
    "w"
   ]
  },
  {
   "cell_type": "markdown",
   "metadata": {},
   "source": [
    "- These values of w are practically the same as the ones calculated using the gradient descent method, which makes sense.\n",
    "- Howerver, they are not the same as the values from the ground truth function because we are using an algorithm to approximate as much as possible to the original values, but will never have the exact same values. Thus, there will always be some error."
   ]
  },
  {
   "cell_type": "markdown",
   "metadata": {},
   "source": [
    "In practice, a machine learning engineer does not waste time implementing standard algorithms.\n",
    "Scikit-learn provides an implementation of a linear regression, among many other learning algorithms.\n",
    "\n",
    "*(Obviously, YOU are not wasting time, because you are learning. Implementing a linear regression is something everyone should do at least once in their life).*"
   ]
  },
  {
   "cell_type": "markdown",
   "metadata": {},
   "source": [
    "**Look at the documentation from scikit-learn, and train a linear regression on our data using the provided implementation.\n",
    "Look at the coefficients $\\mathbf{w}$. Is it the same as the one you found? Is it the same as the ground truth?**"
   ]
  },
  {
   "cell_type": "code",
   "execution_count": 57,
   "metadata": {},
   "outputs": [],
   "source": [
    "from sklearn import linear_model"
   ]
  },
  {
   "cell_type": "code",
   "execution_count": 58,
   "metadata": {},
   "outputs": [],
   "source": [
    "X = training_data\n",
    "y = house_price"
   ]
  },
  {
   "cell_type": "code",
   "execution_count": 59,
   "metadata": {},
   "outputs": [],
   "source": [
    "regr = linear_model.LinearRegression()"
   ]
  },
  {
   "cell_type": "code",
   "execution_count": 60,
   "metadata": {},
   "outputs": [
    {
     "data": {
      "text/plain": [
       "LinearRegression()"
      ]
     },
     "execution_count": 60,
     "metadata": {},
     "output_type": "execute_result"
    }
   ],
   "source": [
    "regr.fit(X,y)"
   ]
  },
  {
   "cell_type": "code",
   "execution_count": 61,
   "metadata": {},
   "outputs": [
    {
     "name": "stdout",
     "output_type": "stream",
     "text": [
      "Coefficients: \n",
      " [-0.50560258  1.07341215]\n"
     ]
    }
   ],
   "source": [
    "print('Coefficients: \\n', regr.coef_)"
   ]
  },
  {
   "cell_type": "markdown",
   "metadata": {},
   "source": [
    "- The coefficients w are similar to the ones obtained using gradient descent and the closed-form solution because the linear regression model from scikit learn minimizes the residual sum of squares between our original data and the predicted data from the linear approximation.\n",
    "- However, they still do not match exactly the coefficients from the ground truth function because this is just an approximation."
   ]
  }
 ],
 "metadata": {
  "kernelspec": {
   "display_name": "Python 3",
   "language": "python",
   "name": "python3"
  },
  "language_info": {
   "codemirror_mode": {
    "name": "ipython",
    "version": 3
   },
   "file_extension": ".py",
   "mimetype": "text/x-python",
   "name": "python",
   "nbconvert_exporter": "python",
   "pygments_lexer": "ipython3",
   "version": "3.8.3"
  }
 },
 "nbformat": 4,
 "nbformat_minor": 4
}
