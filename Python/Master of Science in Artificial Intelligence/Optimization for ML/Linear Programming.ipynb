{
 "cells": [
  {
   "cell_type": "markdown",
   "metadata": {},
   "source": [
    "# SIMPLEX ALGORITHM"
   ]
  },
  {
   "cell_type": "markdown",
   "metadata": {},
   "source": [
    "# Problem 1.1"
   ]
  },
  {
   "cell_type": "code",
   "execution_count": 29,
   "metadata": {},
   "outputs": [],
   "source": [
    "import numpy as np\n",
    "from scipy.optimize import linprog"
   ]
  },
  {
   "cell_type": "code",
   "execution_count": 30,
   "metadata": {},
   "outputs": [],
   "source": [
    "#Solution1: with Slack Variables\n",
    "\n",
    "A = np.array([[2,3,1,1,0],[1,4,3,0,1]])\n",
    "b = np.array([10,15])\n",
    "#Maximize is the same as minimizing the negative\n",
    "C = np.array([-6,-4,-5,0,0])"
   ]
  },
  {
   "cell_type": "code",
   "execution_count": 31,
   "metadata": {},
   "outputs": [],
   "source": [
    "#linprog: Minimize a linear objective function\n",
    "res = linprog(c = C, A_eq = A, b_eq = b, bounds=(0,None)) "
   ]
  },
  {
   "cell_type": "code",
   "execution_count": 32,
   "metadata": {},
   "outputs": [
    {
     "name": "stdout",
     "output_type": "stream",
     "text": [
      "Optimal value: -37.9999999991099 \n",
      "X: [3.00000000e+00 6.49201431e-12 4.00000000e+00 9.22006166e-11\n",
      " 2.07419174e-10]\n"
     ]
    }
   ],
   "source": [
    "print('Optimal value:', res.fun, '\\nX:', res.x)"
   ]
  },
  {
   "cell_type": "code",
   "execution_count": 33,
   "metadata": {},
   "outputs": [],
   "source": [
    "#Solution2: without Slack Variables\n",
    "\n",
    "A = np.array([[2,3,1],[1,4,3]])\n",
    "b = np.array([10,15])\n",
    "#Maximize is the same as minimizing the negative\n",
    "C = np.array([-6,-4,-5])"
   ]
  },
  {
   "cell_type": "code",
   "execution_count": 34,
   "metadata": {},
   "outputs": [],
   "source": [
    "res = linprog(c = C, A_ub = A, b_ub = b, bounds=(0,None)) "
   ]
  },
  {
   "cell_type": "code",
   "execution_count": 35,
   "metadata": {},
   "outputs": [
    {
     "name": "stdout",
     "output_type": "stream",
     "text": [
      "Optimal value: -37.9999999991099 \n",
      "X: [3.00000000e+00 6.49201431e-12 4.00000000e+00]\n"
     ]
    }
   ],
   "source": [
    "print('Optimal value:', res.fun, '\\nX:', res.x)"
   ]
  },
  {
   "cell_type": "markdown",
   "metadata": {},
   "source": [
    "# Problem 1.2"
   ]
  },
  {
   "cell_type": "code",
   "execution_count": 1,
   "metadata": {},
   "outputs": [],
   "source": [
    "import numpy as np\n",
    "from scipy.optimize import linprog"
   ]
  },
  {
   "cell_type": "code",
   "execution_count": 5,
   "metadata": {},
   "outputs": [],
   "source": [
    "A = np.array([[1,2,3],[-1,2,0],[0,-1,1]])\n",
    "b = np.array([35,0,0])\n",
    "#Maximize is the same as minimizing the negative\n",
    "C = np.array([-10,-36,-44])"
   ]
  },
  {
   "cell_type": "code",
   "execution_count": 6,
   "metadata": {},
   "outputs": [],
   "source": [
    "res = linprog(c = C, A_ub = A, b_ub = b, bounds=(0,None)) "
   ]
  },
  {
   "cell_type": "code",
   "execution_count": 7,
   "metadata": {},
   "outputs": [
    {
     "name": "stdout",
     "output_type": "stream",
     "text": [
      "Optimal value: -499.99999999831687 \n",
      "X: [10.  5.  5.]\n"
     ]
    }
   ],
   "source": [
    "print('Optimal value:', res.fun, '\\nX:', res.x)"
   ]
  }
 ],
 "metadata": {
  "kernelspec": {
   "display_name": "Python 3",
   "language": "python",
   "name": "python3"
  },
  "language_info": {
   "codemirror_mode": {
    "name": "ipython",
    "version": 3
   },
   "file_extension": ".py",
   "mimetype": "text/x-python",
   "name": "python",
   "nbconvert_exporter": "python",
   "pygments_lexer": "ipython3",
   "version": "3.8.3"
  }
 },
 "nbformat": 4,
 "nbformat_minor": 4
}
