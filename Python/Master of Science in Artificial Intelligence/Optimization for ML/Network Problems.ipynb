{
 "cells": [
  {
   "cell_type": "markdown",
   "metadata": {},
   "source": [
    " # Network simplex problems"
   ]
  },
  {
   "cell_type": "markdown",
   "metadata": {},
   "source": [
    "## 1 Transshipment problem\n",
    "solving a transshippment problem with networkx"
   ]
  },
  {
   "cell_type": "code",
   "execution_count": 4,
   "metadata": {},
   "outputs": [],
   "source": [
    "import networkx as nx"
   ]
  },
  {
   "cell_type": "code",
   "execution_count": 5,
   "metadata": {},
   "outputs": [],
   "source": [
    "# Create graph\n",
    "G = nx.DiGraph()"
   ]
  },
  {
   "cell_type": "code",
   "execution_count": 6,
   "metadata": {},
   "outputs": [],
   "source": [
    "## 6 vertices (nodes)\n",
    "G.add_node('M', demand = -150) #production capacity negative\n",
    "G.add_node('D', demand = -200)\n",
    "G.add_node('N')\n",
    "G.add_node('C')\n",
    "G.add_node('B', demand = 130) #demand is positive\n",
    "G.add_node('L', demand = 130)\n",
    "G.add_node('V', demand = 90)"
   ]
  },
  {
   "cell_type": "code",
   "execution_count": 7,
   "metadata": {},
   "outputs": [],
   "source": [
    "## Edges\n",
    "G.add_edge('M', 'N', weight = 8)\n",
    "G.add_edge('M', 'B', weight = 28)\n",
    "G.add_edge('M', 'L', weight = 25)\n",
    "G.add_edge('M', 'C', weight = 13)\n",
    "\n",
    "G.add_edge('D', 'N', weight = 15)\n",
    "G.add_edge('D', 'B', weight = 25)# capacity=100)\n",
    "G.add_edge('D', 'L', weight = 26)\n",
    "G.add_edge('D', 'C', weight = 12)#, capacity=150)\n",
    "\n",
    "G.add_edge('N', 'B', weight = 17)\n",
    "G.add_edge('N', 'L', weight = 16)\n",
    "G.add_edge('N', 'C', weight = 6)\n",
    "\n",
    "G.add_edge('C', 'B', weight = 16)\n",
    "G.add_edge('C', 'L', weight = 14)#, capacity=100)\n",
    "G.add_edge('C', 'N', weight = 6)\n",
    "\n",
    "G.add_edge('M', 'V', weight = 0)\n",
    "G.add_edge('D', 'V', weight = 0)\n",
    "G.add_edge('N', 'V', weight = 0)\n",
    "G.add_edge('C', 'V', weight = 0)\n",
    "G.add_edge('B', 'V', weight = 0)\n",
    "G.add_edge('L', 'V', weight = 0)"
   ]
  },
  {
   "cell_type": "code",
   "execution_count": 8,
   "metadata": {},
   "outputs": [],
   "source": [
    "flowCost, flowDict = nx.network_simplex(G) #network_simplex (More general)"
   ]
  },
  {
   "cell_type": "code",
   "execution_count": 9,
   "metadata": {},
   "outputs": [
    {
     "data": {
      "text/plain": [
       "6370"
      ]
     },
     "execution_count": 9,
     "metadata": {},
     "output_type": "execute_result"
    }
   ],
   "source": [
    "flowCost"
   ]
  },
  {
   "cell_type": "code",
   "execution_count": 10,
   "metadata": {},
   "outputs": [
    {
     "data": {
      "text/plain": [
       "{'M': {'N': 130, 'B': 0, 'L': 0, 'C': 0, 'V': 20},\n",
       " 'D': {'N': 0, 'B': 130, 'L': 0, 'C': 0, 'V': 70},\n",
       " 'N': {'B': 0, 'L': 130, 'C': 0, 'V': 0},\n",
       " 'C': {'B': 0, 'L': 0, 'N': 0, 'V': 0},\n",
       " 'B': {'V': 0},\n",
       " 'L': {'V': 0},\n",
       " 'V': {}}"
      ]
     },
     "execution_count": 10,
     "metadata": {},
     "output_type": "execute_result"
    }
   ],
   "source": [
    "flowDict"
   ]
  },
  {
   "cell_type": "markdown",
   "metadata": {},
   "source": [
    "## 2 shortest path problem"
   ]
  },
  {
   "cell_type": "code",
   "execution_count": 11,
   "metadata": {},
   "outputs": [],
   "source": [
    "# Create graph\n",
    "H = nx.DiGraph()"
   ]
  },
  {
   "cell_type": "code",
   "execution_count": 12,
   "metadata": {},
   "outputs": [],
   "source": [
    "## 6 vertices (nodes)\n",
    "H.add_node('1', demand = -1)\n",
    "H.add_node('2')\n",
    "H.add_node('3')\n",
    "H.add_node('4')\n",
    "H.add_node('5')\n",
    "H.add_node('6', demand = 1)"
   ]
  },
  {
   "cell_type": "code",
   "execution_count": 13,
   "metadata": {},
   "outputs": [],
   "source": [
    "## Edges\n",
    "H.add_edge('1', '2', weight = 4)\n",
    "H.add_edge('1', '3', weight = 3)\n",
    "H.add_edge('2', '4', weight = 3)\n",
    "H.add_edge('2', '5', weight = 2)\n",
    "H.add_edge('3', '5', weight = 3)\n",
    "H.add_edge('4', '6', weight = 2)\n",
    "H.add_edge('5', '6', weight = 2)"
   ]
  },
  {
   "cell_type": "code",
   "execution_count": 14,
   "metadata": {},
   "outputs": [],
   "source": [
    "flowCost, flowDict = nx.network_simplex(H)"
   ]
  },
  {
   "cell_type": "code",
   "execution_count": 15,
   "metadata": {},
   "outputs": [
    {
     "data": {
      "text/plain": [
       "8"
      ]
     },
     "execution_count": 15,
     "metadata": {},
     "output_type": "execute_result"
    }
   ],
   "source": [
    "flowCost"
   ]
  },
  {
   "cell_type": "code",
   "execution_count": 16,
   "metadata": {},
   "outputs": [
    {
     "data": {
      "text/plain": [
       "{'1': {'2': 1, '3': 0},\n",
       " '2': {'4': 0, '5': 1},\n",
       " '3': {'5': 0},\n",
       " '4': {'6': 0},\n",
       " '5': {'6': 1},\n",
       " '6': {}}"
      ]
     },
     "execution_count": 16,
     "metadata": {},
     "output_type": "execute_result"
    }
   ],
   "source": [
    "flowDict"
   ]
  },
  {
   "cell_type": "markdown",
   "metadata": {},
   "source": [
    "## 3 Maximum flow problem"
   ]
  },
  {
   "cell_type": "code",
   "execution_count": 17,
   "metadata": {},
   "outputs": [],
   "source": [
    "# Create graph\n",
    "F = nx.DiGraph()"
   ]
  },
  {
   "cell_type": "code",
   "execution_count": 18,
   "metadata": {},
   "outputs": [],
   "source": [
    "## 6 vertices (nodes)\n",
    "F.add_node('O')\n",
    "F.add_node('A')\n",
    "F.add_node('B')\n",
    "F.add_node('C')\n",
    "F.add_node('D')\n",
    "F.add_node('E')\n",
    "F.add_node('T')"
   ]
  },
  {
   "cell_type": "code",
   "execution_count": 19,
   "metadata": {},
   "outputs": [],
   "source": [
    "## Edges\n",
    "F.add_edge('O', 'A', capacity = 5) #only capacity\n",
    "F.add_edge('O', 'B', capacity = 7)\n",
    "F.add_edge('O', 'C', capacity = 4)\n",
    "F.add_edge('A', 'B', capacity = 1)\n",
    "F.add_edge('A', 'D', capacity = 3)\n",
    "F.add_edge('B', 'C', capacity = 2)\n",
    "F.add_edge('B', 'D', capacity = 4)\n",
    "F.add_edge('B', 'E', capacity = 5)\n",
    "F.add_edge('C', 'E', capacity = 4)\n",
    "F.add_edge('D', 'T', capacity = 9)\n",
    "F.add_edge('E', 'D', capacity = 1)\n",
    "F.add_edge('E', 'T', capacity = 6)"
   ]
  },
  {
   "cell_type": "code",
   "execution_count": 20,
   "metadata": {},
   "outputs": [],
   "source": [
    "flowValue, flowDict = nx.maximum_flow(F,'O','T')"
   ]
  },
  {
   "cell_type": "code",
   "execution_count": 21,
   "metadata": {},
   "outputs": [
    {
     "data": {
      "text/plain": [
       "14"
      ]
     },
     "execution_count": 21,
     "metadata": {},
     "output_type": "execute_result"
    }
   ],
   "source": [
    "flowValue"
   ]
  },
  {
   "cell_type": "code",
   "execution_count": 22,
   "metadata": {},
   "outputs": [
    {
     "data": {
      "text/plain": [
       "{'O': {'A': 4, 'B': 6, 'C': 4},\n",
       " 'A': {'B': 1, 'D': 3},\n",
       " 'B': {'C': 0, 'D': 4, 'E': 3},\n",
       " 'C': {'E': 4},\n",
       " 'D': {'T': 8},\n",
       " 'E': {'D': 1, 'T': 6},\n",
       " 'T': {}}"
      ]
     },
     "execution_count": 22,
     "metadata": {},
     "output_type": "execute_result"
    }
   ],
   "source": [
    "flowDict"
   ]
  },
  {
   "cell_type": "code",
   "execution_count": null,
   "metadata": {},
   "outputs": [],
   "source": []
  }
 ],
 "metadata": {
  "kernelspec": {
   "display_name": "Python 3",
   "language": "python",
   "name": "python3"
  },
  "language_info": {
   "codemirror_mode": {
    "name": "ipython",
    "version": 3
   },
   "file_extension": ".py",
   "mimetype": "text/x-python",
   "name": "python",
   "nbconvert_exporter": "python",
   "pygments_lexer": "ipython3",
   "version": "3.8.3"
  },
  "latex_envs": {
   "LaTeX_envs_menu_present": true,
   "autoclose": false,
   "autocomplete": true,
   "bibliofile": "biblio.bib",
   "cite_by": "apalike",
   "current_citInitial": 1,
   "eqLabelWithNumbers": true,
   "eqNumInitial": 1,
   "hotkeys": {
    "equation": "Ctrl-E",
    "itemize": "Ctrl-I"
   },
   "labels_anchors": false,
   "latex_user_defs": false,
   "report_style_numbering": false,
   "user_envs_cfg": false
  }
 },
 "nbformat": 4,
 "nbformat_minor": 4
}
