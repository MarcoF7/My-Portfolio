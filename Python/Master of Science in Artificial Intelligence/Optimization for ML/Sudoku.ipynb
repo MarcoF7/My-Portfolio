{
 "cells": [
  {
   "cell_type": "markdown",
   "metadata": {},
   "source": [
    "## The objective is to solve the puzzle Sudoku for any size (order), using integer programming."
   ]
  },
  {
   "cell_type": "code",
   "execution_count": 1,
   "metadata": {},
   "outputs": [],
   "source": [
    "%matplotlib notebook\n",
    "import numpy as np\n",
    "import cvxopt #Linear and Integer Programming Solver\n",
    "import cvxopt.glpk\n",
    "\n",
    "mainsize=3"
   ]
  },
  {
   "cell_type": "code",
   "execution_count": 2,
   "metadata": {},
   "outputs": [],
   "source": [
    "## help for the integer LP solver in cvxopt\n",
    "cvxopt.glpk.ilp?"
   ]
  },
  {
   "cell_type": "code",
   "execution_count": 3,
   "metadata": {},
   "outputs": [
    {
     "data": {
      "text/plain": [
       "' not used, for reference only\\ndef ravel(l,size=3):\\n    n2=size*size\\n    assert (l>=0 and l < n2*n2*n2)\\n    i = l // (n2*n2)\\n    j = (l % (n2*n2)) // n2\\n    k = l - i*n2*n2 - j*n2\\n    return ((i,j,k))\\n'"
      ]
     },
     "execution_count": 3,
     "metadata": {},
     "output_type": "execute_result"
    }
   ],
   "source": [
    "## To help create the huge matrix\n",
    "def unravel(i,j,k,size=mainsize):\n",
    "    '''\n",
    "    Associate a unique variable index given a 3-index (ijk) \n",
    "    '''\n",
    "    n2 = size*size\n",
    "    assert(i>=0 and i<n2)\n",
    "    assert(j>=0 and i<n2)\n",
    "    assert(k>=0 and i<n2)\n",
    "    \n",
    "    return(k+ j*n2+ i*n2*n2)\n",
    "\n",
    "\n",
    "\"\"\" not used, for reference only\n",
    "def ravel(l,size=3):\n",
    "    n2=size*size\n",
    "    assert (l>=0 and l < n2*n2*n2)\n",
    "    i = l // (n2*n2)\n",
    "    j = (l % (n2*n2)) // n2\n",
    "    k = l - i*n2*n2 - j*n2\n",
    "    return ((i,j,k))\n",
    "\"\"\""
   ]
  },
  {
   "cell_type": "code",
   "execution_count": 4,
   "metadata": {},
   "outputs": [
    {
     "data": {
      "text/plain": [
       "(324, 729)"
      ]
     },
     "execution_count": 4,
     "metadata": {},
     "output_type": "execute_result"
    }
   ],
   "source": [
    "#Create constraint matrix A\n",
    "size=3\n",
    "n2=size*size\n",
    "A=np.zeros((4*n2*n2,n2*n2*n2))\n",
    "A.shape"
   ]
  },
  {
   "cell_type": "code",
   "execution_count": 5,
   "metadata": {},
   "outputs": [],
   "source": [
    "#Initializing constraint counter c\n",
    "c=0"
   ]
  },
  {
   "cell_type": "markdown",
   "metadata": {},
   "source": [
    "## First, the line constraint\n",
    "## Only one number per line (each number can only appear once in a row)"
   ]
  },
  {
   "cell_type": "code",
   "execution_count": 6,
   "metadata": {},
   "outputs": [],
   "source": [
    "for k in range(n2): ## for all numbers\n",
    "    for j in range(n2): ## for all columns\n",
    "        for i in range(n2): \n",
    "            A[c,unravel(i,j,k)] = 1 ## only one number k on line i\n",
    "        c += 1 #Move to the next constraint"
   ]
  },
  {
   "cell_type": "markdown",
   "metadata": {},
   "source": [
    "## Second, the column constraint. \n",
    "## Only one number per column (each number can only appear once in a column)"
   ]
  },
  {
   "cell_type": "code",
   "execution_count": 7,
   "metadata": {},
   "outputs": [],
   "source": [
    "for k in range(n2): ## for all numbers\n",
    "    for i in range(n2): ## for all rows\n",
    "        for j in range(n2): \n",
    "            A[c,unravel(i,j,k)] = 1 ## only one number k on column j\n",
    "        c += 1 #Move to the next constraint   "
   ]
  },
  {
   "cell_type": "markdown",
   "metadata": {},
   "source": [
    "## Third, the single number located at any location (i,j) constraint\n",
    "## We cannot have more than 1 number in the same location (i,j)\n",
    "## Only one number per square (i,j)"
   ]
  },
  {
   "cell_type": "code",
   "execution_count": 8,
   "metadata": {},
   "outputs": [],
   "source": [
    "for i in range(n2): ## for all rows\n",
    "    for j in range(n2): ## for all columns\n",
    "        for k in range(n2): \n",
    "            A[c,unravel(i,j,k)] = 1 ## only one number in each square (i,j) at a time\n",
    "        c += 1 #Move to the next constraint   "
   ]
  },
  {
   "cell_type": "markdown",
   "metadata": {},
   "source": [
    "## Fourth, the 3x3 subsquares constraint \n",
    "## Only one number per 3x3 block (each number can only appear once in a 3x3 block)\n",
    "## We have in total 9 3x3 blocks and we have to apply this constraint to all of them"
   ]
  },
  {
   "cell_type": "code",
   "execution_count": 9,
   "metadata": {},
   "outputs": [],
   "source": [
    "for k in range(n2):\n",
    "    #First 3x3 block\n",
    "    for i in range(0,3):\n",
    "        for j in range(0,3):\n",
    "            A[c,unravel(i,j,k)] = 1 ## only one number k on first 3x3 block\n",
    "    c += 1 #Move to the next constraint         \n",
    "\n",
    "    #Second 3x3 block\n",
    "    for i in range(0,3):\n",
    "        for j in range(3,6):\n",
    "            A[c,unravel(i,j,k)] = 1 ## only one number k on second 3x3 block\n",
    "    c += 1 #Move to the next constraint      \n",
    "\n",
    "    #Third 3x3 block\n",
    "    for i in range(0,3):\n",
    "        for j in range(6,9):\n",
    "            A[c,unravel(i,j,k)] = 1 ## only one number k on third 3x3 block\n",
    "    c += 1 #Move to the next constraint   \n",
    "\n",
    "    #Fourth 3x3 block\n",
    "    for i in range(3,6):\n",
    "        for j in range(0,3):\n",
    "            A[c,unravel(i,j,k)] = 1 ## only one number k on fourth 3x3 block\n",
    "    c += 1 #Move to the next constraint          \n",
    "\n",
    "    #Fifth 3x3 block\n",
    "    for i in range(3,6):\n",
    "        for j in range(3,6):\n",
    "            A[c,unravel(i,j,k)] = 1 ## only one number k on fifth 3x3 block\n",
    "    c += 1 #Move to the next constraint   \n",
    "\n",
    "    #Sixth 3x3 block\n",
    "    for i in range(3,6):\n",
    "        for j in range(6,9):\n",
    "            A[c,unravel(i,j,k)] = 1 ## only one number k on sixth 3x3 block\n",
    "    c += 1 #Move to the next constraint \n",
    "\n",
    "    #Seventh 3x3 block\n",
    "    for i in range(6,9):\n",
    "        for j in range(0,3):\n",
    "            A[c,unravel(i,j,k)] = 1 ## only one number k on seventh 3x3 block\n",
    "    c += 1 #Move to the next constraint          \n",
    "\n",
    "    #Eighth 3x3 block\n",
    "    for i in range(6,9):\n",
    "        for j in range(3,6):\n",
    "            A[c,unravel(i,j,k)] = 1 ## only one number k on eighth 3x3 block\n",
    "    c += 1 #Move to the next constraint    \n",
    "\n",
    "    #Nineth 3x3 block\n",
    "    for i in range(6,9):\n",
    "        for j in range(6,9):\n",
    "            A[c,unravel(i,j,k)] = 1 ## only one number k on nineth 3x3 block\n",
    "    c += 1 #Move to the next constraint     "
   ]
  },
  {
   "cell_type": "code",
   "execution_count": 10,
   "metadata": {},
   "outputs": [
    {
     "name": "stdout",
     "output_type": "stream",
     "text": [
      "Total number of constraints= 324\n",
      "All constraints OK\n"
     ]
    }
   ],
   "source": [
    "print(\"Total number of constraints=\",c)\n",
    "\n",
    "def testA(A,c,size=3):\n",
    "    n2 = size*size\n",
    "    for n in range(c):\n",
    "        if (np.sum(A[n,])!=n2):\n",
    "            print(\"error on line\", n)\n",
    "            break\n",
    "    print(\"All constraints OK\")\n",
    "    return\n",
    "\n",
    "testA(A,c)"
   ]
  },
  {
   "cell_type": "code",
   "execution_count": 11,
   "metadata": {},
   "outputs": [
    {
     "data": {
      "text/plain": [
       "(324, 729)"
      ]
     },
     "execution_count": 11,
     "metadata": {},
     "output_type": "execute_result"
    }
   ],
   "source": [
    "A.shape"
   ]
  },
  {
   "cell_type": "markdown",
   "metadata": {},
   "source": [
    "## Saving a copy of the base Constraint Matrix for later use in the hard Sudoku test"
   ]
  },
  {
   "cell_type": "code",
   "execution_count": 12,
   "metadata": {},
   "outputs": [],
   "source": [
    "A2 = A"
   ]
  },
  {
   "cell_type": "markdown",
   "metadata": {},
   "source": [
    "## Simple Sudoku"
   ]
  },
  {
   "cell_type": "code",
   "execution_count": 13,
   "metadata": {},
   "outputs": [],
   "source": [
    "K = np.array([\n",
    "[0,8,0, 9,0,1, 0,5,0],\n",
    "[0,0,2, 6,8,7, 3,0,0],\n",
    "[0,0,3, 0,0,0, 6,0,0],\n",
    "[3,9,0, 0,0,0, 0,6,5],\n",
    "[6,0,0, 4,7,5, 0,0,3],\n",
    "[5,7,0, 0,0,0, 0,8,4],\n",
    "[0,0,9, 0,0,0, 8,0,0],\n",
    "[0,0,5, 1,2,4, 9,0,0],\n",
    "[0,4,0, 8,0,3, 0,2,0]])"
   ]
  },
  {
   "cell_type": "markdown",
   "metadata": {},
   "source": [
    "## Define given number constraints for Simple Sudoku"
   ]
  },
  {
   "cell_type": "code",
   "execution_count": 14,
   "metadata": {},
   "outputs": [
    {
     "name": "stdout",
     "output_type": "stream",
     "text": [
      "A.shape= (359, 729)\n"
     ]
    }
   ],
   "source": [
    "for i in range(n2):\n",
    "    for j in range(n2):\n",
    "        k = K[i,j]\n",
    "        if (k>0):\n",
    "            newrow=np.zeros(n2*n2*n2) #Initialize new constraint\n",
    "            newrow[unravel(i,j,k-1)]=1 #Create the given number constraint \n",
    "            A=np.vstack((A,newrow)) #Add it to the constraint matrix\n",
    "            \n",
    "print(\"A.shape=\", A.shape)"
   ]
  },
  {
   "cell_type": "markdown",
   "metadata": {},
   "source": [
    "## Solving using cvxopt"
   ]
  },
  {
   "cell_type": "code",
   "execution_count": 15,
   "metadata": {},
   "outputs": [],
   "source": [
    "from cvxopt import matrix\n",
    "\n",
    "b=matrix(np.ones(A.shape[0])) ## set partition\n",
    "c=matrix(np.zeros(A.shape[1])) ## zero cost\n",
    "G=matrix(np.zeros(A.shape))\n",
    "h=matrix(np.zeros(A.shape[0]))\n",
    "binary=np.array(range(A.shape[1]))\n",
    "I=set(binary)\n",
    "B=set(range(A.shape[1]))\n",
    "Aeq = matrix(A)\n",
    "(status, solution) = cvxopt.glpk.ilp(c=c,G=G,h=h,A=Aeq,b=b,B=set(range(A.shape[1])))"
   ]
  },
  {
   "cell_type": "code",
   "execution_count": 16,
   "metadata": {},
   "outputs": [
    {
     "data": {
      "text/plain": [
       "'optimal'"
      ]
     },
     "execution_count": 16,
     "metadata": {},
     "output_type": "execute_result"
    }
   ],
   "source": [
    "#Checking solution status\n",
    "status"
   ]
  },
  {
   "cell_type": "markdown",
   "metadata": {},
   "source": [
    "## Print solution"
   ]
  },
  {
   "cell_type": "code",
   "execution_count": 17,
   "metadata": {},
   "outputs": [
    {
     "name": "stdout",
     "output_type": "stream",
     "text": [
      "+-----+-----+-----+\n",
      "|7 8 6|9 3 1|4 5 2|\n",
      "|4 5 2|6 8 7|3 1 9|\n",
      "|9 1 3|5 4 2|6 7 8|\n",
      "+-----+-----+-----+\n",
      "|3 9 4|2 1 8|7 6 5|\n",
      "|6 2 8|4 7 5|1 9 3|\n",
      "|5 7 1|3 6 9|2 8 4|\n",
      "+-----+-----+-----+\n",
      "|2 3 9|7 5 6|8 4 1|\n",
      "|8 6 5|1 2 4|9 3 7|\n",
      "|1 4 7|8 9 3|5 2 6|\n",
      "+-----+-----+-----+\n"
     ]
    }
   ],
   "source": [
    "\n",
    "def printsol(sol):\n",
    "    sep3=\"+-----+-----+-----+\"\n",
    "    for i in range(n2):\n",
    "        if (i%3 == 0):\n",
    "            print(sep3)\n",
    "        print(\"|\",end='')\n",
    "        for j in range(n2):\n",
    "            for k in range(n2):\n",
    "                if (sol[unravel(i,j,k)]==1):\n",
    "                    print(k+1,end='')\n",
    "            if (j%3 ==2):\n",
    "                print(\"|\",end='')\n",
    "            else:\n",
    "                print(\" \",end='')\n",
    "        print(\"\")\n",
    "    print(sep3)\n",
    "        \n",
    "printsol(solution)\n",
    "          "
   ]
  },
  {
   "cell_type": "markdown",
   "metadata": {},
   "source": [
    "## Hard Sudoku"
   ]
  },
  {
   "cell_type": "code",
   "execution_count": 18,
   "metadata": {},
   "outputs": [],
   "source": [
    "K = np.array([\n",
    "[7,0,0, 0,0,0, 4,0,0],\n",
    "[0,2,0, 0,7,0, 0,8,0],\n",
    "[0,0,3, 0,0,8, 0,0,9],\n",
    "[0,0,0, 5,0,0, 3,0,0],\n",
    "[0,6,0, 0,2,0, 0,9,0],\n",
    "[0,0,1, 0,0,7, 0,0,6],\n",
    "[0,0,0, 3,0,0, 9,0,0],\n",
    "[0,3,0, 0,4,0, 0,6,0],\n",
    "[0,0,9, 0,0,1, 0,0,5]])"
   ]
  },
  {
   "cell_type": "markdown",
   "metadata": {},
   "source": [
    "## Define given number constraints for Hard Sudoku"
   ]
  },
  {
   "cell_type": "code",
   "execution_count": 19,
   "metadata": {},
   "outputs": [
    {
     "name": "stdout",
     "output_type": "stream",
     "text": [
      "A2.shape= (348, 729)\n"
     ]
    }
   ],
   "source": [
    "for i in range(n2):\n",
    "    for j in range(n2):\n",
    "        k = K[i,j]\n",
    "        if (k>0):\n",
    "            newrow=np.zeros(n2*n2*n2) #Initialize new constraint\n",
    "            newrow[unravel(i,j,k-1)]=1 #Create the given number constraint \n",
    "            A2=np.vstack((A2,newrow)) #Add it to the constraint matrix\n",
    "            \n",
    "print(\"A2.shape=\", A2.shape)"
   ]
  },
  {
   "cell_type": "markdown",
   "metadata": {},
   "source": [
    "## Solving using cvxopt"
   ]
  },
  {
   "cell_type": "code",
   "execution_count": 20,
   "metadata": {},
   "outputs": [],
   "source": [
    "from cvxopt import matrix\n",
    "\n",
    "b=matrix(np.ones(A2.shape[0])) ## set partition\n",
    "c=matrix(np.zeros(A2.shape[1])) ## zero cost\n",
    "G=matrix(np.zeros(A2.shape))\n",
    "h=matrix(np.zeros(A2.shape[0]))\n",
    "binary=np.array(range(A2.shape[1]))\n",
    "I=set(binary)\n",
    "B=set(range(A2.shape[1]))\n",
    "Aeq = matrix(A2)\n",
    "(status, solution) = cvxopt.glpk.ilp(c=c,G=G,h=h,A=Aeq,b=b,B=set(range(A2.shape[1])))"
   ]
  },
  {
   "cell_type": "code",
   "execution_count": 21,
   "metadata": {},
   "outputs": [
    {
     "data": {
      "text/plain": [
       "'optimal'"
      ]
     },
     "execution_count": 21,
     "metadata": {},
     "output_type": "execute_result"
    }
   ],
   "source": [
    "#Checking solution status\n",
    "status"
   ]
  },
  {
   "cell_type": "markdown",
   "metadata": {},
   "source": [
    "## Print solution"
   ]
  },
  {
   "cell_type": "code",
   "execution_count": 22,
   "metadata": {},
   "outputs": [
    {
     "name": "stdout",
     "output_type": "stream",
     "text": [
      "+-----+-----+-----+\n",
      "|7 9 8|6 3 5|4 2 1|\n",
      "|1 2 6|9 7 4|5 8 3|\n",
      "|4 5 3|2 1 8|6 7 9|\n",
      "+-----+-----+-----+\n",
      "|9 7 2|5 8 6|3 1 4|\n",
      "|5 6 4|1 2 3|8 9 7|\n",
      "|3 8 1|4 9 7|2 5 6|\n",
      "+-----+-----+-----+\n",
      "|6 1 7|3 5 2|9 4 8|\n",
      "|8 3 5|7 4 9|1 6 2|\n",
      "|2 4 9|8 6 1|7 3 5|\n",
      "+-----+-----+-----+\n"
     ]
    }
   ],
   "source": [
    "def printsol(sol):\n",
    "    sep3=\"+-----+-----+-----+\"\n",
    "    for i in range(n2):\n",
    "        if (i%3 == 0):\n",
    "            print(sep3)\n",
    "        print(\"|\",end='')\n",
    "        for j in range(n2):\n",
    "            for k in range(n2):\n",
    "                if (sol[unravel(i,j,k)]==1):\n",
    "                    print(k+1,end='')\n",
    "            if (j%3 ==2):\n",
    "                print(\"|\",end='')\n",
    "            else:\n",
    "                print(\" \",end='')\n",
    "        print(\"\")\n",
    "    print(sep3)\n",
    "        \n",
    "printsol(solution)\n",
    "          "
   ]
  },
  {
   "cell_type": "markdown",
   "metadata": {},
   "source": [
    "## Now let's solve a Sudoku 4x4"
   ]
  },
  {
   "cell_type": "code",
   "execution_count": 23,
   "metadata": {},
   "outputs": [],
   "source": [
    "mainsize=4"
   ]
  },
  {
   "cell_type": "code",
   "execution_count": 24,
   "metadata": {},
   "outputs": [
    {
     "data": {
      "text/plain": [
       "' not used, for reference only\\ndef ravel(l,size=3):\\n    n2=size*size\\n    assert (l>=0 and l < n2*n2*n2)\\n    i = l // (n2*n2)\\n    j = (l % (n2*n2)) // n2\\n    k = l - i*n2*n2 - j*n2\\n    return ((i,j,k))\\n'"
      ]
     },
     "execution_count": 24,
     "metadata": {},
     "output_type": "execute_result"
    }
   ],
   "source": [
    "## To help create the huge matrix\n",
    "def unravel(i,j,k,size=mainsize):\n",
    "    '''\n",
    "    Associate a unique variable index given a 3-index (ijk) \n",
    "    '''\n",
    "    n2 = size*size\n",
    "    assert(i>=0 and i<n2)\n",
    "    assert(j>=0 and i<n2)\n",
    "    assert(k>=0 and i<n2)\n",
    "    \n",
    "    return(k+ j*n2+ i*n2*n2)\n",
    "\n",
    "\n",
    "\"\"\" not used, for reference only\n",
    "def ravel(l,size=3):\n",
    "    n2=size*size\n",
    "    assert (l>=0 and l < n2*n2*n2)\n",
    "    i = l // (n2*n2)\n",
    "    j = (l % (n2*n2)) // n2\n",
    "    k = l - i*n2*n2 - j*n2\n",
    "    return ((i,j,k))\n",
    "\"\"\""
   ]
  },
  {
   "cell_type": "code",
   "execution_count": 25,
   "metadata": {},
   "outputs": [
    {
     "data": {
      "text/plain": [
       "(1024, 4096)"
      ]
     },
     "execution_count": 25,
     "metadata": {},
     "output_type": "execute_result"
    }
   ],
   "source": [
    "#Create constraint matrix A\n",
    "size=4\n",
    "n2=size*size\n",
    "A=np.zeros((4*n2*n2,n2*n2*n2))\n",
    "A.shape"
   ]
  },
  {
   "cell_type": "code",
   "execution_count": 26,
   "metadata": {},
   "outputs": [],
   "source": [
    "#Initializing constraint counter c\n",
    "c=0"
   ]
  },
  {
   "cell_type": "markdown",
   "metadata": {},
   "source": [
    "## First, the line constraint\n",
    "## Only one number per line (each number can only appear once in a row)"
   ]
  },
  {
   "cell_type": "code",
   "execution_count": 27,
   "metadata": {},
   "outputs": [],
   "source": [
    "for k in range(n2): ## for all numbers\n",
    "    for j in range(n2): ## for all columns\n",
    "        for i in range(n2): \n",
    "            A[c,unravel(i,j,k)] = 1 ## only one number k on line i\n",
    "        c += 1 #Move to the next constraint"
   ]
  },
  {
   "cell_type": "markdown",
   "metadata": {},
   "source": [
    "## Second, the column constraint. \n",
    "## Only one number per column (each number can only appear once in a column)"
   ]
  },
  {
   "cell_type": "code",
   "execution_count": 28,
   "metadata": {},
   "outputs": [],
   "source": [
    "for k in range(n2): ## for all numbers\n",
    "    for i in range(n2): ## for all rows\n",
    "        for j in range(n2): \n",
    "            A[c,unravel(i,j,k)] = 1 ## only one number k on column j\n",
    "        c += 1 #Move to the next constraint   "
   ]
  },
  {
   "cell_type": "markdown",
   "metadata": {},
   "source": [
    "## Third, the single number located at any location (i,j) constraint\n",
    "## We cannot have more than 1 number in the same location (i,j)\n",
    "## Only one number per square (i,j)"
   ]
  },
  {
   "cell_type": "code",
   "execution_count": 29,
   "metadata": {},
   "outputs": [],
   "source": [
    "for i in range(n2): ## for all rows\n",
    "    for j in range(n2): ## for all columns\n",
    "        for k in range(n2): \n",
    "            A[c,unravel(i,j,k)] = 1 ## only one number in each square (i,j) at a time\n",
    "        c += 1 #Move to the next constraint   "
   ]
  },
  {
   "cell_type": "markdown",
   "metadata": {},
   "source": [
    "## Fourth, the 4x4 subsquares constraint \n",
    "## Only one number per 4x4 block (each number can only appear once in a 4x4 block)\n",
    "## We have in total 16 4x4 blocks and we have to apply this constraint to all of them"
   ]
  },
  {
   "cell_type": "code",
   "execution_count": 30,
   "metadata": {},
   "outputs": [],
   "source": [
    "for k in range(n2):\n",
    "    #First 4x4 block\n",
    "    for i in range(0,4):\n",
    "        for j in range(0,4):\n",
    "            A[c,unravel(i,j,k)] = 1 ## only one number k on first 4x4 block\n",
    "    c += 1 #Move to the next constraint         \n",
    "\n",
    "    #Second 4x4 block\n",
    "    for i in range(0,4):\n",
    "        for j in range(4,8):\n",
    "            A[c,unravel(i,j,k)] = 1 ## only one number k on second 4x4 block\n",
    "    c += 1 #Move to the next constraint      \n",
    "\n",
    "    #Third 4x4 block\n",
    "    for i in range(0,4):\n",
    "        for j in range(8,12):\n",
    "            A[c,unravel(i,j,k)] = 1 ## only one number k on third 4x4 block\n",
    "    c += 1 #Move to the next constraint   \n",
    "\n",
    "    #Fourth 4x4 block\n",
    "    for i in range(0,4):\n",
    "        for j in range(12,16):\n",
    "            A[c,unravel(i,j,k)] = 1 ## only one number k on fourth 4x4 block\n",
    "    c += 1 #Move to the next constraint          \n",
    "\n",
    "    #Fifth 4x4 block\n",
    "    for i in range(4,8):\n",
    "        for j in range(0,4):\n",
    "            A[c,unravel(i,j,k)] = 1 ## only one number k on fifth 4x4 block\n",
    "    c += 1 #Move to the next constraint   \n",
    "\n",
    "    #Sixth 4x4 block\n",
    "    for i in range(4,8):\n",
    "        for j in range(4,8):\n",
    "            A[c,unravel(i,j,k)] = 1 ## only one number k on sixth 4x4 block\n",
    "    c += 1 #Move to the next constraint \n",
    "\n",
    "    #Seventh 4x4 block\n",
    "    for i in range(4,8):\n",
    "        for j in range(8,12):\n",
    "            A[c,unravel(i,j,k)] = 1 ## only one number k on seventh 4x4 block\n",
    "    c += 1 #Move to the next constraint          \n",
    "\n",
    "    #Eighth 4x4 block\n",
    "    for i in range(4,8):\n",
    "        for j in range(12,16):\n",
    "            A[c,unravel(i,j,k)] = 1 ## only one number k on eighth 4x4 block\n",
    "    c += 1 #Move to the next constraint    \n",
    "\n",
    "    #Nineth 4x4 block\n",
    "    for i in range(8,12):\n",
    "        for j in range(0,4):\n",
    "            A[c,unravel(i,j,k)] = 1 ## only one number k on nineth 4x4 block\n",
    "    c += 1 #Move to the next constraint   \n",
    "\n",
    "    #Tenth 4x4 block\n",
    "    for i in range(8,12):\n",
    "        for j in range(4,8):\n",
    "            A[c,unravel(i,j,k)] = 1 ## only one number k on tenth 4x4 block\n",
    "    c += 1 #Move to the next constraint \n",
    "\n",
    "    #Eleventh 4x4 block\n",
    "    for i in range(8,12):\n",
    "        for j in range(8,12):\n",
    "            A[c,unravel(i,j,k)] = 1 ## only one number k on eleventh 4x4 block\n",
    "    c += 1 #Move to the next constraint          \n",
    "\n",
    "    #Twelfth 4x4 block\n",
    "    for i in range(8,12):\n",
    "        for j in range(12,16):\n",
    "            A[c,unravel(i,j,k)] = 1 ## only one number k on twelfth 4x4 block\n",
    "    c += 1 #Move to the next constraint     \n",
    "    \n",
    "    #Thirteenth 4x4 block\n",
    "    for i in range(12,16):\n",
    "        for j in range(0,4):\n",
    "            A[c,unravel(i,j,k)] = 1 ## only one number k on thirteenth 4x4 block\n",
    "    c += 1 #Move to the next constraint   \n",
    "\n",
    "    #Fourteenth 4x4 block\n",
    "    for i in range(12,16):\n",
    "        for j in range(4,8):\n",
    "            A[c,unravel(i,j,k)] = 1 ## only one number k on fourteenth 4x4 block\n",
    "    c += 1 #Move to the next constraint \n",
    "\n",
    "    #Fifteenth 4x4 block\n",
    "    for i in range(12,16):\n",
    "        for j in range(8,12):\n",
    "            A[c,unravel(i,j,k)] = 1 ## only one number k on fifteenth 4x4 block\n",
    "    c += 1 #Move to the next constraint          \n",
    "\n",
    "    #Sixteenth 4x4 block\n",
    "    for i in range(12,16):\n",
    "        for j in range(12,16):\n",
    "            A[c,unravel(i,j,k)] = 1 ## only one number k on sixteenth 4x4 block\n",
    "    c += 1 #Move to the next constraint      "
   ]
  },
  {
   "cell_type": "code",
   "execution_count": 31,
   "metadata": {},
   "outputs": [
    {
     "name": "stdout",
     "output_type": "stream",
     "text": [
      "Total number of constraints= 1024\n",
      "error on line 0\n",
      "All constraints OK\n"
     ]
    }
   ],
   "source": [
    "print(\"Total number of constraints=\",c)\n",
    "\n",
    "def testA(A,c,size=3):\n",
    "    n2 = size*size\n",
    "    for n in range(c):\n",
    "        if (np.sum(A[n,])!=n2):\n",
    "            print(\"error on line\", n)\n",
    "            break\n",
    "    print(\"All constraints OK\")\n",
    "    return\n",
    "\n",
    "testA(A,c)"
   ]
  },
  {
   "cell_type": "code",
   "execution_count": 32,
   "metadata": {},
   "outputs": [
    {
     "data": {
      "text/plain": [
       "(1024, 4096)"
      ]
     },
     "execution_count": 32,
     "metadata": {},
     "output_type": "execute_result"
    }
   ],
   "source": [
    "A.shape"
   ]
  },
  {
   "cell_type": "markdown",
   "metadata": {},
   "source": [
    "## To define the inital number constraints, we sum 1 to each number so that we can represent a '0' as '1' and therefore not mixed it up with the blank spaces represented strategically as '0'"
   ]
  },
  {
   "cell_type": "code",
   "execution_count": 33,
   "metadata": {},
   "outputs": [],
   "source": [
    "K = np.array([\n",
    "[9,16,0,13, 0,0,0,0, 0,11,0,0, 0,0,0,7],\n",
    "[0,0,0,11, 0,0,0,16, 0,0,0,12, 8,5,14,0],\n",
    "[12,0,5,0, 0,0,14,7, 0,8,0,0, 1,0,6,0],\n",
    "[2,0,0,0, 0,0,0,1, 4,0,10,3, 0,0,0,0],\n",
    "[0,0,0,0, 0,2,16,14, 0,4,1,0, 0,15,8,5],\n",
    "[0,2,0,7, 0,0,0,13, 0,12,0,0, 11,0,4,0],\n",
    "[0,13,0,14, 0,0,7,4, 0,6,0,0, 10,3,0,0],\n",
    "[10,0,4,5, 15,0,3,0, 0,0,8,14, 0,0,0,0],\n",
    "[0,0,0,0, 6,8,0,0, 0,9,0,13, 4,1,0,11],\n",
    "[0,0,15,3, 0,0,5,0, 8,2,0,0, 16,0,7,0],\n",
    "[0,6,0,4, 0,0,9,0, 10,0,0,0, 15,0,13,0],\n",
    "[8,1,7,0, 0,13,10,0, 14,15,4,0, 0,0,0,0],\n",
    "[0,0,0,0, 14,15,0,5, 1,0,0,0, 0,0,0,3],\n",
    "[0,8,0,9, 0,0,13,0, 5,3,0,0, 0,12,0,6],\n",
    "[0,3,10,15, 12,0,0,0, 6,0,0,0, 5,0,0,0],\n",
    "[7,0,0,0, 0,0,8,0, 0,0,0,0, 2,0,9,4]])"
   ]
  },
  {
   "cell_type": "markdown",
   "metadata": {},
   "source": [
    "## Define given number constraints of 4x4 hard Sudoku"
   ]
  },
  {
   "cell_type": "code",
   "execution_count": 34,
   "metadata": {},
   "outputs": [
    {
     "name": "stdout",
     "output_type": "stream",
     "text": [
      "A.shape= (1126, 4096)\n"
     ]
    }
   ],
   "source": [
    "for i in range(n2):\n",
    "    for j in range(n2):\n",
    "        k = K[i,j]\n",
    "        if (k>0):\n",
    "            newrow=np.zeros(n2*n2*n2) #Initialize new constraint\n",
    "            newrow[unravel(i,j,k-1)]=1 #Create the given number constraint \n",
    "            A=np.vstack((A,newrow)) #Add it to the constraint matrix\n",
    "            \n",
    "print(\"A.shape=\", A.shape)"
   ]
  },
  {
   "cell_type": "markdown",
   "metadata": {},
   "source": [
    "## Solving using cvxopt"
   ]
  },
  {
   "cell_type": "code",
   "execution_count": 35,
   "metadata": {},
   "outputs": [],
   "source": [
    "from cvxopt import matrix\n",
    "\n",
    "b=matrix(np.ones(A.shape[0])) ## set partition\n",
    "c=matrix(np.zeros(A.shape[1])) ## zero cost\n",
    "G=matrix(np.zeros(A.shape))\n",
    "h=matrix(np.zeros(A.shape[0]))\n",
    "binary=np.array(range(A.shape[1]))\n",
    "I=set(binary)\n",
    "B=set(range(A.shape[1]))\n",
    "Aeq = matrix(A)\n",
    "(status, solution) = cvxopt.glpk.ilp(c=c,G=G,h=h,A=Aeq,b=b,B=set(range(A.shape[1])))"
   ]
  },
  {
   "cell_type": "code",
   "execution_count": 36,
   "metadata": {},
   "outputs": [
    {
     "data": {
      "text/plain": [
       "'optimal'"
      ]
     },
     "execution_count": 36,
     "metadata": {},
     "output_type": "execute_result"
    }
   ],
   "source": [
    "#Checking solution status\n",
    "status"
   ]
  },
  {
   "cell_type": "markdown",
   "metadata": {},
   "source": [
    "## Print solution"
   ]
  },
  {
   "cell_type": "code",
   "execution_count": 37,
   "metadata": {},
   "outputs": [
    {
     "name": "stdout",
     "output_type": "stream",
     "text": [
      "+-------+-------+-------+-------+\n",
      "|8 F 0 C|1 B 5 7|E A D 4|2 3 9 6|\n",
      "|3 6 2 A|8 9 E F|1 0 5 B|7 4 D C|\n",
      "|B E 4 9|2 3 D 6|F 7 C 8|0 A 5 1|\n",
      "|1 D 5 7|C 4 A 0|3 6 9 2|B 8 F E|\n",
      "+-------+-------+-------+-------+\n",
      "|2 B 8 5|9 1 F D|A 3 0 6|C E 7 4|\n",
      "|E 1 F 6|7 8 0 C|2 B 4 9|A 5 3 D|\n",
      "|0 C 7 D|4 A 6 3|8 5 1 E|9 2 B F|\n",
      "|9 A 3 4|E 5 2 B|C F 7 D|8 6 1 0|\n",
      "+-------+-------+-------+-------+\n",
      "|4 9 D 1|5 7 B E|6 8 F C|3 0 2 A|\n",
      "|C 8 E 2|3 0 4 A|7 1 B 5|F D 6 9|\n",
      "|F 5 A 3|6 D 8 1|9 4 2 0|E 7 C B|\n",
      "|7 0 6 B|F C 9 2|D E 3 A|5 1 4 8|\n",
      "+-------+-------+-------+-------+\n",
      "|5 3 B F|D E 1 4|0 9 8 7|6 C A 2|\n",
      "|A 7 1 8|0 F C 9|4 2 6 3|D B E 5|\n",
      "|D 2 9 E|B 6 3 8|5 C A 1|4 F 0 7|\n",
      "|6 4 C 0|A 2 7 5|B D E F|1 9 8 3|\n",
      "+-------+-------+-------+-------+\n"
     ]
    }
   ],
   "source": [
    "def printsol(sol):\n",
    "    sep4=\"+-------+-------+-------+-------+\"\n",
    "    for i in range(n2):\n",
    "        if (i%4 == 0):\n",
    "            print(sep4)\n",
    "        print(\"|\",end='')\n",
    "        for j in range(n2):\n",
    "            for k in range(n2):\n",
    "                if (sol[unravel(i,j,k)]==1):\n",
    "                    if k<10:\n",
    "                        print(k,end='')\n",
    "                    elif k==10:\n",
    "                        print(\"A\",end='')\n",
    "                    elif k==11:\n",
    "                        print(\"B\",end='')     \n",
    "                    elif k==12:\n",
    "                        print(\"C\",end='')     \n",
    "                    elif k==13:\n",
    "                        print(\"D\",end='')       \n",
    "                    elif k==14:\n",
    "                        print(\"E\",end='')       \n",
    "                    elif k==15:\n",
    "                        print(\"F\",end='')                                     \n",
    "            if (j%4 ==3):\n",
    "                print(\"|\",end='')\n",
    "            else:\n",
    "                print(\" \",end='')\n",
    "        print(\"\")\n",
    "    print(sep4)\n",
    "        \n",
    "printsol(solution)\n",
    "          "
   ]
  },
  {
   "cell_type": "markdown",
   "metadata": {},
   "source": [
    "## End Sudoku"
   ]
  }
 ],
 "metadata": {
  "kernelspec": {
   "display_name": "Python 3",
   "language": "python",
   "name": "python3"
  },
  "language_info": {
   "codemirror_mode": {
    "name": "ipython",
    "version": 3
   },
   "file_extension": ".py",
   "mimetype": "text/x-python",
   "name": "python",
   "nbconvert_exporter": "python",
   "pygments_lexer": "ipython3",
   "version": "3.8.3"
  },
  "latex_envs": {
   "LaTeX_envs_menu_present": true,
   "autoclose": false,
   "autocomplete": true,
   "bibliofile": "biblio.bib",
   "cite_by": "apalike",
   "current_citInitial": 1,
   "eqLabelWithNumbers": true,
   "eqNumInitial": 1,
   "hotkeys": {
    "equation": "Ctrl-E",
    "itemize": "Ctrl-I"
   },
   "labels_anchors": false,
   "latex_user_defs": false,
   "report_style_numbering": false,
   "user_envs_cfg": false
  }
 },
 "nbformat": 4,
 "nbformat_minor": 4
}
