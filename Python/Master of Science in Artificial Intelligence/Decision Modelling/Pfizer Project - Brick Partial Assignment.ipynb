{
 "cells": [
  {
   "cell_type": "code",
   "execution_count": 104,
   "metadata": {},
   "outputs": [],
   "source": [
    "import numpy as np\n",
    "import cvxopt #Linear and Integer Programming Solver\n",
    "import cvxopt.glpk\n",
    "from cvxopt import matrix\n",
    "import matplotlib.pyplot as plt"
   ]
  },
  {
   "cell_type": "code",
   "execution_count": 105,
   "metadata": {},
   "outputs": [],
   "source": [
    "cvxopt.glpk.ilp?"
   ]
  },
  {
   "cell_type": "code",
   "execution_count": 106,
   "metadata": {},
   "outputs": [],
   "source": [
    "#We have in total 88 binary variables\n",
    "nbr_bricks = 22 #Defining number of bricks\n",
    "nbr_SRs = 4 #Defining number of sales representatives\n",
    "#The brick id goes from 1 to 22, but for computation simplicity, we will consider it from 0 to 21\n",
    "#The sales representative id goes from 1 to 4, but for computation simplicity, we will consider it from 0 to 3"
   ]
  },
  {
   "cell_type": "code",
   "execution_count": 107,
   "metadata": {},
   "outputs": [],
   "source": [
    "#Defining constant values\n",
    "#Brick Index Value Array:\n",
    "brick_index = np.array([0.1609, 0.1164, 0.1026, 0.1516, 0.0939, 0.1320, 0.0687, 0.0930, 0.2116, 0.2529, 0.0868, 0.0828, 0.0975, 0.8177, 0.4115, 0.3795, 0.0710, 0.0427, 0.1043, 0.0997, 0.1698, 0.2531])\n",
    "#Travel Distance between SR offices and bricks Matrix:\n",
    "distances = np.array([[16.16, 24.08, 24.32, 21.12] ,[19, 26.47, 27.24, 17.33] ,[25.29, 32.49, 33.42, 12.25] ,[0, 7.93, 8.31, 36.12] ,[3.07, 6.44, 7.56, 37.37] ,[1.22, 7.51, 8.19, 36.29] ,[2.8, 10.31, 10.95, 33.5] ,[2.87, 5.07, 5.67, 38.8] ,[3.8, 8.01, 7.41, 38.16] ,[12.35, 4.52, 4.35, 48.27] ,[11.11, 3.48, 2.97, 47.14] ,[21.99, 22.02, 24.07, 39.86] ,[8.82, 3.3, 5.36, 43.31] ,[7.93, 0, 2.07, 43.75] ,[9.34, 2.25, 1.11, 45.43] ,[8.31, 2.07, 0, 44.43] ,[7.31, 2.44, 1.11, 43.43] ,[7.55, 0.75, 1.53, 43.52] ,[11.13, 18.41, 19.26, 25.4] ,[17.49, 23.44, 24.76, 23.21] ,[11.03, 18.93, 19.28, 25.43] ,[36.12, 43.75, 44.43, 0]])"
   ]
  },
  {
   "cell_type": "code",
   "execution_count": 108,
   "metadata": {},
   "outputs": [
    {
     "data": {
      "text/plain": [
       "array([0.1609, 0.1164, 0.1026, 0.1516, 0.0939, 0.132 , 0.0687, 0.093 ,\n",
       "       0.2116, 0.2529, 0.0868, 0.0828, 0.0975, 0.8177, 0.4115, 0.3795,\n",
       "       0.071 , 0.0427, 0.1043, 0.0997, 0.1698, 0.2531])"
      ]
     },
     "execution_count": 108,
     "metadata": {},
     "output_type": "execute_result"
    }
   ],
   "source": [
    "brick_index"
   ]
  },
  {
   "cell_type": "code",
   "execution_count": 109,
   "metadata": {},
   "outputs": [
    {
     "data": {
      "text/plain": [
       "array([[16.16, 24.08, 24.32, 21.12],\n",
       "       [19.  , 26.47, 27.24, 17.33],\n",
       "       [25.29, 32.49, 33.42, 12.25],\n",
       "       [ 0.  ,  7.93,  8.31, 36.12],\n",
       "       [ 3.07,  6.44,  7.56, 37.37],\n",
       "       [ 1.22,  7.51,  8.19, 36.29],\n",
       "       [ 2.8 , 10.31, 10.95, 33.5 ],\n",
       "       [ 2.87,  5.07,  5.67, 38.8 ],\n",
       "       [ 3.8 ,  8.01,  7.41, 38.16],\n",
       "       [12.35,  4.52,  4.35, 48.27],\n",
       "       [11.11,  3.48,  2.97, 47.14],\n",
       "       [21.99, 22.02, 24.07, 39.86],\n",
       "       [ 8.82,  3.3 ,  5.36, 43.31],\n",
       "       [ 7.93,  0.  ,  2.07, 43.75],\n",
       "       [ 9.34,  2.25,  1.11, 45.43],\n",
       "       [ 8.31,  2.07,  0.  , 44.43],\n",
       "       [ 7.31,  2.44,  1.11, 43.43],\n",
       "       [ 7.55,  0.75,  1.53, 43.52],\n",
       "       [11.13, 18.41, 19.26, 25.4 ],\n",
       "       [17.49, 23.44, 24.76, 23.21],\n",
       "       [11.03, 18.93, 19.28, 25.43],\n",
       "       [36.12, 43.75, 44.43,  0.  ]])"
      ]
     },
     "execution_count": 109,
     "metadata": {},
     "output_type": "execute_result"
    }
   ],
   "source": [
    "distances"
   ]
  },
  {
   "cell_type": "code",
   "execution_count": 110,
   "metadata": {},
   "outputs": [],
   "source": [
    "#Creates a unique ID for each variable\n",
    "def get_id(i,j):\n",
    "    '''\n",
    "    Associate a unique variable index given a 2-index (i,j) \n",
    "    '''\n",
    "    assert(i>=0 and i<nbr_bricks)\n",
    "    assert(j>=0 and j<nbr_SRs)\n",
    "    \n",
    "    return(4*i + j)"
   ]
  },
  {
   "cell_type": "code",
   "execution_count": 111,
   "metadata": {},
   "outputs": [],
   "source": [
    "#Let's define the equality matrix\n",
    "#We have in total 26 equality constraints\n",
    "A = np.zeros((26,nbr_bricks*nbr_SRs))\n",
    "A.shape\n",
    "c=0 #Starting the constraint counter"
   ]
  },
  {
   "cell_type": "code",
   "execution_count": 112,
   "metadata": {},
   "outputs": [],
   "source": [
    "#Defining sales representatives offices (center bricks)\n",
    "for i in range(nbr_bricks):\n",
    "    for j in range(nbr_SRs):\n",
    "        #Define the office of Sales Representative 1 at brick 4\n",
    "        if i+1==4 and j+1==1: \n",
    "            A[c,get_id(i,j)]=1\n",
    "            c+=1\n",
    "        #Define the office of Sales Representative 2 at brick 14\n",
    "        if i+1==14 and j+1==2:\n",
    "            A[c,get_id(i,j)]=1\n",
    "            c+=1\n",
    "        #Define the office of Sales Representative 3 at brick 16\n",
    "        if i+1==16 and j+1==3:\n",
    "            A[c,get_id(i,j)]=1\n",
    "            c+=1\n",
    "        #Define the office of Sales Representative 4 at brick 22\n",
    "        if i+1==22 and j+1==4:\n",
    "            A[c,get_id(i,j)]=1\n",
    "            c+=1"
   ]
  },
  {
   "cell_type": "code",
   "execution_count": 113,
   "metadata": {},
   "outputs": [],
   "source": [
    "#Now we add the constraint that each brick cannot be assign to more than 1 sales representative at a time\n",
    "for i in range(nbr_bricks):\n",
    "    for j in range(nbr_SRs):\n",
    "        A[c,get_id(i,j)]=1 #Each brick can only be assigned to one SR at a time\n",
    "    c+=1"
   ]
  },
  {
   "cell_type": "code",
   "execution_count": 114,
   "metadata": {},
   "outputs": [
    {
     "data": {
      "text/plain": [
       "(26, 88)"
      ]
     },
     "execution_count": 114,
     "metadata": {},
     "output_type": "execute_result"
    }
   ],
   "source": [
    "A.shape"
   ]
  },
  {
   "cell_type": "code",
   "execution_count": 115,
   "metadata": {},
   "outputs": [],
   "source": [
    "#Now let's define the inequality matrix\n",
    "#We have in total 184 inequality constraints (8 for the balanced workload and 176 for defining the \n",
    "#range [0,1] for the 88 variables)\n",
    "G = np.zeros((184,nbr_bricks*nbr_SRs))\n",
    "G.shape\n",
    "c=0 #Starting the constraint counter"
   ]
  },
  {
   "cell_type": "code",
   "execution_count": 116,
   "metadata": {},
   "outputs": [],
   "source": [
    "#We also need to create the h array that will represent all values on the right-hand side of the inequalities, in this case the workload threshold [0.8-1.2]\n",
    "h=np.zeros(184)"
   ]
  },
  {
   "cell_type": "code",
   "execution_count": 117,
   "metadata": {},
   "outputs": [],
   "source": [
    "#Defining balanced workload range\n",
    "workload_l = 0.8\n",
    "workload_h = 1.2"
   ]
  },
  {
   "cell_type": "code",
   "execution_count": 118,
   "metadata": {},
   "outputs": [],
   "source": [
    "#Balanced Workload upper limit\n",
    "for j in range(nbr_SRs):\n",
    "    for i in range(nbr_bricks):\n",
    "        G[c,get_id(i,j)]=brick_index[i]\n",
    "        h[c]=workload_h\n",
    "    c+=1\n",
    "\n",
    "#Balanced Workload lower limit    \n",
    "for j in range(nbr_SRs):\n",
    "    for i in range(nbr_bricks):\n",
    "        G[c,get_id(i,j)]=-brick_index[i]\n",
    "        h[c]=-workload_l\n",
    "    c+=1     \n",
    "\n",
    "#Variables <= 1\n",
    "for j in range(nbr_SRs):\n",
    "    for i in range(nbr_bricks):\n",
    "        G[c,get_id(i,j)]=1\n",
    "        h[c]=1\n",
    "        c+=1\n",
    "\n",
    "#Variables >= 0    \n",
    "for j in range(nbr_SRs):\n",
    "    for i in range(nbr_bricks):\n",
    "        G[c,get_id(i,j)]=-1\n",
    "        h[c]=0\n",
    "        c+=1       "
   ]
  },
  {
   "cell_type": "code",
   "execution_count": 119,
   "metadata": {},
   "outputs": [
    {
     "data": {
      "text/plain": [
       "(184, 88)"
      ]
     },
     "execution_count": 119,
     "metadata": {},
     "output_type": "execute_result"
    }
   ],
   "source": [
    "G.shape"
   ]
  },
  {
   "cell_type": "code",
   "execution_count": 120,
   "metadata": {},
   "outputs": [],
   "source": [
    "#We initialize our distance travelled by SR'S objective\n",
    "total_distance = np.zeros(nbr_bricks*nbr_SRs)\n",
    "\n",
    "#Defining the distance objective function\n",
    "for i in range(nbr_bricks):\n",
    "    for j in range(nbr_SRs):\n",
    "        total_distance[get_id(i,j)] = distances[i][j]"
   ]
  },
  {
   "cell_type": "code",
   "execution_count": 121,
   "metadata": {},
   "outputs": [],
   "source": [
    "#Initializing disruption matrix\n",
    "total_disruption = np.zeros(nbr_bricks*nbr_SRs)\n",
    "\n",
    "#Finally, we define the disruption objective function\n",
    "for i in range(nbr_bricks):\n",
    "    for j in range(nbr_SRs):\n",
    "        if (i+1==1 and j+1==4) or (i+1==2 and j+1==4) or (i+1==3 and j+1==4) or (i+1==5 and j+1==1) or (i+1==6 and j+1==1) \\\n",
    "        or (i+1==7 and j+1==1) or (i+1==8 and j+1==1) or (i+1==9 and j+1==3) or (i+1==10 and j+1==2) or (i+1==11 and j+1==2) \\\n",
    "        or (i+1==12 and j+1==2) or (i+1==13 and j+1==2) or (i+1==15 and j+1==1) or (i+1==17 and j+1==3) \\\n",
    "        or (i+1==18 and j+1==3) or (i+1==19 and j+1==4) or (i+1==20 and j+1==4) or (i+1==21 and j+1==4):\n",
    "            total_disruption[get_id(i,j)]=-brick_index[i]"
   ]
  },
  {
   "cell_type": "code",
   "execution_count": 122,
   "metadata": {},
   "outputs": [],
   "source": [
    "#We will first minimize the total disruption and then start adding the total distance as a new constraint in order to implement the e-constraint algorithm\n",
    "Aeq = matrix(A)\n",
    "b=matrix(np.ones(A.shape[0]))\n",
    "G=matrix(G)\n",
    "h=matrix(h)\n",
    "cost_disrup=matrix(total_disruption) #total disruption as cost function\n",
    "cost_distance = matrix(total_distance)\n",
    "#B=set(range(A.shape[1])) #Set of binary variables\n",
    "#We use a factor of 0.00001 in order to remove weekly non-dominated solutions\n",
    "#(status, solution) = cvxopt.glpk.ilp(c=cost_disrup+0.00001*cost_distance,G=G,h=h,A=Aeq,b=b,B=B)\n",
    "(status, solution) = cvxopt.glpk.ilp(c=cost_disrup+0.00001*cost_distance,G=G,h=h,A=Aeq,b=b)"
   ]
  },
  {
   "cell_type": "code",
   "execution_count": 123,
   "metadata": {},
   "outputs": [
    {
     "data": {
      "text/plain": [
       "'optimal'"
      ]
     },
     "execution_count": 123,
     "metadata": {},
     "output_type": "execute_result"
    }
   ],
   "source": [
    "status"
   ]
  },
  {
   "cell_type": "code",
   "execution_count": 124,
   "metadata": {},
   "outputs": [
    {
     "name": "stdout",
     "output_type": "stream",
     "text": [
      "          SR1 SR2 SR3 SR4\n",
      "         +---+---+---+---+\n",
      "Brick 1               1.0\n",
      "         +---+---+---+---+\n",
      "Brick 2               1.0\n",
      "         +---+---+---+---+\n",
      "Brick 3               1.0\n",
      "         +---+---+---+---+\n",
      "Brick 4   1.0            \n",
      "         +---+---+---+---+\n",
      "Brick 5   1.0            \n",
      "         +---+---+---+---+\n",
      "Brick 6   1.0            \n",
      "         +---+---+---+---+\n",
      "Brick 7   1.0            \n",
      "         +---+---+---+---+\n",
      "Brick 8   1.0            \n",
      "         +---+---+---+---+\n",
      "Brick 9           1.0    \n",
      "         +---+---+---+---+\n",
      "Brick 10      0.8 0.2    \n",
      "         +---+---+---+---+\n",
      "Brick 11          1.0    \n",
      "         +---+---+---+---+\n",
      "Brick 12      1.0        \n",
      "         +---+---+---+---+\n",
      "Brick 13      1.0        \n",
      "         +---+---+---+---+\n",
      "Brick 14      1.0        \n",
      "         +---+---+---+---+\n",
      "Brick 15  1.0            \n",
      "         +---+---+---+---+\n",
      "Brick 16          1.0    \n",
      "         +---+---+---+---+\n",
      "Brick 17          1.0    \n",
      "         +---+---+---+---+\n",
      "Brick 18          1.0    \n",
      "         +---+---+---+---+\n",
      "Brick 19              1.0\n",
      "         +---+---+---+---+\n",
      "Brick 20              1.0\n",
      "         +---+---+---+---+\n",
      "Brick 21              1.0\n",
      "         +---+---+---+---+\n",
      "Brick 22              1.0\n",
      "         +---+---+---+---+\n"
     ]
    }
   ],
   "source": [
    "def printsol_decimal(sol):\n",
    "    header = \" \"*10 + \"SR1 SR2 SR3 SR4\"\n",
    "    print(header)\n",
    "    sep = \" \"*9 + \"+---+---+---+---+\"\n",
    "    print(sep)\n",
    "    for i in range(nbr_bricks):\n",
    "        if i+1<10:\n",
    "            print(\"Brick {}  \".format(i+1),end='')\n",
    "        else:\n",
    "            print(\"Brick {} \".format(i+1),end='')\n",
    "        for j in range(nbr_SRs):\n",
    "            print(\" \",end='')\n",
    "            if (sol[get_id(i,j)]>0.01):\n",
    "                print(\"{:3.1f}\".format(sol[get_id(i,j)]),end='')\n",
    "            else:\n",
    "                print(\"   \",end='')\n",
    "   \n",
    "        print(\"\")\n",
    "        print(sep)\n",
    "        \n",
    "printsol_decimal(solution)"
   ]
  },
  {
   "cell_type": "code",
   "execution_count": 125,
   "metadata": {},
   "outputs": [],
   "source": [
    "disruption_partial = cost_disrup.T*solution"
   ]
  },
  {
   "cell_type": "code",
   "execution_count": 126,
   "metadata": {},
   "outputs": [],
   "source": [
    "sum_disrupt_base=0\n",
    "for i in range(nbr_bricks):\n",
    "    if i+1 not in (4,14,16,22):\n",
    "        sum_disrupt_base +=  brick_index[i]"
   ]
  },
  {
   "cell_type": "code",
   "execution_count": 127,
   "metadata": {},
   "outputs": [],
   "source": [
    "#Computing the disruption value for the given conditions\n",
    "disruption_final = disruption_partial[0] + sum_disrupt_base"
   ]
  },
  {
   "cell_type": "code",
   "execution_count": 128,
   "metadata": {},
   "outputs": [
    {
     "data": {
      "text/plain": [
       "0.1376999999999997"
      ]
     },
     "execution_count": 128,
     "metadata": {},
     "output_type": "execute_result"
    }
   ],
   "source": [
    "#This is the value of disruption when considering it as the only objective function\n",
    "disruption_final"
   ]
  },
  {
   "cell_type": "code",
   "execution_count": 129,
   "metadata": {},
   "outputs": [],
   "source": [
    "#We initialize our distance travelled by SR'S (distance_final) for the first time before entering the iteration \n",
    "#process because the first time the algorithm does not have the value beforehand\n",
    "distance_final = cost_distance.T*solution"
   ]
  },
  {
   "cell_type": "code",
   "execution_count": 130,
   "metadata": {},
   "outputs": [
    {
     "data": {
      "text/plain": [
       "186.8657848952155"
      ]
     },
     "execution_count": 130,
     "metadata": {},
     "output_type": "execute_result"
    }
   ],
   "source": [
    "distance_final[0]"
   ]
  },
  {
   "cell_type": "markdown",
   "metadata": {},
   "source": [
    "## Now in order to implement the epsilon-method we need to start iterating while adding a new constraint based on the second objective function (Total distance)"
   ]
  },
  {
   "cell_type": "code",
   "execution_count": 131,
   "metadata": {},
   "outputs": [
    {
     "name": "stdout",
     "output_type": "stream",
     "text": [
      "Status for iteration 1: optimal\n",
      "Status for iteration 2: optimal\n",
      "Status for iteration 3: optimal\n",
      "Status for iteration 4: optimal\n",
      "Status for iteration 5: optimal\n",
      "Status for iteration 6: optimal\n",
      "Status for iteration 7: optimal\n",
      "Status for iteration 8: optimal\n",
      "Status for iteration 9: optimal\n",
      "Status for iteration 10: optimal\n",
      "Status for iteration 11: optimal\n",
      "Status for iteration 12: optimal\n",
      "Status for iteration 13: optimal\n",
      "Status for iteration 14: optimal\n",
      "Status for iteration 15: optimal\n",
      "Status for iteration 16: optimal\n",
      "Status for iteration 17: optimal\n",
      "Status for iteration 18: optimal\n",
      "Status for iteration 19: optimal\n",
      "Status for iteration 20: optimal\n",
      "Status for iteration 21: optimal\n",
      "Status for iteration 22: optimal\n",
      "Status for iteration 23: optimal\n",
      "Status for iteration 24: optimal\n",
      "Status for iteration 25: optimal\n",
      "Status for iteration 26: optimal\n",
      "Status for iteration 27: optimal\n",
      "Status for iteration 28: optimal\n",
      "Status for iteration 29: optimal\n",
      "Status for iteration 30: optimal\n",
      "Status for iteration 31: optimal\n",
      "Status for iteration 32: optimal\n",
      "Status for iteration 33: optimal\n",
      "Status for iteration 34: optimal\n",
      "Status for iteration 35: optimal\n",
      "Status for iteration 36: LP relaxation is primal infeasible\n"
     ]
    }
   ],
   "source": [
    "distance_final_points = []\n",
    "disruption_final_points = []\n",
    "solution_list = []\n",
    "\n",
    "disruption_final_points.append(disruption_final)\n",
    "distance_final_points.append(distance_final[0])\n",
    "solution_list.append(solution)\n",
    "\n",
    "nbr_iter = 1000\n",
    "\n",
    "for k in range(nbr_iter):\n",
    "    \n",
    "    G = np.zeros((185,nbr_bricks*nbr_SRs))\n",
    "    G.shape\n",
    "    c=0 #Starting the constraint counter\n",
    "    #We also need to create the h array that will represent all values on the right-hand side of the inequalities\n",
    "    h=np.zeros(185) # 8(workload balanced) + 176([0,1] range for variables) + 1 (epsilon constraint)  \n",
    "\n",
    "    #Balanced Workload upper limit    \n",
    "    for j in range(nbr_SRs):\n",
    "        for i in range(nbr_bricks):\n",
    "            G[c,get_id(i,j)]=brick_index[i]\n",
    "            h[c]=workload_h\n",
    "        c+=1\n",
    "\n",
    "    #Balanced Workload lower limit\n",
    "    for j in range(nbr_SRs):\n",
    "        for i in range(nbr_bricks):\n",
    "            G[c,get_id(i,j)]=-brick_index[i]\n",
    "            h[c]=-workload_l\n",
    "        c+=1   \n",
    "        \n",
    "    #Variables <= 1        \n",
    "    for j in range(nbr_SRs):\n",
    "        for i in range(nbr_bricks):\n",
    "            G[c,get_id(i,j)]=1\n",
    "            h[c]=1\n",
    "            c+=1\n",
    "\n",
    "    #Variables >= 0         \n",
    "    for j in range(nbr_SRs):\n",
    "        for i in range(nbr_bricks):\n",
    "            G[c,get_id(i,j)]=-1\n",
    "            h[c]=0\n",
    "            c+=1    \n",
    "    \n",
    "    #Epsilon Constraint    \n",
    "    for i in range(nbr_bricks):\n",
    "        for j in range(nbr_SRs):\n",
    "            G[c,get_id(i,j)] = distances[i][j]\n",
    "    h[c]=distance_final[0]-1 #Epsilon = 1       \n",
    "    c+=1\n",
    "    \n",
    "    Aeq = matrix(A)\n",
    "    b=matrix(np.ones(A.shape[0]))\n",
    "    G=matrix(G)\n",
    "    h=matrix(h)\n",
    "    cost_disrup=matrix(total_disruption) #total disruption as cost function\n",
    "    #B=set(range(A.shape[1])) #Set of binary variables\n",
    "    #We use a factor of 0.00001 in order to remove weekly non-dominated solutions\n",
    "    (status, solution) = cvxopt.glpk.ilp(c=cost_disrup+0.00001*cost_distance,G=G,h=h,A=Aeq,b=b)\n",
    "\n",
    "    print(\"Status for iteration {}: {}\".format(k+1,status))\n",
    "    if status != 'optimal':\n",
    "        break\n",
    "    \n",
    "    solution_list.append(solution) #Saving the current solution in a list\n",
    "    \n",
    "    #Disruption\n",
    "    disruption_partial = cost_disrup.T*solution    \n",
    "    sum_disrupt_base=0\n",
    "    for i in range(nbr_bricks):\n",
    "        if i+1 not in (4,14,16,22):\n",
    "            sum_disrupt_base +=  brick_index[i]    \n",
    "    #Computing the disruption value for the given conditions\n",
    "    disruption_final = disruption_partial[0] + sum_disrupt_base    \n",
    "    \n",
    "    #Distance\n",
    "    #For this particular condition let's compute the distance travelled by SR'S value    \n",
    "    total_distance = np.zeros(nbr_bricks*nbr_SRs)\n",
    "\n",
    "    for i in range(nbr_bricks):\n",
    "        for j in range(nbr_SRs):\n",
    "            total_distance[get_id(i,j)] = distances[i][j]    \n",
    "            \n",
    "    cost_distance = matrix(total_distance)\n",
    "    distance_final = cost_distance.T*solution\n",
    "    \n",
    "    #Storing objective values\n",
    "    disruption_final_points.append(disruption_final)\n",
    "    distance_final_points.append(distance_final[0])    "
   ]
  },
  {
   "cell_type": "code",
   "execution_count": 132,
   "metadata": {},
   "outputs": [
    {
     "data": {
      "text/plain": [
       "[0.1376999999999997,\n",
       " 0.14500903994393788,\n",
       " 0.15231807988787693,\n",
       " 0.15962711983181554,\n",
       " 0.1669361597757537,\n",
       " 0.17424519971969232,\n",
       " 0.18155423966363093,\n",
       " 0.18886327960756955,\n",
       " 0.19617231955150816,\n",
       " 0.20348135949544632,\n",
       " 0.21079039943938493,\n",
       " 0.21809943938332355,\n",
       " 0.22540847932726216,\n",
       " 0.23271751927120077,\n",
       " 0.24002655921513938,\n",
       " 0.2506079166666719,\n",
       " 0.26239958333333835,\n",
       " 0.27419125000000566,\n",
       " 0.2859829166666725,\n",
       " 0.29777458333333895,\n",
       " 0.3095662500000067,\n",
       " 0.32135791666667357,\n",
       " 0.33314958333334044,\n",
       " 0.3463710247350158,\n",
       " 0.39637102473501873,\n",
       " 0.44637102473502144,\n",
       " 0.49637102473502415,\n",
       " 0.5463710247350273,\n",
       " 0.5963710247350302,\n",
       " 0.6463710247350325,\n",
       " 0.6963710247350352,\n",
       " 0.7470693371825723,\n",
       " 0.8034459650262071,\n",
       " 0.8619418771963179,\n",
       " 0.9205568356450744,\n",
       " 0.988447838224846]"
      ]
     },
     "execution_count": 132,
     "metadata": {},
     "output_type": "execute_result"
    }
   ],
   "source": [
    "disruption_final_points"
   ]
  },
  {
   "cell_type": "code",
   "execution_count": 133,
   "metadata": {},
   "outputs": [
    {
     "data": {
      "text/plain": [
       "[186.8657848952155,\n",
       " 185.86578489521548,\n",
       " 184.86578489521546,\n",
       " 183.86578489521543,\n",
       " 182.8657848952154,\n",
       " 181.86578489521537,\n",
       " 180.86578489521534,\n",
       " 179.8657848952153,\n",
       " 178.86578489521528,\n",
       " 177.86578489521526,\n",
       " 176.86578489521523,\n",
       " 175.8657848952152,\n",
       " 174.86578489521517,\n",
       " 173.8657848952151,\n",
       " 172.86578489521509,\n",
       " 171.86578489521506,\n",
       " 170.86578489521503,\n",
       " 169.865784895215,\n",
       " 168.86578489521497,\n",
       " 167.86578489521494,\n",
       " 166.8657848952149,\n",
       " 165.8657848952149,\n",
       " 164.86578489521486,\n",
       " 163.8657848952148,\n",
       " 162.86578489521474,\n",
       " 161.8657848952147,\n",
       " 160.86578489521463,\n",
       " 159.86578489521457,\n",
       " 158.86578489521452,\n",
       " 157.86578489521446,\n",
       " 156.86578489521443,\n",
       " 155.86578489521438,\n",
       " 154.8657848952143,\n",
       " 153.86578489521423,\n",
       " 152.8657848952142,\n",
       " 151.86578489521412]"
      ]
     },
     "execution_count": 133,
     "metadata": {},
     "output_type": "execute_result"
    }
   ],
   "source": [
    "distance_final_points"
   ]
  },
  {
   "cell_type": "markdown",
   "metadata": {},
   "source": [
    "## Efficient Solutions"
   ]
  },
  {
   "cell_type": "code",
   "execution_count": 134,
   "metadata": {},
   "outputs": [
    {
     "data": {
      "text/plain": [
       "<matplotlib.collections.PathCollection at 0x10c4f1f80d0>"
      ]
     },
     "execution_count": 134,
     "metadata": {},
     "output_type": "execute_result"
    },
    {
     "data": {
      "image/png": "[encoded data removed]",
      "text/plain": [
       "<Figure size 432x288 with 1 Axes>"
      ]
     },
     "metadata": {
      "needs_background": "light"
     },
     "output_type": "display_data"
    }
   ],
   "source": [
    "plt.xlabel('Disruption Final Points')\n",
    "plt.ylabel('Distance Final Points')\n",
    "plt.scatter(disruption_final_points, distance_final_points)"
   ]
  },
  {
   "cell_type": "code",
   "execution_count": 135,
   "metadata": {},
   "outputs": [],
   "source": [
    "non_dominated_solutions = list(zip([round(num,2) for num in disruption_final_points], [round(num,2) for num in distance_final_points]))"
   ]
  },
  {
   "cell_type": "code",
   "execution_count": 136,
   "metadata": {},
   "outputs": [
    {
     "data": {
      "text/plain": [
       "[(0.14, 186.87),\n",
       " (0.15, 185.87),\n",
       " (0.15, 184.87),\n",
       " (0.16, 183.87),\n",
       " (0.17, 182.87),\n",
       " (0.17, 181.87),\n",
       " (0.18, 180.87),\n",
       " (0.19, 179.87),\n",
       " (0.2, 178.87),\n",
       " (0.2, 177.87),\n",
       " (0.21, 176.87),\n",
       " (0.22, 175.87),\n",
       " (0.23, 174.87),\n",
       " (0.23, 173.87),\n",
       " (0.24, 172.87),\n",
       " (0.25, 171.87),\n",
       " (0.26, 170.87),\n",
       " (0.27, 169.87),\n",
       " (0.29, 168.87),\n",
       " (0.3, 167.87),\n",
       " (0.31, 166.87),\n",
       " (0.32, 165.87),\n",
       " (0.33, 164.87),\n",
       " (0.35, 163.87),\n",
       " (0.4, 162.87),\n",
       " (0.45, 161.87),\n",
       " (0.5, 160.87),\n",
       " (0.55, 159.87),\n",
       " (0.6, 158.87),\n",
       " (0.65, 157.87),\n",
       " (0.7, 156.87),\n",
       " (0.75, 155.87),\n",
       " (0.8, 154.87),\n",
       " (0.86, 153.87),\n",
       " (0.92, 152.87),\n",
       " (0.99, 151.87)]"
      ]
     },
     "execution_count": 136,
     "metadata": {},
     "output_type": "execute_result"
    }
   ],
   "source": [
    "non_dominated_solutions"
   ]
  },
  {
   "cell_type": "markdown",
   "metadata": {},
   "source": [
    "## Discriminate solutions by an additive model"
   ]
  },
  {
   "cell_type": "code",
   "execution_count": 137,
   "metadata": {},
   "outputs": [],
   "source": [
    "#Function to normalize data to the range [0,1]\n",
    "def NormalizeData(data):\n",
    "    return (data - np.min(data)) / (np.max(data) - np.min(data))"
   ]
  },
  {
   "cell_type": "code",
   "execution_count": 138,
   "metadata": {
    "scrolled": true
   },
   "outputs": [],
   "source": [
    "#Using an additive aggregation function \n",
    "#with weights = 0.5 for both criteria Disruption and Distance\n",
    "additive_values = []\n",
    "\n",
    "for i in range(len(disruption_final_points)):\n",
    "    weighted_value = 0.5*NormalizeData(disruption_final_points)[i] + 0.5*NormalizeData(distance_final_points)[i]\n",
    "    additive_values.append(weighted_value)"
   ]
  },
  {
   "cell_type": "code",
   "execution_count": 139,
   "metadata": {
    "scrolled": true
   },
   "outputs": [
    {
     "data": {
      "text/plain": [
       "[0.5,\n",
       " 0.4900099416157978,\n",
       " 0.48001988323159617,\n",
       " 0.4700298248473942,\n",
       " 0.46003976646319206,\n",
       " 0.4500497080789901,\n",
       " 0.44005964969478817,\n",
       " 0.43006959131058625,\n",
       " 0.42007953292638434,\n",
       " 0.41008947454218214,\n",
       " 0.4000994161579802,\n",
       " 0.3901093577737783,\n",
       " 0.38011929938957634,\n",
       " 0.37012924100537403,\n",
       " 0.3601391826211721,\n",
       " 0.3520723248379978,\n",
       " 0.3447167878250645,\n",
       " 0.33736125081213164,\n",
       " 0.3300057137991986,\n",
       " 0.32265017678626523,\n",
       " 0.3152946397733323,\n",
       " 0.3079391027603996,\n",
       " 0.3005835657474665,\n",
       " 0.2940683333881374,\n",
       " 0.3091685297997289,\n",
       " 0.32426872621132025,\n",
       " 0.3393689226229116,\n",
       " 0.3544691190345032,\n",
       " 0.36956931544609467,\n",
       " 0.3846695118576857,\n",
       " 0.3997697082692775,\n",
       " 0.4152803156253101,\n",
       " 0.43412817236415935,\n",
       " 0.4542215711022094,\n",
       " 0.4743849355065225,\n",
       " 0.5]"
      ]
     },
     "execution_count": 139,
     "metadata": {},
     "output_type": "execute_result"
    }
   ],
   "source": [
    "#Final additive values\n",
    "additive_values"
   ]
  },
  {
   "cell_type": "code",
   "execution_count": 140,
   "metadata": {},
   "outputs": [
    {
     "data": {
      "text/plain": [
       "[0.5,\n",
       " 0.49,\n",
       " 0.48,\n",
       " 0.47,\n",
       " 0.46,\n",
       " 0.45,\n",
       " 0.4401,\n",
       " 0.4301,\n",
       " 0.4201,\n",
       " 0.4101,\n",
       " 0.4001,\n",
       " 0.3901,\n",
       " 0.3801,\n",
       " 0.3701,\n",
       " 0.3601,\n",
       " 0.3521,\n",
       " 0.3447,\n",
       " 0.3374,\n",
       " 0.33,\n",
       " 0.3227,\n",
       " 0.3153,\n",
       " 0.3079,\n",
       " 0.3006,\n",
       " 0.2941,\n",
       " 0.3092,\n",
       " 0.3243,\n",
       " 0.3394,\n",
       " 0.3545,\n",
       " 0.3696,\n",
       " 0.3847,\n",
       " 0.3998,\n",
       " 0.4153,\n",
       " 0.4341,\n",
       " 0.4542,\n",
       " 0.4744,\n",
       " 0.5]"
      ]
     },
     "execution_count": 140,
     "metadata": {},
     "output_type": "execute_result"
    }
   ],
   "source": [
    "#Rounding values\n",
    "[round(num,4) for num in additive_values]"
   ]
  },
  {
   "cell_type": "code",
   "execution_count": 141,
   "metadata": {},
   "outputs": [
    {
     "data": {
      "text/plain": [
       "23"
      ]
     },
     "execution_count": 141,
     "metadata": {},
     "output_type": "execute_result"
    }
   ],
   "source": [
    "#Index of the best aggregated solution\n",
    "np.argmin(additive_values) "
   ]
  },
  {
   "cell_type": "code",
   "execution_count": 142,
   "metadata": {},
   "outputs": [
    {
     "data": {
      "text/plain": [
       "(0.35, 163.87)"
      ]
     },
     "execution_count": 142,
     "metadata": {},
     "output_type": "execute_result"
    }
   ],
   "source": [
    "non_dominated_solutions[np.argmin(additive_values)]"
   ]
  },
  {
   "cell_type": "markdown",
   "metadata": {},
   "source": [
    "## Printing Solution Minimum Disruption and Distance"
   ]
  },
  {
   "cell_type": "code",
   "execution_count": 143,
   "metadata": {},
   "outputs": [
    {
     "name": "stdout",
     "output_type": "stream",
     "text": [
      "          SR1 SR2 SR3 SR4\n",
      "         +---+---+---+---+\n",
      "Brick 1               1.0\n",
      "         +---+---+---+---+\n",
      "Brick 2               1.0\n",
      "         +---+---+---+---+\n",
      "Brick 3               1.0\n",
      "         +---+---+---+---+\n",
      "Brick 4   1.0            \n",
      "         +---+---+---+---+\n",
      "Brick 5   1.0            \n",
      "         +---+---+---+---+\n",
      "Brick 6   1.0            \n",
      "         +---+---+---+---+\n",
      "Brick 7   1.0            \n",
      "         +---+---+---+---+\n",
      "Brick 8   1.0            \n",
      "         +---+---+---+---+\n",
      "Brick 9           1.0    \n",
      "         +---+---+---+---+\n",
      "Brick 10      0.8 0.2    \n",
      "         +---+---+---+---+\n",
      "Brick 11          1.0    \n",
      "         +---+---+---+---+\n",
      "Brick 12      1.0        \n",
      "         +---+---+---+---+\n",
      "Brick 13      1.0        \n",
      "         +---+---+---+---+\n",
      "Brick 14      1.0        \n",
      "         +---+---+---+---+\n",
      "Brick 15  1.0            \n",
      "         +---+---+---+---+\n",
      "Brick 16          1.0    \n",
      "         +---+---+---+---+\n",
      "Brick 17          1.0    \n",
      "         +---+---+---+---+\n",
      "Brick 18          1.0    \n",
      "         +---+---+---+---+\n",
      "Brick 19  1.0            \n",
      "         +---+---+---+---+\n",
      "Brick 20              1.0\n",
      "         +---+---+---+---+\n",
      "Brick 21  0.6         0.4\n",
      "         +---+---+---+---+\n",
      "Brick 22              1.0\n",
      "         +---+---+---+---+\n"
     ]
    }
   ],
   "source": [
    "#Best solution by using additive model\n",
    "printsol_decimal(solution_list[np.argmin(additive_values)])"
   ]
  },
  {
   "cell_type": "markdown",
   "metadata": {},
   "source": [
    "## Printing Solution Minimum Disruption"
   ]
  },
  {
   "cell_type": "code",
   "execution_count": 144,
   "metadata": {},
   "outputs": [
    {
     "name": "stdout",
     "output_type": "stream",
     "text": [
      "          SR1 SR2 SR3 SR4\n",
      "         +---+---+---+---+\n",
      "Brick 1               1.0\n",
      "         +---+---+---+---+\n",
      "Brick 2               1.0\n",
      "         +---+---+---+---+\n",
      "Brick 3               1.0\n",
      "         +---+---+---+---+\n",
      "Brick 4   1.0            \n",
      "         +---+---+---+---+\n",
      "Brick 5   1.0            \n",
      "         +---+---+---+---+\n",
      "Brick 6   1.0            \n",
      "         +---+---+---+---+\n",
      "Brick 7   1.0            \n",
      "         +---+---+---+---+\n",
      "Brick 8   1.0            \n",
      "         +---+---+---+---+\n",
      "Brick 9           1.0    \n",
      "         +---+---+---+---+\n",
      "Brick 10      0.8 0.2    \n",
      "         +---+---+---+---+\n",
      "Brick 11          1.0    \n",
      "         +---+---+---+---+\n",
      "Brick 12      1.0        \n",
      "         +---+---+---+---+\n",
      "Brick 13      1.0        \n",
      "         +---+---+---+---+\n",
      "Brick 14      1.0        \n",
      "         +---+---+---+---+\n",
      "Brick 15  1.0            \n",
      "         +---+---+---+---+\n",
      "Brick 16          1.0    \n",
      "         +---+---+---+---+\n",
      "Brick 17          1.0    \n",
      "         +---+---+---+---+\n",
      "Brick 18          1.0    \n",
      "         +---+---+---+---+\n",
      "Brick 19              1.0\n",
      "         +---+---+---+---+\n",
      "Brick 20              1.0\n",
      "         +---+---+---+---+\n",
      "Brick 21              1.0\n",
      "         +---+---+---+---+\n",
      "Brick 22              1.0\n",
      "         +---+---+---+---+\n"
     ]
    }
   ],
   "source": [
    "printsol_decimal(solution_list[0])"
   ]
  },
  {
   "cell_type": "markdown",
   "metadata": {},
   "source": [
    "## Printing Solution Minimum Distance"
   ]
  },
  {
   "cell_type": "code",
   "execution_count": 145,
   "metadata": {},
   "outputs": [
    {
     "name": "stdout",
     "output_type": "stream",
     "text": [
      "          SR1 SR2 SR3 SR4\n",
      "         +---+---+---+---+\n",
      "Brick 1               1.0\n",
      "         +---+---+---+---+\n",
      "Brick 2               1.0\n",
      "         +---+---+---+---+\n",
      "Brick 3               1.0\n",
      "         +---+---+---+---+\n",
      "Brick 4   1.0            \n",
      "         +---+---+---+---+\n",
      "Brick 5   1.0            \n",
      "         +---+---+---+---+\n",
      "Brick 6   1.0            \n",
      "         +---+---+---+---+\n",
      "Brick 7   1.0            \n",
      "         +---+---+---+---+\n",
      "Brick 8   1.0            \n",
      "         +---+---+---+---+\n",
      "Brick 9   1.0            \n",
      "         +---+---+---+---+\n",
      "Brick 10      0.8 0.2    \n",
      "         +---+---+---+---+\n",
      "Brick 11          1.0    \n",
      "         +---+---+---+---+\n",
      "Brick 12      1.0        \n",
      "         +---+---+---+---+\n",
      "Brick 13      1.0        \n",
      "         +---+---+---+---+\n",
      "Brick 14      1.0        \n",
      "         +---+---+---+---+\n",
      "Brick 15          1.0    \n",
      "         +---+---+---+---+\n",
      "Brick 16          1.0    \n",
      "         +---+---+---+---+\n",
      "Brick 17          1.0    \n",
      "         +---+---+---+---+\n",
      "Brick 18      0.2 0.8    \n",
      "         +---+---+---+---+\n",
      "Brick 19  1.0            \n",
      "         +---+---+---+---+\n",
      "Brick 20              1.0\n",
      "         +---+---+---+---+\n",
      "Brick 21  0.6         0.4\n",
      "         +---+---+---+---+\n",
      "Brick 22              1.0\n",
      "         +---+---+---+---+\n"
     ]
    }
   ],
   "source": [
    "printsol_decimal(solution_list[-1])"
   ]
  },
  {
   "cell_type": "markdown",
   "metadata": {},
   "source": [
    "## Printing Initial Solution"
   ]
  },
  {
   "cell_type": "code",
   "execution_count": 146,
   "metadata": {},
   "outputs": [],
   "source": [
    "initial_state = np.array([[0],[0],[0],[1], [0],[0],[0],[1], [0],[0],[0],[1], [1],[0],[0],[0], [1],[0],[0],[0], [1],[0],[0],[0], [1],[0],[0],[0], [1],[0],[0],[0], [0],[0],[1],[0], [0],[1],[0],[0], [0],[1],[0],[0], [0],[1],[0],[0], [0],[1],[0],[0], [0],[1],[0],[0], [1],[0],[0],[0], [0],[0],[1],[0], [0],[0],[1],[0], [0],[0],[1],[0], [0],[0],[0],[1], [0],[0],[0],[1], [0],[0],[0],[1], [0],[0],[0],[1]])"
   ]
  },
  {
   "cell_type": "code",
   "execution_count": 147,
   "metadata": {},
   "outputs": [
    {
     "data": {
      "text/plain": [
       "(88, 1)"
      ]
     },
     "execution_count": 147,
     "metadata": {},
     "output_type": "execute_result"
    }
   ],
   "source": [
    "initial_state.shape"
   ]
  },
  {
   "cell_type": "code",
   "execution_count": 148,
   "metadata": {},
   "outputs": [],
   "source": [
    "initial_state_matrix = matrix(initial_state)"
   ]
  },
  {
   "cell_type": "code",
   "execution_count": 149,
   "metadata": {},
   "outputs": [
    {
     "data": {
      "text/plain": [
       "<88x1 matrix, tc='i'>"
      ]
     },
     "execution_count": 149,
     "metadata": {},
     "output_type": "execute_result"
    }
   ],
   "source": [
    "initial_state_matrix"
   ]
  },
  {
   "cell_type": "code",
   "execution_count": 150,
   "metadata": {},
   "outputs": [
    {
     "name": "stdout",
     "output_type": "stream",
     "text": [
      "          SR1 SR2 SR3 SR4\n",
      "         +---+---+---+---+\n",
      "Brick 1               1.0\n",
      "         +---+---+---+---+\n",
      "Brick 2               1.0\n",
      "         +---+---+---+---+\n",
      "Brick 3               1.0\n",
      "         +---+---+---+---+\n",
      "Brick 4   1.0            \n",
      "         +---+---+---+---+\n",
      "Brick 5   1.0            \n",
      "         +---+---+---+---+\n",
      "Brick 6   1.0            \n",
      "         +---+---+---+---+\n",
      "Brick 7   1.0            \n",
      "         +---+---+---+---+\n",
      "Brick 8   1.0            \n",
      "         +---+---+---+---+\n",
      "Brick 9           1.0    \n",
      "         +---+---+---+---+\n",
      "Brick 10      1.0        \n",
      "         +---+---+---+---+\n",
      "Brick 11      1.0        \n",
      "         +---+---+---+---+\n",
      "Brick 12      1.0        \n",
      "         +---+---+---+---+\n",
      "Brick 13      1.0        \n",
      "         +---+---+---+---+\n",
      "Brick 14      1.0        \n",
      "         +---+---+---+---+\n",
      "Brick 15  1.0            \n",
      "         +---+---+---+---+\n",
      "Brick 16          1.0    \n",
      "         +---+---+---+---+\n",
      "Brick 17          1.0    \n",
      "         +---+---+---+---+\n",
      "Brick 18          1.0    \n",
      "         +---+---+---+---+\n",
      "Brick 19              1.0\n",
      "         +---+---+---+---+\n",
      "Brick 20              1.0\n",
      "         +---+---+---+---+\n",
      "Brick 21              1.0\n",
      "         +---+---+---+---+\n",
      "Brick 22              1.0\n",
      "         +---+---+---+---+\n"
     ]
    }
   ],
   "source": [
    "printsol_decimal(initial_state_matrix)"
   ]
  },
  {
   "cell_type": "code",
   "execution_count": null,
   "metadata": {},
   "outputs": [],
   "source": []
  }
 ],
 "metadata": {
  "kernelspec": {
   "display_name": "Python 3",
   "language": "python",
   "name": "python3"
  },
  "language_info": {
   "codemirror_mode": {
    "name": "ipython",
    "version": 3
   },
   "file_extension": ".py",
   "mimetype": "text/x-python",
   "name": "python",
   "nbconvert_exporter": "python",
   "pygments_lexer": "ipython3",
   "version": "3.8.3"
  }
 },
 "nbformat": 4,
 "nbformat_minor": 4
}
