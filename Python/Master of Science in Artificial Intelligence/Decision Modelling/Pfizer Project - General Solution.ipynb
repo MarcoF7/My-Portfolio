{
 "cells": [
  {
   "cell_type": "code",
   "execution_count": 1,
   "metadata": {},
   "outputs": [],
   "source": [
    "import numpy as np\n",
    "import cvxopt #Linear and Integer Programming Solver\n",
    "import cvxopt.glpk\n",
    "from cvxopt import matrix\n",
    "import matplotlib.pyplot as plt"
   ]
  },
  {
   "cell_type": "code",
   "execution_count": 2,
   "metadata": {},
   "outputs": [],
   "source": [
    "cvxopt.glpk.ilp?"
   ]
  },
  {
   "cell_type": "code",
   "execution_count": 3,
   "metadata": {},
   "outputs": [],
   "source": [
    "#We have in total 88 binary variables\n",
    "nbr_bricks = 22 #Defining number of bricks\n",
    "nbr_SRs = 4 #Defining number of sales representatives\n",
    "#The brick id goes from 1 to 22\n",
    "#The sales representative id goes from 1 to 4"
   ]
  },
  {
   "cell_type": "code",
   "execution_count": 4,
   "metadata": {},
   "outputs": [],
   "source": [
    "#Defining constant values\n",
    "#Brick Index Value Array:\n",
    "brick_index = np.array([0.1609, 0.1164, 0.1026, 0.1516, 0.0939, 0.1320, 0.0687, 0.0930, 0.2116, 0.2529, 0.0868, 0.0828, 0.0975, 0.8177, 0.4115, 0.3795, 0.0710, 0.0427, 0.1043, 0.0997, 0.1698, 0.2531])\n",
    "#Travel Distance between SR offices and bricks Matrix:\n",
    "distances = np.array([[16.16, 24.08, 24.32, 21.12] ,[19, 26.47, 27.24, 17.33] ,[25.29, 32.49, 33.42, 12.25] ,[0, 7.93, 8.31, 36.12] ,[3.07, 6.44, 7.56, 37.37] ,[1.22, 7.51, 8.19, 36.29] ,[2.8, 10.31, 10.95, 33.5] ,[2.87, 5.07, 5.67, 38.8] ,[3.8, 8.01, 7.41, 38.16] ,[12.35, 4.52, 4.35, 48.27] ,[11.11, 3.48, 2.97, 47.14] ,[21.99, 22.02, 24.07, 39.86] ,[8.82, 3.3, 5.36, 43.31] ,[7.93, 0, 2.07, 43.75] ,[9.34, 2.25, 1.11, 45.43] ,[8.31, 2.07, 0, 44.43] ,[7.31, 2.44, 1.11, 43.43] ,[7.55, 0.75, 1.53, 43.52] ,[11.13, 18.41, 19.26, 25.4] ,[17.49, 23.44, 24.76, 23.21] ,[11.03, 18.93, 19.28, 25.43] ,[36.12, 43.75, 44.43, 0]])"
   ]
  },
  {
   "cell_type": "code",
   "execution_count": 5,
   "metadata": {},
   "outputs": [
    {
     "data": {
      "text/plain": [
       "array([0.1609, 0.1164, 0.1026, 0.1516, 0.0939, 0.132 , 0.0687, 0.093 ,\n",
       "       0.2116, 0.2529, 0.0868, 0.0828, 0.0975, 0.8177, 0.4115, 0.3795,\n",
       "       0.071 , 0.0427, 0.1043, 0.0997, 0.1698, 0.2531])"
      ]
     },
     "execution_count": 5,
     "metadata": {},
     "output_type": "execute_result"
    }
   ],
   "source": [
    "brick_index"
   ]
  },
  {
   "cell_type": "code",
   "execution_count": 6,
   "metadata": {},
   "outputs": [
    {
     "data": {
      "text/plain": [
       "array([[16.16, 24.08, 24.32, 21.12],\n",
       "       [19.  , 26.47, 27.24, 17.33],\n",
       "       [25.29, 32.49, 33.42, 12.25],\n",
       "       [ 0.  ,  7.93,  8.31, 36.12],\n",
       "       [ 3.07,  6.44,  7.56, 37.37],\n",
       "       [ 1.22,  7.51,  8.19, 36.29],\n",
       "       [ 2.8 , 10.31, 10.95, 33.5 ],\n",
       "       [ 2.87,  5.07,  5.67, 38.8 ],\n",
       "       [ 3.8 ,  8.01,  7.41, 38.16],\n",
       "       [12.35,  4.52,  4.35, 48.27],\n",
       "       [11.11,  3.48,  2.97, 47.14],\n",
       "       [21.99, 22.02, 24.07, 39.86],\n",
       "       [ 8.82,  3.3 ,  5.36, 43.31],\n",
       "       [ 7.93,  0.  ,  2.07, 43.75],\n",
       "       [ 9.34,  2.25,  1.11, 45.43],\n",
       "       [ 8.31,  2.07,  0.  , 44.43],\n",
       "       [ 7.31,  2.44,  1.11, 43.43],\n",
       "       [ 7.55,  0.75,  1.53, 43.52],\n",
       "       [11.13, 18.41, 19.26, 25.4 ],\n",
       "       [17.49, 23.44, 24.76, 23.21],\n",
       "       [11.03, 18.93, 19.28, 25.43],\n",
       "       [36.12, 43.75, 44.43,  0.  ]])"
      ]
     },
     "execution_count": 6,
     "metadata": {},
     "output_type": "execute_result"
    }
   ],
   "source": [
    "distances"
   ]
  },
  {
   "cell_type": "code",
   "execution_count": 7,
   "metadata": {},
   "outputs": [],
   "source": [
    "#Creates a unique ID for each variable\n",
    "def get_id(i,j):\n",
    "    '''\n",
    "    Associate a unique variable index given a 2-index (i,j) \n",
    "    '''\n",
    "    assert(i>=0 and i<nbr_bricks)\n",
    "    assert(j>=0 and j<nbr_SRs)\n",
    "    \n",
    "    return(4*i + j)"
   ]
  },
  {
   "cell_type": "code",
   "execution_count": 8,
   "metadata": {},
   "outputs": [],
   "source": [
    "#Let's define the equality matrix\n",
    "#We have in total 26 equality constraints\n",
    "A = np.zeros((26,nbr_bricks*nbr_SRs))\n",
    "A.shape\n",
    "c=0 #Starting the constraint counter"
   ]
  },
  {
   "cell_type": "code",
   "execution_count": 9,
   "metadata": {},
   "outputs": [],
   "source": [
    "#Defining sales representatives offices (center bricks)\n",
    "for i in range(nbr_bricks):\n",
    "    for j in range(nbr_SRs):\n",
    "        #Define the office of Sales Representative 1 at brick 4\n",
    "        if i+1==4 and j+1==1: \n",
    "            A[c,get_id(i,j)]=1\n",
    "            c+=1\n",
    "        #Define the office of Sales Representative 2 at brick 14\n",
    "        if i+1==14 and j+1==2:\n",
    "            A[c,get_id(i,j)]=1\n",
    "            c+=1\n",
    "        #Define the office of Sales Representative 3 at brick 16\n",
    "        if i+1==16 and j+1==3:\n",
    "            A[c,get_id(i,j)]=1\n",
    "            c+=1\n",
    "        #Define the office of Sales Representative 4 at brick 22\n",
    "        if i+1==22 and j+1==4:\n",
    "            A[c,get_id(i,j)]=1\n",
    "            c+=1"
   ]
  },
  {
   "cell_type": "code",
   "execution_count": 10,
   "metadata": {},
   "outputs": [],
   "source": [
    "#Now we add the constraint that each brick cannot be assign to more than 1 sales representative at a time\n",
    "for i in range(nbr_bricks):\n",
    "    for j in range(nbr_SRs):\n",
    "        A[c,get_id(i,j)]=1 #Each brick can only be assigned to one SR at a time\n",
    "    c+=1"
   ]
  },
  {
   "cell_type": "code",
   "execution_count": 11,
   "metadata": {},
   "outputs": [
    {
     "data": {
      "text/plain": [
       "(26, 88)"
      ]
     },
     "execution_count": 11,
     "metadata": {},
     "output_type": "execute_result"
    }
   ],
   "source": [
    "A.shape"
   ]
  },
  {
   "cell_type": "code",
   "execution_count": 12,
   "metadata": {},
   "outputs": [],
   "source": [
    "#Now let's define the inequality matrix\n",
    "#We have in total 8 inequality constraints\n",
    "G = np.zeros((8,nbr_bricks*nbr_SRs))\n",
    "G.shape\n",
    "c=0 #Starting the constraint counter"
   ]
  },
  {
   "cell_type": "code",
   "execution_count": 13,
   "metadata": {},
   "outputs": [],
   "source": [
    "#We also need to create the h array that will represent all values on the right-hand side of the inequalities\n",
    "h=np.zeros(8)"
   ]
  },
  {
   "cell_type": "code",
   "execution_count": 14,
   "metadata": {},
   "outputs": [],
   "source": [
    "#Defining the workload threshold [0.8-1.2]\n",
    "workload_l = 0.8\n",
    "workload_h = 1.2"
   ]
  },
  {
   "cell_type": "code",
   "execution_count": 15,
   "metadata": {},
   "outputs": [],
   "source": [
    "#Defining workload upper limit\n",
    "for j in range(nbr_SRs):\n",
    "    for i in range(nbr_bricks):\n",
    "        G[c,get_id(i,j)]=brick_index[i]\n",
    "        h[c]=workload_h\n",
    "    c+=1\n",
    "\n",
    "#Defining workload lower limit    \n",
    "for j in range(nbr_SRs):\n",
    "    for i in range(nbr_bricks):\n",
    "        G[c,get_id(i,j)]=-brick_index[i]\n",
    "        h[c]=-workload_l\n",
    "    c+=1        "
   ]
  },
  {
   "cell_type": "code",
   "execution_count": 16,
   "metadata": {},
   "outputs": [
    {
     "data": {
      "text/plain": [
       "(8, 88)"
      ]
     },
     "execution_count": 16,
     "metadata": {},
     "output_type": "execute_result"
    }
   ],
   "source": [
    "G.shape"
   ]
  },
  {
   "cell_type": "code",
   "execution_count": 17,
   "metadata": {},
   "outputs": [],
   "source": [
    "#We initialize our distance travelled by SR'S\n",
    "total_distance = np.zeros(nbr_bricks*nbr_SRs)\n",
    "\n",
    "#Defining the distance objective\n",
    "for i in range(nbr_bricks):\n",
    "    for j in range(nbr_SRs):\n",
    "        total_distance[get_id(i,j)] = distances[i][j]"
   ]
  },
  {
   "cell_type": "code",
   "execution_count": 18,
   "metadata": {},
   "outputs": [],
   "source": [
    "#Initializing disruption matrix\n",
    "total_disruption = np.zeros(nbr_bricks*nbr_SRs)\n",
    "\n",
    "#Defining the disruption objective\n",
    "for i in range(nbr_bricks):\n",
    "    for j in range(nbr_SRs):\n",
    "        if (i+1==1 and j+1==4) or (i+1==2 and j+1==4) or (i+1==3 and j+1==4) or (i+1==5 and j+1==1) or (i+1==6 and j+1==1) \\\n",
    "        or (i+1==7 and j+1==1) or (i+1==8 and j+1==1) or (i+1==9 and j+1==3) or (i+1==10 and j+1==2) or (i+1==11 and j+1==2) \\\n",
    "        or (i+1==12 and j+1==2) or (i+1==13 and j+1==2) or (i+1==15 and j+1==1) or (i+1==17 and j+1==3) \\\n",
    "        or (i+1==18 and j+1==3) or (i+1==19 and j+1==4) or (i+1==20 and j+1==4) or (i+1==21 and j+1==4):\n",
    "            total_disruption[get_id(i,j)]=-brick_index[i]"
   ]
  },
  {
   "cell_type": "code",
   "execution_count": 19,
   "metadata": {},
   "outputs": [],
   "source": [
    "#We will first minimize the total disruption and then start adding the total distance as a new constraint in order to implement the epsilon-constraint algorithm\n",
    "\n",
    "Aeq = matrix(A)\n",
    "b=matrix(np.ones(A.shape[0]))\n",
    "G=matrix(G)\n",
    "h=matrix(h)\n",
    "cost_disrup=matrix(total_disruption) #total disruption as cost function\n",
    "cost_distance = matrix(total_distance) #distance objective\n",
    "B=set(range(A.shape[1])) #Set of binary variables\n",
    "#We use a factor of 0.00001 in order to remove weekly non-dominated solutions\n",
    "(status, solution) = cvxopt.glpk.ilp(c=cost_disrup+0.00001*cost_distance,G=G,h=h,A=Aeq,b=b,B=B)"
   ]
  },
  {
   "cell_type": "code",
   "execution_count": 20,
   "metadata": {},
   "outputs": [
    {
     "data": {
      "text/plain": [
       "'optimal'"
      ]
     },
     "execution_count": 20,
     "metadata": {},
     "output_type": "execute_result"
    }
   ],
   "source": [
    "status"
   ]
  },
  {
   "cell_type": "code",
   "execution_count": 21,
   "metadata": {},
   "outputs": [
    {
     "name": "stdout",
     "output_type": "stream",
     "text": [
      "          SR1 SR2 SR3 SR4\n",
      "         +---+---+---+---+\n",
      "Brick 1                X \n",
      "         +---+---+---+---+\n",
      "Brick 2                X \n",
      "         +---+---+---+---+\n",
      "Brick 3                X \n",
      "         +---+---+---+---+\n",
      "Brick 4    X             \n",
      "         +---+---+---+---+\n",
      "Brick 5    X             \n",
      "         +---+---+---+---+\n",
      "Brick 6    X             \n",
      "         +---+---+---+---+\n",
      "Brick 7    X             \n",
      "         +---+---+---+---+\n",
      "Brick 8    X             \n",
      "         +---+---+---+---+\n",
      "Brick 9            X     \n",
      "         +---+---+---+---+\n",
      "Brick 10       X         \n",
      "         +---+---+---+---+\n",
      "Brick 11           X     \n",
      "         +---+---+---+---+\n",
      "Brick 12           X     \n",
      "         +---+---+---+---+\n",
      "Brick 13       X         \n",
      "         +---+---+---+---+\n",
      "Brick 14       X         \n",
      "         +---+---+---+---+\n",
      "Brick 15   X             \n",
      "         +---+---+---+---+\n",
      "Brick 16           X     \n",
      "         +---+---+---+---+\n",
      "Brick 17           X     \n",
      "         +---+---+---+---+\n",
      "Brick 18           X     \n",
      "         +---+---+---+---+\n",
      "Brick 19               X \n",
      "         +---+---+---+---+\n",
      "Brick 20               X \n",
      "         +---+---+---+---+\n",
      "Brick 21               X \n",
      "         +---+---+---+---+\n",
      "Brick 22               X \n",
      "         +---+---+---+---+\n"
     ]
    }
   ],
   "source": [
    "def printsol(sol):\n",
    "    header = \" \"*10 + \"SR1 SR2 SR3 SR4\"\n",
    "    print(header)\n",
    "    sep = \" \"*9 + \"+---+---+---+---+\"\n",
    "    print(sep)\n",
    "    for i in range(nbr_bricks):\n",
    "        if i+1<10:\n",
    "            print(\"Brick {}  \".format(i+1),end='')\n",
    "        else:\n",
    "            print(\"Brick {} \".format(i+1),end='')\n",
    "        for j in range(nbr_SRs):\n",
    "            print(\" \",end='')\n",
    "            if (sol[get_id(i,j)]==1):\n",
    "                print(\" X \",end='')\n",
    "            else:\n",
    "                print(\"   \",end='')\n",
    "   \n",
    "        print(\"\")\n",
    "        print(sep)\n",
    "        \n",
    "printsol(solution)"
   ]
  },
  {
   "cell_type": "code",
   "execution_count": 22,
   "metadata": {},
   "outputs": [],
   "source": [
    "disruption_partial = cost_disrup.T*solution"
   ]
  },
  {
   "cell_type": "code",
   "execution_count": 23,
   "metadata": {},
   "outputs": [],
   "source": [
    "#Completing disruption formula\n",
    "sum_disrupt_base=0\n",
    "for i in range(nbr_bricks):\n",
    "    if i+1 not in (4,14,16,22):\n",
    "        sum_disrupt_base +=  brick_index[i]"
   ]
  },
  {
   "cell_type": "code",
   "execution_count": 24,
   "metadata": {},
   "outputs": [],
   "source": [
    "#Computing the disruption value for the given conditions\n",
    "disruption_final = disruption_partial[0] + sum_disrupt_base"
   ]
  },
  {
   "cell_type": "code",
   "execution_count": 25,
   "metadata": {},
   "outputs": [
    {
     "data": {
      "text/plain": [
       "0.16959999999999953"
      ]
     },
     "execution_count": 25,
     "metadata": {},
     "output_type": "execute_result"
    }
   ],
   "source": [
    "#This is the value of disruption when considering it as the only objective function\n",
    "disruption_final"
   ]
  },
  {
   "cell_type": "code",
   "execution_count": 26,
   "metadata": {},
   "outputs": [],
   "source": [
    "#We initialize our distance travelled by SR'S (distance_final) for the first time before entering the iteration \n",
    "#process because the first time the algorithm does not have the value beforehand\n",
    "distance_final = cost_distance.T*solution"
   ]
  },
  {
   "cell_type": "code",
   "execution_count": 27,
   "metadata": {},
   "outputs": [
    {
     "data": {
      "text/plain": [
       "188.95000000000002"
      ]
     },
     "execution_count": 27,
     "metadata": {},
     "output_type": "execute_result"
    }
   ],
   "source": [
    "distance_final[0]"
   ]
  },
  {
   "cell_type": "markdown",
   "metadata": {},
   "source": [
    "## Now in order to implement the epsilon-method we need to start iterating while adding a new constraint based on the second objective function (Total distance)"
   ]
  },
  {
   "cell_type": "code",
   "execution_count": 28,
   "metadata": {},
   "outputs": [
    {
     "name": "stdout",
     "output_type": "stream",
     "text": [
      "Status for iteration 1: optimal\n",
      "Status for iteration 2: optimal\n",
      "Status for iteration 3: optimal\n",
      "Status for iteration 4: optimal\n",
      "Status for iteration 5: optimal\n",
      "Status for iteration 6: optimal\n",
      "Status for iteration 7: optimal\n",
      "Status for iteration 8: optimal\n",
      "Status for iteration 9: optimal\n",
      "Status for iteration 10: optimal\n",
      "Status for iteration 11: optimal\n",
      "Status for iteration 12: optimal\n",
      "Status for iteration 13: optimal\n",
      "Status for iteration 14: optimal\n",
      "Status for iteration 15: optimal\n",
      "Status for iteration 16: optimal\n",
      "Status for iteration 17: optimal\n",
      "Status for iteration 18: optimal\n",
      "Status for iteration 19: optimal\n",
      "Status for iteration 20: infeasible problem\n"
     ]
    }
   ],
   "source": [
    "#Initializing distance and disruption solution points\n",
    "distance_final_points = []\n",
    "disruption_final_points = []\n",
    "#Initializing solver solutions\n",
    "solution_list = []\n",
    "\n",
    "disruption_final_points.append(disruption_final)\n",
    "distance_final_points.append(distance_final[0])\n",
    "solution_list.append(solution)\n",
    "\n",
    "nbr_iter = 1000 #Max number of iterations\n",
    "\n",
    "for k in range(nbr_iter):\n",
    "    \n",
    "    G = np.zeros((9,nbr_bricks*nbr_SRs))\n",
    "    G.shape\n",
    "    c=0 #Starting the constraint counter\n",
    "    #Initializing h array that will represent all values on the right-hand side of the inequalities\n",
    "    h=np.zeros(9)   \n",
    "    \n",
    "    #Balanced Workload upper limit\n",
    "    for j in range(nbr_SRs):\n",
    "        for i in range(nbr_bricks):\n",
    "            G[c,get_id(i,j)]=brick_index[i]\n",
    "            h[c]=workload_h\n",
    "        c+=1\n",
    "        \n",
    "    #Balanced Workload lower limit\n",
    "    for j in range(nbr_SRs):\n",
    "        for i in range(nbr_bricks):\n",
    "            G[c,get_id(i,j)]=-brick_index[i]\n",
    "            h[c]=-workload_l\n",
    "        c+=1   \n",
    "    \n",
    "    #Epsilon Constraint\n",
    "    for i in range(nbr_bricks):\n",
    "        for j in range(nbr_SRs):\n",
    "            G[c,get_id(i,j)] = distances[i][j]\n",
    "    h[c]=distance_final[0]-0.001 #Epsilon = 0.001       \n",
    "    c+=1\n",
    "    \n",
    "    #Minimizing Disruption while having Distance as a constraint\n",
    "    Aeq = matrix(A)\n",
    "    b=matrix(np.ones(A.shape[0]))\n",
    "    G=matrix(G)\n",
    "    h=matrix(h)\n",
    "    cost_disrup=matrix(total_disruption) #total disruption as cost function\n",
    "    B=set(range(A.shape[1])) #Set of binary variables\n",
    "    #We use a factor of 0.00001 in order to remove weekly non-dominated solutions\n",
    "    (status, solution) = cvxopt.glpk.ilp(c=cost_disrup+0.00001*cost_distance,G=G,h=h,A=Aeq,b=b,B=B)\n",
    "\n",
    "    #Breaks when no more optimal solutions found\n",
    "    print(\"Status for iteration {}: {}\".format(k+1,status))\n",
    "    if status != 'optimal':\n",
    "        break\n",
    "    \n",
    "    solution_list.append(solution) #Saving the current solution in a list\n",
    "    \n",
    "    #Disruption\n",
    "    disruption_partial = cost_disrup.T*solution    \n",
    "    sum_disrupt_base=0\n",
    "    for i in range(nbr_bricks):\n",
    "        if i+1 not in (4,14,16,22):\n",
    "            sum_disrupt_base +=  brick_index[i]    \n",
    "    #Computing the disruption value for the given conditions\n",
    "    disruption_final = disruption_partial[0] + sum_disrupt_base    \n",
    "    \n",
    "    #Distance\n",
    "    #For this particular condition let's compute the distance travelled by SRs    \n",
    "    total_distance = np.zeros(nbr_bricks*nbr_SRs)\n",
    "\n",
    "    for i in range(nbr_bricks):\n",
    "        for j in range(nbr_SRs):\n",
    "            total_distance[get_id(i,j)] = distances[i][j]    \n",
    "            \n",
    "    cost_distance = matrix(total_distance)\n",
    "    distance_final = cost_distance.T*solution #This value will be used in the next iteration in the epsilon constraint\n",
    "    \n",
    "    #Storing objective values\n",
    "    disruption_final_points.append(disruption_final)\n",
    "    distance_final_points.append(distance_final[0])    "
   ]
  },
  {
   "cell_type": "code",
   "execution_count": 29,
   "metadata": {},
   "outputs": [
    {
     "data": {
      "text/plain": [
       "[0.16959999999999953,\n",
       " 0.22699999999999942,\n",
       " 0.25289999999999946,\n",
       " 0.26929999999999943,\n",
       " 0.2738999999999998,\n",
       " 0.3312999999999997,\n",
       " 0.35719999999999974,\n",
       " 0.3735999999999997,\n",
       " 0.4309999999999996,\n",
       " 0.45689999999999964,\n",
       " 0.4995999999999996,\n",
       " 0.5863999999999996,\n",
       " 0.7957999999999996,\n",
       " 0.8277999999999996,\n",
       " 0.8424999999999996,\n",
       " 0.8969999999999998,\n",
       " 0.9624999999999997,\n",
       " 0.9966999999999997,\n",
       " 1.1226999999999996,\n",
       " 1.2054999999999996]"
      ]
     },
     "execution_count": 29,
     "metadata": {},
     "output_type": "execute_result"
    }
   ],
   "source": [
    "disruption_final_points"
   ]
  },
  {
   "cell_type": "code",
   "execution_count": 30,
   "metadata": {},
   "outputs": [
    {
     "data": {
      "text/plain": [
       "[188.95000000000002,\n",
       " 188.18,\n",
       " 187.24,\n",
       " 183.23000000000002,\n",
       " 174.68,\n",
       " 173.91,\n",
       " 172.97,\n",
       " 168.96,\n",
       " 168.19,\n",
       " 167.25,\n",
       " 166.47,\n",
       " 165.95999999999998,\n",
       " 164.68,\n",
       " 164.67,\n",
       " 163.42,\n",
       " 160.76,\n",
       " 160.63,\n",
       " 155.04,\n",
       " 154.63,\n",
       " 154.6]"
      ]
     },
     "execution_count": 30,
     "metadata": {},
     "output_type": "execute_result"
    }
   ],
   "source": [
    "distance_final_points"
   ]
  },
  {
   "cell_type": "markdown",
   "metadata": {},
   "source": [
    "## Efficient Solutions"
   ]
  },
  {
   "cell_type": "code",
   "execution_count": 31,
   "metadata": {},
   "outputs": [
    {
     "data": {
      "text/plain": [
       "<matplotlib.collections.PathCollection at 0x1c359932c10>"
      ]
     },
     "execution_count": 31,
     "metadata": {},
     "output_type": "execute_result"
    },
    {
     "data": {
      "image/png": "[encoded data removed]",
      "text/plain": [
       "<Figure size 432x288 with 1 Axes>"
      ]
     },
     "metadata": {
      "needs_background": "light"
     },
     "output_type": "display_data"
    }
   ],
   "source": [
    "plt.xlabel('Disruption Final Points')\n",
    "plt.ylabel('Distance Final Points')\n",
    "plt.scatter(disruption_final_points, distance_final_points)"
   ]
  },
  {
   "cell_type": "code",
   "execution_count": 32,
   "metadata": {},
   "outputs": [],
   "source": [
    "#Zipping solution points\n",
    "non_dominated_solutions = list(zip([round(num,2) for num in disruption_final_points], [round(num,2) for num in distance_final_points]))"
   ]
  },
  {
   "cell_type": "code",
   "execution_count": 33,
   "metadata": {},
   "outputs": [
    {
     "data": {
      "text/plain": [
       "[(0.17, 188.95),\n",
       " (0.23, 188.18),\n",
       " (0.25, 187.24),\n",
       " (0.27, 183.23),\n",
       " (0.27, 174.68),\n",
       " (0.33, 173.91),\n",
       " (0.36, 172.97),\n",
       " (0.37, 168.96),\n",
       " (0.43, 168.19),\n",
       " (0.46, 167.25),\n",
       " (0.5, 166.47),\n",
       " (0.59, 165.96),\n",
       " (0.8, 164.68),\n",
       " (0.83, 164.67),\n",
       " (0.84, 163.42),\n",
       " (0.9, 160.76),\n",
       " (0.96, 160.63),\n",
       " (1.0, 155.04),\n",
       " (1.12, 154.63),\n",
       " (1.21, 154.6)]"
      ]
     },
     "execution_count": 33,
     "metadata": {},
     "output_type": "execute_result"
    }
   ],
   "source": [
    "non_dominated_solutions"
   ]
  },
  {
   "cell_type": "markdown",
   "metadata": {},
   "source": [
    "## Discriminate solutions by an additive model"
   ]
  },
  {
   "cell_type": "code",
   "execution_count": 34,
   "metadata": {},
   "outputs": [],
   "source": [
    "#Function to normalize data to the range [0,1]\n",
    "def NormalizeData(data):\n",
    "    return (data - np.min(data)) / (np.max(data) - np.min(data))"
   ]
  },
  {
   "cell_type": "code",
   "execution_count": 35,
   "metadata": {
    "scrolled": true
   },
   "outputs": [],
   "source": [
    "#Using an additive aggregation function \n",
    "#with weights = 0.5 for both criteria Disruption and Distance\n",
    "additive_values = []\n",
    "\n",
    "for i in range(len(disruption_final_points)):\n",
    "    weighted_value = 0.5*NormalizeData(disruption_final_points)[i] + 0.5*NormalizeData(distance_final_points)[i]\n",
    "    additive_values.append(weighted_value)"
   ]
  },
  {
   "cell_type": "code",
   "execution_count": 36,
   "metadata": {
    "scrolled": true
   },
   "outputs": [
    {
     "data": {
      "text/plain": [
       "[0.5,\n",
       " 0.5164972255840646,\n",
       " 0.5153157539527469,\n",
       " 0.4648618525080611,\n",
       " 0.34262799557037726,\n",
       " 0.3591252211544419,\n",
       " 0.35794374952312424,\n",
       " 0.3074898480784384,\n",
       " 0.323987073662503,\n",
       " 0.32280560203118525,\n",
       " 0.33206198774055085,\n",
       " 0.36653434285567316,\n",
       " 0.4489741426879819,\n",
       " 0.4642740886034167,\n",
       " 0.45317431712440404,\n",
       " 0.44076087666737906,\n",
       " 0.4704836121238794,\n",
       " 0.4056227291754402,\n",
       " 0.4604714336119342,\n",
       " 0.5]"
      ]
     },
     "execution_count": 36,
     "metadata": {},
     "output_type": "execute_result"
    }
   ],
   "source": [
    "#Final additive values\n",
    "additive_values"
   ]
  },
  {
   "cell_type": "code",
   "execution_count": 37,
   "metadata": {},
   "outputs": [
    {
     "data": {
      "text/plain": [
       "[0.5,\n",
       " 0.5165,\n",
       " 0.5153,\n",
       " 0.4649,\n",
       " 0.3426,\n",
       " 0.3591,\n",
       " 0.3579,\n",
       " 0.3075,\n",
       " 0.324,\n",
       " 0.3228,\n",
       " 0.3321,\n",
       " 0.3665,\n",
       " 0.449,\n",
       " 0.4643,\n",
       " 0.4532,\n",
       " 0.4408,\n",
       " 0.4705,\n",
       " 0.4056,\n",
       " 0.4605,\n",
       " 0.5]"
      ]
     },
     "execution_count": 37,
     "metadata": {},
     "output_type": "execute_result"
    }
   ],
   "source": [
    "#Rounding values\n",
    "[round(num,4) for num in additive_values]"
   ]
  },
  {
   "cell_type": "code",
   "execution_count": 38,
   "metadata": {},
   "outputs": [
    {
     "data": {
      "text/plain": [
       "7"
      ]
     },
     "execution_count": 38,
     "metadata": {},
     "output_type": "execute_result"
    }
   ],
   "source": [
    "#Index of the best aggregated solution\n",
    "np.argmin(additive_values) "
   ]
  },
  {
   "cell_type": "code",
   "execution_count": 39,
   "metadata": {},
   "outputs": [
    {
     "data": {
      "text/plain": [
       "(0.37, 168.96)"
      ]
     },
     "execution_count": 39,
     "metadata": {},
     "output_type": "execute_result"
    }
   ],
   "source": [
    "#Best aggregated solution, disruption and distance values\n",
    "non_dominated_solutions[np.argmin(additive_values)]"
   ]
  },
  {
   "cell_type": "markdown",
   "metadata": {},
   "source": [
    "## Printing Solution Minimum Disruption and Distance"
   ]
  },
  {
   "cell_type": "code",
   "execution_count": 129,
   "metadata": {},
   "outputs": [
    {
     "name": "stdout",
     "output_type": "stream",
     "text": [
      "          SR1 SR2 SR3 SR4\n",
      "         +---+---+---+---+\n",
      "Brick 1                X \n",
      "         +---+---+---+---+\n",
      "Brick 2                X \n",
      "         +---+---+---+---+\n",
      "Brick 3                X \n",
      "         +---+---+---+---+\n",
      "Brick 4    X             \n",
      "         +---+---+---+---+\n",
      "Brick 5    X             \n",
      "         +---+---+---+---+\n",
      "Brick 6    X             \n",
      "         +---+---+---+---+\n",
      "Brick 7    X             \n",
      "         +---+---+---+---+\n",
      "Brick 8    X             \n",
      "         +---+---+---+---+\n",
      "Brick 9            X     \n",
      "         +---+---+---+---+\n",
      "Brick 10       X         \n",
      "         +---+---+---+---+\n",
      "Brick 11           X     \n",
      "         +---+---+---+---+\n",
      "Brick 12           X     \n",
      "         +---+---+---+---+\n",
      "Brick 13       X         \n",
      "         +---+---+---+---+\n",
      "Brick 14       X         \n",
      "         +---+---+---+---+\n",
      "Brick 15   X             \n",
      "         +---+---+---+---+\n",
      "Brick 16           X     \n",
      "         +---+---+---+---+\n",
      "Brick 17           X     \n",
      "         +---+---+---+---+\n",
      "Brick 18           X     \n",
      "         +---+---+---+---+\n",
      "Brick 19   X             \n",
      "         +---+---+---+---+\n",
      "Brick 20   X             \n",
      "         +---+---+---+---+\n",
      "Brick 21               X \n",
      "         +---+---+---+---+\n",
      "Brick 22               X \n",
      "         +---+---+---+---+\n"
     ]
    }
   ],
   "source": [
    "#Best solution by using additive model\n",
    "printsol(solution_list[np.argmin(additive_values)])"
   ]
  },
  {
   "cell_type": "markdown",
   "metadata": {},
   "source": [
    "## Printing Solution Minimum Disruption"
   ]
  },
  {
   "cell_type": "code",
   "execution_count": 130,
   "metadata": {},
   "outputs": [
    {
     "name": "stdout",
     "output_type": "stream",
     "text": [
      "          SR1 SR2 SR3 SR4\n",
      "         +---+---+---+---+\n",
      "Brick 1                X \n",
      "         +---+---+---+---+\n",
      "Brick 2                X \n",
      "         +---+---+---+---+\n",
      "Brick 3                X \n",
      "         +---+---+---+---+\n",
      "Brick 4    X             \n",
      "         +---+---+---+---+\n",
      "Brick 5    X             \n",
      "         +---+---+---+---+\n",
      "Brick 6    X             \n",
      "         +---+---+---+---+\n",
      "Brick 7    X             \n",
      "         +---+---+---+---+\n",
      "Brick 8    X             \n",
      "         +---+---+---+---+\n",
      "Brick 9            X     \n",
      "         +---+---+---+---+\n",
      "Brick 10       X         \n",
      "         +---+---+---+---+\n",
      "Brick 11           X     \n",
      "         +---+---+---+---+\n",
      "Brick 12           X     \n",
      "         +---+---+---+---+\n",
      "Brick 13       X         \n",
      "         +---+---+---+---+\n",
      "Brick 14       X         \n",
      "         +---+---+---+---+\n",
      "Brick 15   X             \n",
      "         +---+---+---+---+\n",
      "Brick 16           X     \n",
      "         +---+---+---+---+\n",
      "Brick 17           X     \n",
      "         +---+---+---+---+\n",
      "Brick 18           X     \n",
      "         +---+---+---+---+\n",
      "Brick 19               X \n",
      "         +---+---+---+---+\n",
      "Brick 20               X \n",
      "         +---+---+---+---+\n",
      "Brick 21               X \n",
      "         +---+---+---+---+\n",
      "Brick 22               X \n",
      "         +---+---+---+---+\n"
     ]
    }
   ],
   "source": [
    "printsol(solution_list[0])"
   ]
  },
  {
   "cell_type": "markdown",
   "metadata": {},
   "source": [
    "## Printing Solution Minimum Distance"
   ]
  },
  {
   "cell_type": "code",
   "execution_count": 131,
   "metadata": {},
   "outputs": [
    {
     "name": "stdout",
     "output_type": "stream",
     "text": [
      "          SR1 SR2 SR3 SR4\n",
      "         +---+---+---+---+\n",
      "Brick 1                X \n",
      "         +---+---+---+---+\n",
      "Brick 2                X \n",
      "         +---+---+---+---+\n",
      "Brick 3                X \n",
      "         +---+---+---+---+\n",
      "Brick 4    X             \n",
      "         +---+---+---+---+\n",
      "Brick 5    X             \n",
      "         +---+---+---+---+\n",
      "Brick 6    X             \n",
      "         +---+---+---+---+\n",
      "Brick 7    X             \n",
      "         +---+---+---+---+\n",
      "Brick 8    X             \n",
      "         +---+---+---+---+\n",
      "Brick 9    X             \n",
      "         +---+---+---+---+\n",
      "Brick 10           X     \n",
      "         +---+---+---+---+\n",
      "Brick 11       X         \n",
      "         +---+---+---+---+\n",
      "Brick 12   X             \n",
      "         +---+---+---+---+\n",
      "Brick 13       X         \n",
      "         +---+---+---+---+\n",
      "Brick 14       X         \n",
      "         +---+---+---+---+\n",
      "Brick 15           X     \n",
      "         +---+---+---+---+\n",
      "Brick 16           X     \n",
      "         +---+---+---+---+\n",
      "Brick 17           X     \n",
      "         +---+---+---+---+\n",
      "Brick 18       X         \n",
      "         +---+---+---+---+\n",
      "Brick 19   X             \n",
      "         +---+---+---+---+\n",
      "Brick 20   X             \n",
      "         +---+---+---+---+\n",
      "Brick 21               X \n",
      "         +---+---+---+---+\n",
      "Brick 22               X \n",
      "         +---+---+---+---+\n"
     ]
    }
   ],
   "source": [
    "printsol(solution_list[-1])"
   ]
  },
  {
   "cell_type": "markdown",
   "metadata": {},
   "source": [
    "## Printing Initial Solution"
   ]
  },
  {
   "cell_type": "code",
   "execution_count": 132,
   "metadata": {},
   "outputs": [],
   "source": [
    "initial_state = np.array([[0],[0],[0],[1], [0],[0],[0],[1], [0],[0],[0],[1], [1],[0],[0],[0], [1],[0],[0],[0], [1],[0],[0],[0], [1],[0],[0],[0], [1],[0],[0],[0], [0],[0],[1],[0], [0],[1],[0],[0], [0],[1],[0],[0], [0],[1],[0],[0], [0],[1],[0],[0], [0],[1],[0],[0], [1],[0],[0],[0], [0],[0],[1],[0], [0],[0],[1],[0], [0],[0],[1],[0], [0],[0],[0],[1], [0],[0],[0],[1], [0],[0],[0],[1], [0],[0],[0],[1]])"
   ]
  },
  {
   "cell_type": "code",
   "execution_count": 133,
   "metadata": {},
   "outputs": [
    {
     "data": {
      "text/plain": [
       "(88, 1)"
      ]
     },
     "execution_count": 133,
     "metadata": {},
     "output_type": "execute_result"
    }
   ],
   "source": [
    "initial_state.shape"
   ]
  },
  {
   "cell_type": "code",
   "execution_count": 134,
   "metadata": {},
   "outputs": [],
   "source": [
    "initial_state_matrix = matrix(initial_state)"
   ]
  },
  {
   "cell_type": "code",
   "execution_count": 135,
   "metadata": {},
   "outputs": [
    {
     "data": {
      "text/plain": [
       "<88x1 matrix, tc='i'>"
      ]
     },
     "execution_count": 135,
     "metadata": {},
     "output_type": "execute_result"
    }
   ],
   "source": [
    "initial_state_matrix"
   ]
  },
  {
   "cell_type": "code",
   "execution_count": 136,
   "metadata": {},
   "outputs": [
    {
     "name": "stdout",
     "output_type": "stream",
     "text": [
      "          SR1 SR2 SR3 SR4\n",
      "         +---+---+---+---+\n",
      "Brick 1                X \n",
      "         +---+---+---+---+\n",
      "Brick 2                X \n",
      "         +---+---+---+---+\n",
      "Brick 3                X \n",
      "         +---+---+---+---+\n",
      "Brick 4    X             \n",
      "         +---+---+---+---+\n",
      "Brick 5    X             \n",
      "         +---+---+---+---+\n",
      "Brick 6    X             \n",
      "         +---+---+---+---+\n",
      "Brick 7    X             \n",
      "         +---+---+---+---+\n",
      "Brick 8    X             \n",
      "         +---+---+---+---+\n",
      "Brick 9            X     \n",
      "         +---+---+---+---+\n",
      "Brick 10       X         \n",
      "         +---+---+---+---+\n",
      "Brick 11       X         \n",
      "         +---+---+---+---+\n",
      "Brick 12       X         \n",
      "         +---+---+---+---+\n",
      "Brick 13       X         \n",
      "         +---+---+---+---+\n",
      "Brick 14       X         \n",
      "         +---+---+---+---+\n",
      "Brick 15   X             \n",
      "         +---+---+---+---+\n",
      "Brick 16           X     \n",
      "         +---+---+---+---+\n",
      "Brick 17           X     \n",
      "         +---+---+---+---+\n",
      "Brick 18           X     \n",
      "         +---+---+---+---+\n",
      "Brick 19               X \n",
      "         +---+---+---+---+\n",
      "Brick 20               X \n",
      "         +---+---+---+---+\n",
      "Brick 21               X \n",
      "         +---+---+---+---+\n",
      "Brick 22               X \n",
      "         +---+---+---+---+\n"
     ]
    }
   ],
   "source": [
    "printsol(initial_state_matrix)"
   ]
  },
  {
   "cell_type": "code",
   "execution_count": null,
   "metadata": {},
   "outputs": [],
   "source": []
  }
 ],
 "metadata": {
  "kernelspec": {
   "display_name": "Python 3",
   "language": "python",
   "name": "python3"
  },
  "language_info": {
   "codemirror_mode": {
    "name": "ipython",
    "version": 3
   },
   "file_extension": ".py",
   "mimetype": "text/x-python",
   "name": "python",
   "nbconvert_exporter": "python",
   "pygments_lexer": "ipython3",
   "version": "3.8.3"
  }
 },
 "nbformat": 4,
 "nbformat_minor": 4
}
