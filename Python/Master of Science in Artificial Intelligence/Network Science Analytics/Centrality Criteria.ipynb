{
 "cells": [
  {
   "cell_type": "code",
   "execution_count": 51,
   "metadata": {},
   "outputs": [],
   "source": [
    "#!/usr/bin/env python3\n",
    "# -*- coding: utf-8 -*-\n",
    "\"\"\"\n",
    "Network Science Analytics\n",
    "Centrality Criteria \n",
    "\"\"\"\n",
    "from helper import *\n",
    "import numpy as np\n",
    "import scipy.sparse as sparse\n",
    "from scipy.stats.stats import pearsonr\n",
    "import matplotlib.pyplot as plt\n",
    "import networkx as nx"
   ]
  },
  {
   "cell_type": "markdown",
   "metadata": {},
   "source": [
    "### Part I: Analysis of a real-world network"
   ]
  },
  {
   "cell_type": "markdown",
   "metadata": {},
   "source": [
    "#### Exercise 1: Basic properties of the network"
   ]
  },
  {
   "cell_type": "code",
   "execution_count": 52,
   "metadata": {},
   "outputs": [],
   "source": [
    "# 1.1) Read the edgelist of the NetScience network\n",
    "G = nx.read_edgelist(\"./NetScience.edgelist\", comments='#', delimiter='\\t')"
   ]
  },
  {
   "cell_type": "code",
   "execution_count": 53,
   "metadata": {},
   "outputs": [
    {
     "name": "stdout",
     "output_type": "stream",
     "text": [
      "Number of nodes: 1461\n",
      "Number of edges: 2742\n",
      "Min. degree: 1\n",
      "Max. degree: 34\n",
      "Mean degree: 3.753593429158111\n",
      "Median degree: 3.0\n",
      "Density: 0.0025709544035329526\n"
     ]
    }
   ],
   "source": [
    "# 1.2) Compute various characteristics of the network\n",
    "def compute_network_characteristics(graph):\n",
    "    prop = {}\n",
    "    prop['N'] = graph.number_of_nodes() # number of nodes\n",
    "    prop['M'] = graph.number_of_edges() # number of edges\n",
    "    #degrees = graph.degree().values()\n",
    "    degrees = [degree for node, degree in graph.degree()] # degree list\n",
    "    prop['min_degree'] = np.min(degrees) # minimum degree\n",
    "    prop['max_degree'] = np.max(degrees) # maximum degree\n",
    "    prop['mean_degree'] = np.mean(degrees) # mean of node degrees\n",
    "    prop['median_degree'] = np.median(degrees) # median of node degrees\n",
    "    prop['density'] = nx.density(graph) # density of the graph\n",
    "    return prop\n",
    "\n",
    "###################################################################\n",
    "prop = compute_network_characteristics(graph=G)\n",
    "print(\"Number of nodes: {}\".format(prop['N']))\n",
    "print(\"Number of edges: {}\".format(prop['M']))\n",
    "print(\"Min. degree: {}\".format(prop['min_degree']))\n",
    "print(\"Max. degree: {}\".format(prop['max_degree']))\n",
    "print(\"Mean degree: {}\".format(prop['mean_degree']))\n",
    "print(\"Median degree: {}\".format(prop['median_degree']))\n",
    "print(\"Density: {}\".format(prop['density']))"
   ]
  },
  {
   "cell_type": "markdown",
   "metadata": {},
   "source": [
    "#### Exercise 2: Connected components of the graph"
   ]
  },
  {
   "cell_type": "code",
   "execution_count": 54,
   "metadata": {},
   "outputs": [
    {
     "name": "stdout",
     "output_type": "stream",
     "text": [
      "The graph is not connected\n",
      "Number of connected components: 268\n",
      "Fraction of nodes in GCC: 0.259\n",
      "Fraction of edges in GCC: 0.333\n"
     ]
    }
   ],
   "source": [
    "def get_gcc(graph):\n",
    "    # Is the given graph connected?\n",
    "    connected = nx.is_connected(graph) # check if the graph is connected or not\n",
    "    if connected:\n",
    "        print(\"The graph is connected\")\n",
    "        return graph\n",
    "    \n",
    "    print(\"The graph is not connected\")\n",
    "    \n",
    "    # Find the number of connected components\n",
    "    num_of_cc = nx.number_connected_components(graph)\n",
    "    print(\"Number of connected components: {}\".format(num_of_cc))\n",
    "    \n",
    "    # Get the greatest connected component subgraph\n",
    "    gcc_nodes = max(nx.connected_components(graph), key=len)\n",
    "    gcc = graph.subgraph(gcc_nodes)\n",
    "    node_fraction = gcc.number_of_nodes() / float(graph.number_of_nodes())\n",
    "    edge_fraction = gcc.number_of_edges() / float(graph.number_of_edges())\n",
    "    \n",
    "    print(\"Fraction of nodes in GCC: {:.3f}\".format(node_fraction))\n",
    "    print(\"Fraction of edges in GCC: {:.3f}\".format(edge_fraction))\n",
    "\n",
    "    return gcc\n",
    "\n",
    "# Get the GGC of the network\n",
    "gcc = get_gcc(graph=G)"
   ]
  },
  {
   "cell_type": "markdown",
   "metadata": {},
   "source": [
    "### Part II: Centrality Measures"
   ]
  },
  {
   "cell_type": "code",
   "execution_count": 55,
   "metadata": {},
   "outputs": [],
   "source": [
    "# Read the edgelist of the NetScience network\n",
    "G0 = nx.read_edgelist(\"./NetScience.edgelist\", comments='#', delimiter='\\t')\n",
    "# Get the largest connected component of the network\n",
    "nodes = max(nx.connected_components(G0), key=len) \n",
    "G = G0.subgraph(nodes)"
   ]
  },
  {
   "cell_type": "markdown",
   "metadata": {},
   "source": [
    "#### Exercise 3: Implementation of Centrality Measures and Visualization of the Network"
   ]
  },
  {
   "cell_type": "code",
   "execution_count": 65,
   "metadata": {},
   "outputs": [],
   "source": [
    "# 1.1) Degree Centrality\n",
    "def compute_degree_centrality(graph):\n",
    "    '''\n",
    "    :param graph:\n",
    "    :return:\n",
    "        degree_centrality:\n",
    "        Dictionary of nodes with degree centrality as the value\n",
    "    '''\n",
    "    degree_centrality = {}\n",
    "    ### Please write your code below\n",
    "\n",
    "    for node in graph.nodes():\n",
    "        degree_centrality[node] = graph.degree(node)\n",
    "    \n",
    "    ###\n",
    "    return degree_centrality\n",
    "\n",
    "#print(compute_degree_centrality(G))"
   ]
  },
  {
   "cell_type": "code",
   "execution_count": 57,
   "metadata": {},
   "outputs": [],
   "source": [
    "## 1.2) Closeness Centrality\n",
    "def compute_closeness_centrality(graph):\n",
    "    '''\n",
    "    :param graph:\n",
    "    :return:\n",
    "        closeness_centrality:\n",
    "        Dictionary of nodes with closeness centrality as the value\n",
    "    '''\n",
    "    closeness_centrality = {}\n",
    "    ### Please write your code below\n",
    "    N = graph.number_of_nodes()\n",
    "    for node in graph.nodes():\n",
    "        path_lens = nx.single_source_shortest_path_length(graph, node)\n",
    "        path_len_sum = sum(path_lens.values())\n",
    "        closeness_centrality[node] = float(N-1) / path_len_sum\n",
    "\n",
    "    ###\n",
    "    return closeness_centrality\n",
    "\n",
    "# Check if the implementation returns corrrect values\n",
    "assert nx.closeness_centrality(G).items() == compute_closeness_centrality(G).items()"
   ]
  },
  {
   "cell_type": "code",
   "execution_count": 58,
   "metadata": {},
   "outputs": [],
   "source": [
    "# 1.3) Harmonic Centrality\n",
    "def compute_harmonic_centrality(graph):\n",
    "    '''\n",
    "    :param graph:\n",
    "    :return:\n",
    "        harmonic_centrality:\n",
    "        Dictionary of nodes with harmonic centrality as the value\n",
    "    '''\n",
    "    harmonic_centrality = {}\n",
    "    ### Please write your code below\n",
    "\n",
    "    for node in graph.nodes():\n",
    "        path_lens = nx.single_source_shortest_path_length(graph, node)\n",
    "        inv_path_len_sum = sum([1.0/value for value in path_lens.values() if value>0])\n",
    "        harmonic_centrality[node] = inv_path_len_sum\n",
    "\n",
    "    ###\n",
    "    return harmonic_centrality\n",
    "\n",
    "# Check if the implementation returns corrrect values\n",
    "assert nx.harmonic_centrality(G).items() == compute_harmonic_centrality(G).items()"
   ]
  },
  {
   "cell_type": "code",
   "execution_count": 59,
   "metadata": {},
   "outputs": [
    {
     "data": {
      "image/png": "[encoded data removed]",
      "text/plain": [
       "<Figure size 432x288 with 2 Axes>"
      ]
     },
     "metadata": {
      "needs_background": "light"
     },
     "output_type": "display_data"
    }
   ],
   "source": [
    "# 1.4) Visualization\n",
    "# Example code for visualization\n",
    "node2values = assign_random_values(graph=G)\n",
    "visualize(graph=G, values=node2values, node_size=10)"
   ]
  },
  {
   "cell_type": "code",
   "execution_count": 61,
   "metadata": {},
   "outputs": [],
   "source": [
    "# 1.5) (Optional) Core Number\n",
    "def compute_core_number(graph):\n",
    "    '''\n",
    "    :param graph:\n",
    "    :return:\n",
    "        core_number:\n",
    "        Dictionary of nodes with core number as the value\n",
    "    '''\n",
    "    core_number = {}\n",
    "    ### Please write your code below\n",
    "    \n",
    "    # Reformat node\n",
    "    node2degree = dict(graph.degree)\n",
    "    # Sort the nodes according to their degrees\n",
    "    node_list = [n for _, n in sorted(zip(node2degree.values(), node2degree.keys()))]\n",
    "    \n",
    "    # Loop on each node \n",
    "    for i, node in enumerate(node_list):\n",
    "        core_number[node] = node2degree[node]\n",
    "        # Update neighbours degree and order in node list\n",
    "        for nb in nx.neighbors(graph, node):\n",
    "            if node2degree[nb] > node2degree[node]:\n",
    "                node2degree[nb] -= 1\n",
    "                # Reorder the node_list\n",
    "                j = len(node_list)-1\n",
    "                while j > i:\n",
    "                    if node2degree[node_list[j]] == node2degree[nb]:\n",
    "                        break\n",
    "                    j -= 1\n",
    "                while j > i:\n",
    "                    if node2degree[node_list[j-1]] > node2degree[nb]:\n",
    "                        node_list[j] = node_list[j-1]\n",
    "                    else:\n",
    "                        node_list[j] = nb\n",
    "                        break\n",
    "                    j -= 1\n",
    "                    \n",
    "    ###\n",
    "    return core_number\n",
    "\n",
    "# Check if the implementation returns corrrect values\n",
    "assert compute_core_number(G).items() == nx.core_number(G).items()"
   ]
  },
  {
   "cell_type": "code",
   "execution_count": 62,
   "metadata": {},
   "outputs": [],
   "source": [
    "# 1.6) (Optional) Neighborhood Coreness\n",
    "def compute_neighborhood_coreness(graph):\n",
    "    '''\n",
    "    :param graph:\n",
    "    :return:\n",
    "        nb_coreness:\n",
    "        Dictionary of nodes with core number as the value\n",
    "    '''\n",
    "    nb_coreness = {}\n",
    "    ### Please write your code below\n",
    "\n",
    "    core_number = compute_core_number(graph)\n",
    "    for node in core_number:\n",
    "        nb_coreness[node] = 0\n",
    "        for nb in graph.neighbors(node):\n",
    "            nb_coreness[node] += core_number[nb]\n",
    "\n",
    "    ###\n",
    "    return nb_coreness\n",
    "\n",
    "#print(compute_neighborhood_coreness(G))"
   ]
  },
  {
   "cell_type": "markdown",
   "metadata": {},
   "source": [
    "### Part III: Robustness of the Network"
   ]
  },
  {
   "cell_type": "code",
   "execution_count": 63,
   "metadata": {},
   "outputs": [],
   "source": [
    "# Read the edgelist of the ca-GrQc network\n",
    "G0 = nx.read_edgelist(\"./ca-GrQc.edgelist\", comments='#', delimiter='\\t')\n",
    "# Get the largest connected component of the network\n",
    "nodes = max(nx.connected_components(G0), key=len)\n",
    "G = G0.subgraph(nodes)"
   ]
  },
  {
   "cell_type": "markdown",
   "metadata": {},
   "source": [
    "#### Exercise 4: Analysis of the robustness"
   ]
  },
  {
   "cell_type": "code",
   "execution_count": 64,
   "metadata": {},
   "outputs": [
    {
     "data": {
      "image/png": "[encoded data removed]",
      "text/plain": [
       "<Figure size 576x324 with 2 Axes>"
      ]
     },
     "metadata": {
      "needs_background": "light"
     },
     "output_type": "display_data"
    }
   ],
   "source": [
    "def plot_robustness_analysis(graph, node2values, k):\n",
    "    '''\n",
    "    :param graph:\n",
    "    :param node2values: Dictionary of nodes with centrality values\n",
    "    :param k: the number of nodes to be removed\n",
    "    '''\n",
    "    num_connected_components = []\n",
    "    gcc_sizes = []\n",
    "    rest_sizes = []\n",
    "    # Please write your code below    \n",
    "    \n",
    "    # Copy the given graph in order to keep it from modifications\n",
    "    g = graph.copy()\n",
    "    # Generate a node list with respect to the values given \n",
    "    # in the node2values dictionary in descending order\n",
    "    pairs = sorted(node2values.items(), key=lambda x: x[1], reverse=True)\n",
    "    node_list = [p[0] for p in pairs]\n",
    "    # Get the first k nodes\n",
    "    node_remove_list = node_list[:k]\n",
    "    \n",
    "    for node in node_remove_list:\n",
    "        g.remove_node(node) # remove a node\n",
    "        num_connected_components.append(nx.number_connected_components(g))\n",
    "        gcc = g.subgraph(max(nx.connected_components(g), key=len))\n",
    "        r = gcc.number_of_nodes() / float(g.number_of_nodes())\n",
    "        gcc_sizes.append(r)\n",
    "        rest_sizes.append(1-r)\n",
    "    \n",
    "    ## Plot\n",
    "    plt.figure(figsize=(8,4.5))\n",
    "    plt.subplot(1, 2, 1)\n",
    "    plt.plot(num_connected_components, '.')\n",
    "    plt.xlabel(\"Number of removed nodes\")\n",
    "    plt.ylabel(\"Number of connected components\")\n",
    "    plt.subplot(1, 2, 2)\n",
    "    line1, = plt.plot(gcc_sizes, label=\"The GCC\") \n",
    "    line2, = plt.plot(rest_sizes, label=\"The Rest\")\n",
    "    plt.xlabel(\"Number of removed nodes\")\n",
    "    plt.ylabel(\"The fraction of gcc and the rest of the network\")\n",
    "    plt.legend(handles=[line1, line2])\n",
    "    plt.subplots_adjust(wspace=0.5)\n",
    "    plt.show()\n",
    "    \n",
    "#  Choose a centrality measure, you can also use built-in functions\n",
    "node2values = assign_random_values(graph=G)\n",
    "k = 500 # k is the number of nodes to be removed\n",
    "plot_robustness_analysis(G, node2values, k)"
   ]
  },
  {
   "cell_type": "code",
   "execution_count": null,
   "metadata": {},
   "outputs": [],
   "source": []
  }
 ],
 "metadata": {
  "kernelspec": {
   "display_name": "Python 3",
   "language": "python",
   "name": "python3"
  },
  "language_info": {
   "codemirror_mode": {
    "name": "ipython",
    "version": 3
   },
   "file_extension": ".py",
   "mimetype": "text/x-python",
   "name": "python",
   "nbconvert_exporter": "python",
   "pygments_lexer": "ipython3",
   "version": "3.8.3"
  }
 },
 "nbformat": 4,
 "nbformat_minor": 2
}
