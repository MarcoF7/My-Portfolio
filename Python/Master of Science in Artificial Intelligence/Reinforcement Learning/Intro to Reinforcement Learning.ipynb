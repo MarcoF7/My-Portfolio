{
 "cells": [
  {
   "cell_type": "markdown",
   "metadata": {
    "id": "8NxgP4gIN5eF"
   },
   "source": [
    "**Recycling robot example** (from Sutton, page 42)\n",
    "References:\n",
    "  - Gym documentation: https://gym.openai.com/\n",
    "\n",
    "  "
   ]
  },
  {
   "cell_type": "code",
   "execution_count": 1,
   "metadata": {
    "id": "fQ-0sEtFFcTM"
   },
   "outputs": [],
   "source": [
    "import numpy as np\n",
    "from gym.envs.toy_text import discrete\n",
    "import random\n",
    "import matplotlib.pyplot as plt"
   ]
  },
  {
   "cell_type": "markdown",
   "metadata": {
    "id": "GPaZiYtu6aX6"
   },
   "source": [
    "# Consider the robot model described in Barto and Sutton Example 3.2"
   ]
  },
  {
   "cell_type": "code",
   "execution_count": 70,
   "metadata": {
    "id": "U96qJdswGBFr"
   },
   "outputs": [],
   "source": [
    "states = [\"high\", \"low\"]\n",
    "actions = [\"wait\", \"search\", \"recharge\"]\n",
    "\n",
    "P = {}\n",
    "\n",
    "P[0] = {}\n",
    "P[1] = {}\n",
    "\n",
    "alpha = 1\n",
    "beta = 1\n",
    "r_wait = 0.5\n",
    "r_search = 2.0\n",
    "\n",
    "# We define a discrete environment with the corresponding transitions\n",
    "def gen_ambient(alpha=alpha, beta=beta, r_wait=r_wait, r_search=r_search):\n",
    "    P[0][0] = [(1.0, 0, r_wait, False)]\n",
    "    P[0][1] = [(alpha, 0, r_search, False),\n",
    "               (1-alpha, 1, r_search, False)]\n",
    "    P[0][2] = [(1,0,0,False)]\n",
    "\n",
    "    P[1][0] = [(1.0, 1, r_wait, False)]\n",
    "    P[1][1] = [(beta, 1, r_search, False), \n",
    "               (1-beta, 0, -3.0, False)]\n",
    "    P[1][2] = [(1.0, 0, 0.0, False)]\n",
    "    env = discrete.DiscreteEnv(2, 3, P, [0.0, 1.0])\n",
    "    return(env)\n",
    "\n",
    "env = gen_ambient()"
   ]
  },
  {
   "cell_type": "markdown",
   "metadata": {
    "id": "vvcF7--Z6aX8"
   },
   "source": [
    "# Implement the random strategy for 20 steps"
   ]
  },
  {
   "cell_type": "markdown",
   "metadata": {
    "id": "XoNiKgvOIC3n"
   },
   "source": [
    "Define a random action and see what reward it produces\n"
   ]
  },
  {
   "cell_type": "code",
   "execution_count": 3,
   "metadata": {},
   "outputs": [
    {
     "name": "stdout",
     "output_type": "stream",
     "text": [
      "Initial Observation= 1\n",
      "\n",
      "\n",
      "Iteration  1\n",
      "observation= 1\n",
      "reward= 0.5\n",
      "done= False\n",
      "info= {'prob': 1.0}\n",
      "\n",
      "\n",
      "Iteration  2\n",
      "observation= 0\n",
      "reward= 0.0\n",
      "done= False\n",
      "info= {'prob': 1.0}\n",
      "\n",
      "\n",
      "Iteration  3\n",
      "observation= 0\n",
      "reward= 0\n",
      "done= False\n",
      "info= {'prob': 1}\n",
      "\n",
      "\n",
      "Iteration  4\n",
      "observation= 0\n",
      "reward= 2.0\n",
      "done= False\n",
      "info= {'prob': 1}\n",
      "\n",
      "\n",
      "Iteration  5\n",
      "observation= 0\n",
      "reward= 0.5\n",
      "done= False\n",
      "info= {'prob': 1.0}\n",
      "\n",
      "\n",
      "Iteration  6\n",
      "observation= 0\n",
      "reward= 0.5\n",
      "done= False\n",
      "info= {'prob': 1.0}\n",
      "\n",
      "\n",
      "Iteration  7\n",
      "observation= 0\n",
      "reward= 2.0\n",
      "done= False\n",
      "info= {'prob': 1}\n",
      "\n",
      "\n",
      "Iteration  8\n",
      "observation= 0\n",
      "reward= 0.5\n",
      "done= False\n",
      "info= {'prob': 1.0}\n",
      "\n",
      "\n",
      "Iteration  9\n",
      "observation= 0\n",
      "reward= 2.0\n",
      "done= False\n",
      "info= {'prob': 1}\n",
      "\n",
      "\n",
      "Iteration  10\n",
      "observation= 0\n",
      "reward= 2.0\n",
      "done= False\n",
      "info= {'prob': 1}\n",
      "\n",
      "\n",
      "Iteration  11\n",
      "observation= 0\n",
      "reward= 0\n",
      "done= False\n",
      "info= {'prob': 1}\n",
      "\n",
      "\n",
      "Iteration  12\n",
      "observation= 0\n",
      "reward= 2.0\n",
      "done= False\n",
      "info= {'prob': 1}\n",
      "\n",
      "\n",
      "Iteration  13\n",
      "observation= 0\n",
      "reward= 0.5\n",
      "done= False\n",
      "info= {'prob': 1.0}\n",
      "\n",
      "\n",
      "Iteration  14\n",
      "observation= 0\n",
      "reward= 2.0\n",
      "done= False\n",
      "info= {'prob': 1}\n",
      "\n",
      "\n",
      "Iteration  15\n",
      "observation= 0\n",
      "reward= 0.5\n",
      "done= False\n",
      "info= {'prob': 1.0}\n",
      "\n",
      "\n",
      "Iteration  16\n",
      "observation= 0\n",
      "reward= 0.5\n",
      "done= False\n",
      "info= {'prob': 1.0}\n",
      "\n",
      "\n",
      "Iteration  17\n",
      "observation= 0\n",
      "reward= 2.0\n",
      "done= False\n",
      "info= {'prob': 1}\n",
      "\n",
      "\n",
      "Iteration  18\n",
      "observation= 0\n",
      "reward= 0.5\n",
      "done= False\n",
      "info= {'prob': 1.0}\n",
      "\n",
      "\n",
      "Iteration  19\n",
      "observation= 0\n",
      "reward= 0.5\n",
      "done= False\n",
      "info= {'prob': 1.0}\n",
      "\n",
      "\n",
      "Iteration  20\n",
      "observation= 0\n",
      "reward= 0.5\n",
      "done= False\n",
      "info= {'prob': 1.0}\n",
      "\n",
      "\n"
     ]
    }
   ],
   "source": [
    "observation_init = env.reset()\n",
    "print(\"Initial Observation=\",observation_init)\n",
    "print(\"\\n\")\n",
    "cum_reward = 0\n",
    "cumulative_reward = [0]\n",
    "\n",
    "for t in range(20):\n",
    "\n",
    "    action = env.action_space.sample() # take a random action\n",
    "    observation, reward, done, info = env.step(action)\n",
    "    \n",
    "    cum_reward += reward\n",
    "    cumulative_reward.append(cum_reward)\n",
    "    \n",
    "    print(\"Iteration \",t+1)\n",
    "    print(\"observation=\",observation)\n",
    "    print(\"reward=\",reward)\n",
    "    print(\"done=\",done)\n",
    "    print(\"info=\",info)\n",
    "    \n",
    "    if done:\n",
    "        print(\"Episode finished after {} timesteps\".format(t+1))\n",
    "        break    \n",
    "    \n",
    "    print(\"\\n\")\n",
    "env.close()"
   ]
  },
  {
   "cell_type": "markdown",
   "metadata": {
    "id": "u9kpyAEk6aYB"
   },
   "source": [
    "# Plot the global reward "
   ]
  },
  {
   "cell_type": "code",
   "execution_count": 4,
   "metadata": {},
   "outputs": [],
   "source": [
    "#List of time steps\n",
    "t = list(range(21))"
   ]
  },
  {
   "cell_type": "code",
   "execution_count": 5,
   "metadata": {},
   "outputs": [
    {
     "data": {
      "text/plain": [
       "<matplotlib.collections.PathCollection at 0x18f7df39e20>"
      ]
     },
     "execution_count": 5,
     "metadata": {},
     "output_type": "execute_result"
    },
    {
     "data": {
      "image/png": "[encoded data removed]",
      "text/plain": [
       "<Figure size 432x288 with 1 Axes>"
      ]
     },
     "metadata": {
      "needs_background": "light"
     },
     "output_type": "display_data"
    }
   ],
   "source": [
    "#Plotting cumulative reward\n",
    "plt.scatter(t,cumulative_reward)"
   ]
  },
  {
   "cell_type": "markdown",
   "metadata": {
    "id": "qC0PJOkV6aYH"
   },
   "source": [
    "# Compute directly the optimal value function for each state"
   ]
  },
  {
   "cell_type": "markdown",
   "metadata": {},
   "source": [
    "alpha = 1\n",
    "beta = 1\n",
    "r_wait = 0.5\n",
    "r_search = 2.0\n",
    "\n",
    "1) State Low\n",
    "\n",
    "val1 = $beta[r search + gamma.V*(low)] + (1-beta)[-3 + gamma.V*(high)]$ ---> (search)\n",
    "\n",
    "val2 = $1[r wait + gamma.V*(low)]$ ---> (wait)\n",
    "\n",
    "val3 = $1[0 + gamma.V*(high)]$ ---> (recharge)\n",
    "\n",
    "V*(low) = max{val1, val2, val3}\n",
    "\n",
    "2) State High\n",
    "\n",
    "val1 = $alpha[r search + gamma.V*(high)] + (1-alpha)[r search + gamma.V*(low)]$ ---> (search)\n",
    "\n",
    "val2 = $1[r wait + gamma.V*(high)]$ ---> (wait)\n",
    "\n",
    "V*(high) = max{val1, val2}"
   ]
  },
  {
   "cell_type": "code",
   "execution_count": 6,
   "metadata": {},
   "outputs": [],
   "source": [
    "#Defining important parameters\n",
    "gamma = 0.9\n",
    "theta = 0.1\n",
    "max_iterations=1e9"
   ]
  },
  {
   "cell_type": "markdown",
   "metadata": {
    "id": "ZRz0uMX1LbXz"
   },
   "source": [
    "# Implement Value Iteration"
   ]
  },
  {
   "cell_type": "markdown",
   "metadata": {
    "id": "bVuBLOrWL1ru"
   },
   "source": [
    "  Evaluate the optimal value function given a full description of the environment dynamics\n",
    "  \n",
    "  \n",
    "\n",
    "```\n",
    " Args:\n",
    "\n",
    "        env: OpenAI env. env.P represents the transition probabilities of the environment.\n",
    "            env.P[s][a] is a list of transition tuples (prob, next_state, reward, done).\n",
    "            env.nS is a number of states in the environment. \n",
    "            env.nA is a number of actions in the environment.\n",
    "        theta: We stop evaluation once our value function change is less than theta for all states.\n",
    "        discount_factor: Gamma discount factor.\n",
    "  \n",
    "  Returns:\n",
    "        Vector of length env.nS representing the value function.\n",
    "```\n",
    "\n",
    "\n",
    "  \n",
    "   "
   ]
  },
  {
   "cell_type": "code",
   "execution_count": 14,
   "metadata": {},
   "outputs": [],
   "source": [
    "def value_iter(env):\n",
    "\n",
    "    #Initialize state-value function with zeros for each environment state\n",
    "    V = np.zeros(env.nS)\n",
    "\n",
    "    for i in range(int(max_iterations)):    \n",
    "\n",
    "        #Early stopping condition\n",
    "        delta = 0\n",
    "        #Finding optimal value function\n",
    "        for s in range(env.nS):\n",
    "\n",
    "            #Find the best action for this state\n",
    "            action_value = np.zeros(env.nA)\n",
    "            for action in range(env.nA):\n",
    "                for probability, next_state, reward, terminated in env.P[s][action]:\n",
    "                    action_value[action] += probability*(reward + gamma*V[next_state])\n",
    "\n",
    "            #Select best action to perform based on the highest state-action value\n",
    "            best_action_value = np.max(action_value)        \n",
    "\n",
    "            #Calculate change in value\n",
    "            delta = max(delta, np.abs(V[s] - best_action_value))\n",
    "            #Update the value function for current state\n",
    "            V[s] = best_action_value\n",
    "\n",
    "        #Check if we can stop\n",
    "        if delta < theta:\n",
    "            break\n",
    "\n",
    "    #Create a deterministic policy using the optimal value function\n",
    "    policy = np.zeros(env.nS)\n",
    "    for s in range(env.nS):\n",
    "        #Find the best action for this state\n",
    "        action_value = np.zeros(env.nA)\n",
    "        for action in range(env.nA):  \n",
    "            for probability, next_state, reward, terminated in env.P[s][action]:\n",
    "                action_value[action] += probability*(reward + gamma*V[next_state])      \n",
    "\n",
    "        #Select best action based on the highest state-action value\n",
    "        best_action = np.argmax(action_value)\n",
    "        #Update the policy to perform a better action at a current state\n",
    "        policy[s] = best_action        \n",
    "            \n",
    "    return V, policy"
   ]
  },
  {
   "cell_type": "markdown",
   "metadata": {
    "id": "KGWxWGNA6aYJ"
   },
   "source": [
    "# Implement policy iteration"
   ]
  },
  {
   "cell_type": "markdown",
   "metadata": {
    "id": "f9o3S2kaKQKX"
   },
   "source": [
    "First a policy evluation\n",
    "\n",
    "```\n",
    "Evaluate a policy given an environment and a full description of the environment's dynamics.\n",
    "    \n",
    "    Args:\n",
    "        policy: [S, A] shaped matrix representing the policy.\n",
    "        env: OpenAI env. env.P represents the transition probabilities of the environment.\n",
    "            env.P[s][a] is a list of transition tuples (prob, next_state, reward, done).\n",
    "            env.nS is a number of states in the environment. \n",
    "            env.nA is a number of actions in the environment.\n",
    "        theta: We stop evaluation once our value function change is less than theta for all states.\n",
    "        discount_factor: Gamma discount factor.\n",
    "    \n",
    "    Returns:\n",
    "        Vector of length env.nS representing the value function.\n",
    "        \n",
    "```\n",
    "\n",
    "Then a policy improvement:\n",
    "\n",
    "\n",
    "```\n",
    " Policy Improvement Algorithm. Iteratively evaluates and improves a policy\n",
    "    until an optimal policy is found.\n",
    "    \n",
    "    Args:\n",
    "        env: The OpenAI envrionment.\n",
    "        policy_eval_fn: Policy Evaluation function that takes 3 arguments:\n",
    "            policy, env, discount_factor.\n",
    "        discount_factor: gamma discount factor.\n",
    "        \n",
    "    Returns:\n",
    "        A tuple (policy, V). \n",
    "        policy is the optimal policy, a matrix of shape [S, A] where each state s\n",
    "        contains a valid probability distribution over actions.\n",
    "        V is the value function for the optimal policy.\n",
    "        \n",
    "```\n",
    "\n",
    "\n",
    "\n"
   ]
  },
  {
   "cell_type": "code",
   "execution_count": 83,
   "metadata": {},
   "outputs": [],
   "source": [
    "def policy_iter(env):\n",
    "\n",
    "    #Initialize policy and value arbitrarily\n",
    "    policy = [0 for s in range(env.nS)]\n",
    "    V = np.zeros(env.nS)\n",
    "\n",
    "    is_value_changed = True\n",
    "    iterations = 0\n",
    "    while is_value_changed:\n",
    "        is_value_changed = False\n",
    "        iterations += 1\n",
    "\n",
    "        #Policy Evaluation\n",
    "        # Repeat until change in value is below the threshold\n",
    "        for i in range(int(max_iterations)):    \n",
    "\n",
    "            # Initialize a change of value function as zero\n",
    "            delta = 0\n",
    "            # run value iteration for each state\n",
    "            for s in range(env.nS):\n",
    "                # Initial a new value of current state\n",
    "                v = 0        \n",
    "                # Calculate the expected value\n",
    "                for probability, next_state, reward, terminated in env.P[s][policy[s]]:\n",
    "                    v += probability*(reward + gamma*V[next_state])            \n",
    "                # Calculate the absolute change of value function\n",
    "                delta = max(delta, np.abs(V[s] - v))\n",
    "                # Update value function\n",
    "                V[s] = v\n",
    "\n",
    "            # Terminate if value change is insignificant\n",
    "            if delta < theta:\n",
    "                break\n",
    "\n",
    "        #Policy Improvement\n",
    "        for s in range(env.nS):\n",
    "            q_best = V[s]\n",
    "            for a in range(env.nA):\n",
    "                q_sa = 0\n",
    "                for probability, next_state, reward, terminated in env.P[s][a]:\n",
    "                    q_sa += probability*(reward + gamma*V[next_state])   \n",
    "\n",
    "                if q_sa > q_best:\n",
    "                    policy[s] = a\n",
    "                    q_best = q_sa\n",
    "                    is_value_changed = True\n",
    "\n",
    "        #print (\"Iterations:\", iterations)\n",
    "    \n",
    "    return V, policy"
   ]
  },
  {
   "cell_type": "markdown",
   "metadata": {
    "id": "brOjUJvE6aYV"
   },
   "source": [
    "# Using the 3 algorithms do the following experiments\n"
   ]
  },
  {
   "cell_type": "code",
   "execution_count": 61,
   "metadata": {
    "id": "jVKvrm0t6aYV"
   },
   "outputs": [],
   "source": [
    "exp1 = gen_ambient(alpha=0.9, beta=0.9, r_search=3, r_wait=2)\n",
    "exp2 = gen_ambient(alpha=0.8, beta=0.5, r_search=3, r_wait=2)\n",
    "exp3 = gen_ambient(alpha=0.5, beta=0.5, r_search=3, r_wait=2)\n",
    "exp4 = gen_ambient(alpha=0.9, beta=0.6, r_search=1, r_wait=0.9)\n",
    "exp5 = gen_ambient(alpha=0.9, beta=0.6, r_search=1, r_wait=0.5)"
   ]
  },
  {
   "cell_type": "code",
   "execution_count": 84,
   "metadata": {},
   "outputs": [
    {
     "name": "stdout",
     "output_type": "stream",
     "text": [
      "Value Iteration: V = [13.2791185  11.95120665]\n",
      "Policy Iteration: V = [13.79310345 12.4137931 ]\n"
     ]
    }
   ],
   "source": [
    "exp_marco = gen_ambient(alpha=0.5, beta=0.4)\n",
    "\n",
    "V, policy = value_iter(exp_marco)\n",
    "print(\"Value Iteration: V =\",V)\n",
    "V, policy = policy_iter(exp_marco)\n",
    "print(\"Policy Iteration: V =\",V) "
   ]
  },
  {
   "cell_type": "code",
   "execution_count": 85,
   "metadata": {},
   "outputs": [
    {
     "name": "stdout",
     "output_type": "stream",
     "text": [
      "Value Iteration: V = [27.27134934 25.17163006]\n",
      "Policy Iteration: V = [28.07142857 25.92857143]\n"
     ]
    }
   ],
   "source": [
    "exp1 = gen_ambient(alpha=0.9, beta=0.9, r_search=3, r_wait=2)\n",
    "\n",
    "V, policy = value_iter(exp1)\n",
    "print(\"Value Iteration: V =\",V)\n",
    "V, policy = policy_iter(exp1)\n",
    "print(\"Policy Iteration: V =\",V) "
   ]
  },
  {
   "cell_type": "code",
   "execution_count": 86,
   "metadata": {},
   "outputs": [
    {
     "name": "stdout",
     "output_type": "stream",
     "text": [
      "Value Iteration: V = [24.75718575 22.28146717]\n",
      "Policy Iteration: V = [25.42372881 22.88135593]\n"
     ]
    }
   ],
   "source": [
    "exp2 = gen_ambient(alpha=0.8, beta=0.5, r_search=3, r_wait=2)\n",
    "\n",
    "V, policy = value_iter(exp2)\n",
    "print(\"Value Iteration: V =\",V)\n",
    "V, policy = policy_iter(exp2)\n",
    "print(\"Policy Iteration: V =\",V)    "
   ]
  },
  {
   "cell_type": "code",
   "execution_count": 87,
   "metadata": {},
   "outputs": [
    {
     "name": "stdout",
     "output_type": "stream",
     "text": [
      "Value Iteration: V = [20.94909811 19.1309167 ]\n",
      "Policy Iteration: V = [21.81818182 20.        ]\n"
     ]
    }
   ],
   "source": [
    "exp3 = gen_ambient(alpha=0.5, beta=0.5, r_search=3, r_wait=2)\n",
    "\n",
    "V, policy = value_iter(exp3)\n",
    "print(\"Value Iteration: V =\",V)\n",
    "V, policy = policy_iter(exp3)\n",
    "print(\"Policy Iteration: V =\",V)  "
   ]
  },
  {
   "cell_type": "code",
   "execution_count": 88,
   "metadata": {},
   "outputs": [
    {
     "name": "stdout",
     "output_type": "stream",
     "text": [
      "Value Iteration: V = [8.63491791 8.11370619]\n",
      "Policy Iteration: V = [9.52631579 9.        ]\n"
     ]
    }
   ],
   "source": [
    "exp4 = gen_ambient(alpha=0.9, beta=0.6, r_search=1, r_wait=0.9)\n",
    "\n",
    "V, policy = value_iter(exp4)\n",
    "print(\"Value Iteration: V =\",V)\n",
    "V, policy = policy_iter(exp4)\n",
    "print(\"Policy Iteration: V =\",V) "
   ]
  },
  {
   "cell_type": "code",
   "execution_count": 89,
   "metadata": {},
   "outputs": [
    {
     "name": "stdout",
     "output_type": "stream",
     "text": [
      "Value Iteration: V = [8.36147152 7.52532436]\n",
      "Policy Iteration: V = [9.17431193 8.25688073]\n"
     ]
    }
   ],
   "source": [
    "exp5 = gen_ambient(alpha=0.9, beta=0.6, r_search=1, r_wait=0.5)\n",
    "\n",
    "V, policy = value_iter(exp5)\n",
    "print(\"Value Iteration: V =\",V)\n",
    "V, policy = policy_iter(exp5)\n",
    "print(\"Policy Iteration: V =\",V) "
   ]
  },
  {
   "cell_type": "markdown",
   "metadata": {
    "id": "IAT_YZq56aYY"
   },
   "source": [
    "# Compare the different strategies with the random one\n",
    "# Compare the different strategies in terms of speed of convergence for the different scenarios\n",
    "# What would you do if alpha and beta are unknown (and you dont know RL)? Try to implement something if you have time.\n"
   ]
  },
  {
   "cell_type": "markdown",
   "metadata": {},
   "source": [
    "- Policy Iteration involves two steps: policy evaluation and policy improvement. The two are repeated iteratively until policy convergence.\n",
    "- Value Iteration also involves two steps: finding optimal value function and one policy extraction. In this case, however, the two steps are not repeated iteratively because once the value function is optimal, then the policy obtained from it should also be optimal.\n",
    "- The algorithms for policy evaluation and finding the optimal value function are very similar, except that the latter has a max operator.\n",
    "- Even though each iteration of policy iteration is more computationally expensive, this method often takes fewer number of iterations to converge compared to value iteration."
   ]
  }
 ],
 "metadata": {
  "colab": {
   "collapsed_sections": [],
   "name": "TP1_2021.ipynb",
   "provenance": []
  },
  "kernelspec": {
   "display_name": "Python 3",
   "language": "python",
   "name": "python3"
  },
  "language_info": {
   "codemirror_mode": {
    "name": "ipython",
    "version": 3
   },
   "file_extension": ".py",
   "mimetype": "text/x-python",
   "name": "python",
   "nbconvert_exporter": "python",
   "pygments_lexer": "ipython3",
   "version": "3.8.3"
  }
 },
 "nbformat": 4,
 "nbformat_minor": 1
}
