{
 "cells": [
  {
   "cell_type": "markdown",
   "metadata": {
    "id": "U05PrMnoQ4iD"
   },
   "source": [
    "## Multi-task problem: colored USPS"
   ]
  },
  {
   "cell_type": "code",
   "execution_count": null,
   "metadata": {
    "id": "Jx8bwX4SQ4iH"
   },
   "outputs": [],
   "source": [
    "import torch\n",
    "import torch.nn as nn\n",
    "import torch.nn.functional as F\n",
    "import torchvision\n",
    "import torchvision.transforms as transforms\n",
    "from torch.utils.data import DataLoader, random_split, TensorDataset\n",
    "\n",
    "\n",
    "import matplotlib.pyplot as plt\n",
    "\n",
    "%matplotlib inline"
   ]
  },
  {
   "cell_type": "markdown",
   "metadata": {
    "id": "MIUgTqCmQ4iI"
   },
   "source": [
    "### Colored USPS Dataset\n",
    "* Handwritten digits with 10 classes\n",
    "* Size of each image: 16x16 pixels \n",
    "* 6 000 data examples in training set, 1 291 examples in validation set, 2 007 in test set\n",
    "* We colorize each image with a random color within 5 (red, green, blue, magenta, yellow)\n",
    "* Each image has two labels: the number it represents (10 classes) and the color of the number (5 classes)"
   ]
  },
  {
   "cell_type": "code",
   "execution_count": null,
   "metadata": {
    "id": "ql7Ew63BQ4iI"
   },
   "outputs": [],
   "source": [
    "# Given a loaded USPS dataset, create a colozied version of it\n",
    "def colorize_dataset(dataset):\n",
    "    # array of colors\n",
    "    COLORS = torch.tensor([\n",
    "        [1.0, 0.0, 0.0], # 0 RED\n",
    "        [0.0, 1.0, 0.0], # 1 GREEN\n",
    "        [0.0, 0.0, 1.0], # 2 BLUE\n",
    "        [1.0, 1.0, 0.0], # 3 YELLOW\n",
    "        [1.0, 0.0, 1.0], # 4 MAGENTA\n",
    "    ])\n",
    "    N = len(dataset)\n",
    "    images = torch.tensor(dataset.data/255).view(N, 1, 16, 16)\n",
    "    labels = torch.tensor(dataset.targets).view(N, 1)\n",
    "    color_labels = torch.randint(0, 5, (N,))\n",
    "    colorized_images = images * COLORS[color_labels, :].view(N,3,1,1)\n",
    "    full_labels = torch.cat((labels, color_labels.view(N, 1)), dim=1)\n",
    "    return TensorDataset(colorized_images, full_labels)\n",
    "    "
   ]
  },
  {
   "cell_type": "code",
   "execution_count": null,
   "metadata": {
    "colab": {
     "base_uri": "https://localhost:8080/",
     "height": 83,
     "referenced_widgets": [
      "7959fd9346214e8a9d81c2a374d3f211",
      "f0a2c117f75d453094f4fc653ce49530",
      "53e4c801d0d64230971a4713cc6bb6c4",
      "5faa9249c5124601bafbce2d239a49b6",
      "f1efb4f5b9c940b78987c69ba0505345",
      "cc171846f7a2430eba70c815a18d87e5",
      "0feb1202bdd74c0c9c680c02e0db64a9",
      "0c84b4b57c63473aac70c856e56aac0e"
     ]
    },
    "executionInfo": {
     "elapsed": 9183,
     "status": "ok",
     "timestamp": 1611246224124,
     "user": {
      "displayName": "MARCO ANTONIO FARFAN QUIROZ",
      "photoUrl": "https://lh3.googleusercontent.com/a-/AOh14GiyouCic8PRJa_OhiXqrKl9D6yotjSxiwR5iKw9=s64",
      "userId": "01920866730777537430"
     },
     "user_tz": -60
    },
    "id": "xU_TJwpNQ4iJ",
    "outputId": "792614a4-3dbb-4309-9605-5d607e5600be"
   },
   "outputs": [
    {
     "name": "stdout",
     "output_type": "stream",
     "text": [
      "Downloading https://www.csie.ntu.edu.tw/~cjlin/libsvmtools/datasets/multiclass/usps.bz2 to USPS/usps.bz2\n"
     ]
    },
    {
     "data": {
      "application/vnd.jupyter.widget-view+json": {
       "model_id": "7959fd9346214e8a9d81c2a374d3f211",
       "version_major": 2,
       "version_minor": 0
      },
      "text/plain": [
       "HBox(children=(FloatProgress(value=1.0, bar_style='info', max=1.0), HTML(value='')))"
      ]
     },
     "metadata": {
      "tags": []
     },
     "output_type": "display_data"
    },
    {
     "name": "stdout",
     "output_type": "stream",
     "text": [
      "\n"
     ]
    }
   ],
   "source": [
    "# Loading MNIST dataset from torchvision.dataset\n",
    "dataset = torchvision.datasets.USPS(root='USPS/',\n",
    "                                           train=True,\n",
    "                                           transform=transforms.ToTensor(),\n",
    "                                           download=True)\n",
    "\n",
    "dataset = colorize_dataset(dataset)"
   ]
  },
  {
   "cell_type": "code",
   "execution_count": null,
   "metadata": {
    "colab": {
     "base_uri": "https://localhost:8080/"
    },
    "executionInfo": {
     "elapsed": 9036,
     "status": "ok",
     "timestamp": 1611246224127,
     "user": {
      "displayName": "MARCO ANTONIO FARFAN QUIROZ",
      "photoUrl": "https://lh3.googleusercontent.com/a-/AOh14GiyouCic8PRJa_OhiXqrKl9D6yotjSxiwR5iKw9=s64",
      "userId": "01920866730777537430"
     },
     "user_tz": -60
    },
    "id": "qy4uJdBzQ4iJ",
    "outputId": "1d364b3f-5764-4381-dfad-f5423b503dde"
   },
   "outputs": [
    {
     "name": "stdout",
     "output_type": "stream",
     "text": [
      "The shape of the dataset is : torch.Size([7291, 3, 16, 16])\n"
     ]
    }
   ],
   "source": [
    "print(\"The shape of the dataset is :\", dataset.tensors[0].size())"
   ]
  },
  {
   "cell_type": "code",
   "execution_count": null,
   "metadata": {
    "id": "weo-GBaJQ4iJ"
   },
   "outputs": [],
   "source": [
    "# split the dataset into training and validation sets\n",
    "train_set, val_set = random_split(dataset, [6000, 1291])"
   ]
  },
  {
   "cell_type": "code",
   "execution_count": null,
   "metadata": {
    "colab": {
     "base_uri": "https://localhost:8080/",
     "height": 298
    },
    "executionInfo": {
     "elapsed": 8767,
     "status": "ok",
     "timestamp": 1611246224129,
     "user": {
      "displayName": "MARCO ANTONIO FARFAN QUIROZ",
      "photoUrl": "https://lh3.googleusercontent.com/a-/AOh14GiyouCic8PRJa_OhiXqrKl9D6yotjSxiwR5iKw9=s64",
      "userId": "01920866730777537430"
     },
     "user_tz": -60
    },
    "id": "eB3biix3Q4iJ",
    "outputId": "0f8be71d-7354-4132-8630-9c5859321de2"
   },
   "outputs": [
    {
     "data": {
      "text/plain": [
       "Text(0.5, 1.0, 'image label: tensor([0, 1])')"
      ]
     },
     "execution_count": 9,
     "metadata": {
      "tags": []
     },
     "output_type": "execute_result"
    },
    {
     "data": {
      "image/png": "[encoded data removed]",
      "text/plain": [
       "<Figure size 432x288 with 1 Axes>"
      ]
     },
     "metadata": {
      "needs_background": "light",
      "tags": []
     },
     "output_type": "display_data"
    }
   ],
   "source": [
    "sample_index = 18\n",
    "\n",
    "plt.imshow(dataset[sample_index][0].permute(1, 2, 0), plt.cm.gray_r)\n",
    "plt.title(\"image label: {}\".format(dataset[sample_index][1]))"
   ]
  },
  {
   "cell_type": "markdown",
   "metadata": {
    "id": "khWVE03nQ4iK"
   },
   "source": [
    "### Training the neural network"
   ]
  },
  {
   "cell_type": "code",
   "execution_count": null,
   "metadata": {
    "id": "C33Kto5HQ4iK"
   },
   "outputs": [],
   "source": [
    "class Model(nn.Module):\n",
    "    \n",
    "    def __init__(self):\n",
    "        super(Model, self).__init__()\n",
    "        # The input size is 16*16. For a standard classification task, the output size should be the same as the number of classes\n",
    "        self.l_number = nn.Linear(16*16*3, 10)\n",
    "        # However here we deal with 2 tasks: the network outputs 2 labels, so there are two \"last\" layers in parallel\n",
    "        self.l_color = nn.Linear(16*16*3, 5)\n",
    "        \n",
    "    def forward(self, inputs):\n",
    "        h = inputs.view(-1, 16*16*3)\n",
    "        # Use softmax as the activation function for the last layer(s)\n",
    "        output_number = F.softmax(self.l_number(h), dim=1)\n",
    "        output_color = F.softmax(self.l_color(h), dim=1)\n",
    "\n",
    "        return (output_number, output_color)"
   ]
  },
  {
   "cell_type": "code",
   "execution_count": null,
   "metadata": {
    "id": "qAXQT9Xnxrp3"
   },
   "outputs": [],
   "source": [
    "class ModelRefined(nn.Module):\n",
    "    \n",
    "    def __init__(self):\n",
    "        super(ModelRefined, self).__init__()\n",
    "        # The input size is 16*16. For a standard classification task, the output size should be the same as the number of classes\n",
    "        self.conv1 = nn.Conv2d(in_channels=3, out_channels=5, kernel_size=5)\n",
    "        self.pool = nn.MaxPool2d(kernel_size=2, stride=2)\n",
    "        #self.conv2 = nn.Conv2d(in_channels=5, out_channels=8, kernel_size=5)\n",
    "        self.fc1 = nn.Linear(5 * 6 * 6, 100)\n",
    "        self.fc2 = nn.Linear(100, 10)\n",
    "        # However here we deal with 2 tasks: the network outputs 2 labels, so there are two \"last\" layers in parallel\n",
    "        self.l_color = nn.Linear(16*16*3, 5)\n",
    "        \n",
    "    def forward(self, inputs):\n",
    "        # Use softmax as the activation function for the last layer(s)\n",
    "        output_number = F.relu(self.conv1(inputs))\n",
    "        output_number = self.pool(output_number)\n",
    "        output_number = output_number.view(-1, 5 * 6 * 6)\n",
    "        output_number = F.relu(self.fc1(output_number))\n",
    "        output_number = self.fc2(output_number)\n",
    "\n",
    "        h = inputs.view(-1, 16*16*3)\n",
    "        output_color = self.l_color(h)\n",
    "        \n",
    "        return (output_number, output_color)"
   ]
  },
  {
   "cell_type": "code",
   "execution_count": null,
   "metadata": {
    "id": "_oVEJoYQQ4iK"
   },
   "outputs": [],
   "source": [
    "# Create the model: \n",
    "model = ModelRefined()\n",
    "\n",
    "# Choose the hyperparameters for training: \n",
    "num_epochs = 30\n",
    "batch_size = 10\n",
    "\n",
    "# Use mean squared loss function \n",
    "criterion = nn.CrossEntropyLoss()\n",
    "\n",
    "# Use SGD optimizer with a learning rate of 0.01\n",
    "# It is initialized on our model\n",
    "optimizer = torch.optim.SGD(model.parameters(), lr=0.1)"
   ]
  },
  {
   "cell_type": "code",
   "execution_count": null,
   "metadata": {
    "id": "-HI_mYHPQ4iK"
   },
   "outputs": [],
   "source": [
    "# define a function for training\n",
    "def train(num_epochs, batch_size, criterion, optimizer, model, dataset):\n",
    "    train_error = []\n",
    "    train_loader = DataLoader(dataset, batch_size, shuffle=True)\n",
    "    model.train()\n",
    "    for epoch in range(num_epochs):\n",
    "        epoch_average_loss = 0.0\n",
    "        for (images, labels) in train_loader:\n",
    "            (y_number, y_color) = model(images.float())\n",
    "            \n",
    "            # One-hot encoding or labels so as to calculate MSE error:\n",
    "            #number_onehot = F.one_hot(labels[:,0], 10).float()\n",
    "            #color_onehot = F.one_hot(labels[:,1], 5).float()\n",
    "            number_onehot = labels[:,0]\n",
    "            color_onehot = labels[:,1]\n",
    "\n",
    "            loss = criterion(y_number, number_onehot) + criterion(y_color, color_onehot)\n",
    "            optimizer.zero_grad()\n",
    "            loss.backward()\n",
    "            optimizer.step()\n",
    "            epoch_average_loss += loss.item() * batch_size / len(dataset)\n",
    "        train_error.append(epoch_average_loss)\n",
    "        print('Epoch [{}/{}], Loss: {:.4f}'\n",
    "                      .format(epoch+1, num_epochs, epoch_average_loss))\n",
    "    return train_error"
   ]
  },
  {
   "cell_type": "code",
   "execution_count": null,
   "metadata": {
    "colab": {
     "base_uri": "https://localhost:8080/"
    },
    "executionInfo": {
     "elapsed": 36271,
     "status": "ok",
     "timestamp": 1611246262800,
     "user": {
      "displayName": "MARCO ANTONIO FARFAN QUIROZ",
      "photoUrl": "https://lh3.googleusercontent.com/a-/AOh14GiyouCic8PRJa_OhiXqrKl9D6yotjSxiwR5iKw9=s64",
      "userId": "01920866730777537430"
     },
     "user_tz": -60
    },
    "id": "9yP950unQ4iK",
    "outputId": "3374f2fc-be21-496c-c657-005aa111700d"
   },
   "outputs": [
    {
     "name": "stdout",
     "output_type": "stream",
     "text": [
      "Epoch [1/30], Loss: 0.8259\n",
      "Epoch [2/30], Loss: 0.2496\n",
      "Epoch [3/30], Loss: 0.1637\n",
      "Epoch [4/30], Loss: 0.1174\n",
      "Epoch [5/30], Loss: 0.0893\n",
      "Epoch [6/30], Loss: 0.0740\n",
      "Epoch [7/30], Loss: 0.0533\n",
      "Epoch [8/30], Loss: 0.0490\n",
      "Epoch [9/30], Loss: 0.0446\n",
      "Epoch [10/30], Loss: 0.0329\n",
      "Epoch [11/30], Loss: 0.0325\n",
      "Epoch [12/30], Loss: 0.0300\n",
      "Epoch [13/30], Loss: 0.0123\n",
      "Epoch [14/30], Loss: 0.0092\n",
      "Epoch [15/30], Loss: 0.0085\n",
      "Epoch [16/30], Loss: 0.0075\n",
      "Epoch [17/30], Loss: 0.0050\n",
      "Epoch [18/30], Loss: 0.0046\n",
      "Epoch [19/30], Loss: 0.0046\n",
      "Epoch [20/30], Loss: 0.0040\n",
      "Epoch [21/30], Loss: 0.0037\n",
      "Epoch [22/30], Loss: 0.0033\n",
      "Epoch [23/30], Loss: 0.0034\n",
      "Epoch [24/30], Loss: 0.0034\n",
      "Epoch [25/30], Loss: 0.0033\n",
      "Epoch [26/30], Loss: 0.0032\n",
      "Epoch [27/30], Loss: 0.0028\n",
      "Epoch [28/30], Loss: 0.0031\n",
      "Epoch [29/30], Loss: 0.0025\n",
      "Epoch [30/30], Loss: 0.0026\n"
     ]
    }
   ],
   "source": [
    "train_error = train(num_epochs, batch_size, criterion, optimizer, model, train_set)"
   ]
  },
  {
   "cell_type": "code",
   "execution_count": null,
   "metadata": {
    "colab": {
     "base_uri": "https://localhost:8080/",
     "height": 313
    },
    "executionInfo": {
     "elapsed": 48557,
     "status": "ok",
     "timestamp": 1611072072043,
     "user": {
      "displayName": "MARCO ANTONIO FARFAN QUIROZ",
      "photoUrl": "https://lh3.googleusercontent.com/a-/AOh14GiyouCic8PRJa_OhiXqrKl9D6yotjSxiwR5iKw9=s64",
      "userId": "01920866730777537430"
     },
     "user_tz": -60
    },
    "id": "mP4tqiufQ4iL",
    "outputId": "1865d810-1e93-4aa3-a2c4-8162e43c1286"
   },
   "outputs": [
    {
     "data": {
      "text/plain": [
       "Text(0.5, 1.0, 'Visualization of convergence')"
      ]
     },
     "execution_count": 12,
     "metadata": {
      "tags": []
     },
     "output_type": "execute_result"
    },
    {
     "data": {
      "image/png": "[encoded data removed]",
      "text/plain": [
       "<Figure size 432x288 with 1 Axes>"
      ]
     },
     "metadata": {
      "needs_background": "light",
      "tags": []
     },
     "output_type": "display_data"
    }
   ],
   "source": [
    "# plot the training error wrt. the number of epochs: \n",
    "plt.plot(range(1, num_epochs+1), train_error)\n",
    "plt.xlabel(\"num_epochs\")\n",
    "plt.ylabel(\"Train error\")\n",
    "plt.title(\"Visualization of convergence\")"
   ]
  },
  {
   "cell_type": "markdown",
   "metadata": {
    "id": "OP8_60qaQ4iL"
   },
   "source": [
    "### Evaluate the model on the validation set"
   ]
  },
  {
   "cell_type": "code",
   "execution_count": null,
   "metadata": {
    "id": "YT3mGzB2Q4iL"
   },
   "outputs": [],
   "source": [
    "# Calculate the accuracy to evaluate the model\n",
    "def accuracy(dataset, model):\n",
    "\n",
    "    with torch.no_grad():\n",
    "        number_correct = 0\n",
    "        color_correct = 0\n",
    "        both_correct = 0\n",
    "        dataloader = DataLoader(dataset)\n",
    "        for images, labels in dataloader:\n",
    "            #images = images.view(-1, 16*16)\n",
    "            (y_number, y_color) = model(images.float())\n",
    "            _, number_predicted = torch.max(y_number.data, 1) \n",
    "            number_correct += (number_predicted == labels[:, 0]).sum()\n",
    "            _, color_predicted = torch.max(y_color.data, 1) \n",
    "            color_correct += (color_predicted == labels[:, 1]).sum()\n",
    "            both_correct += ((color_predicted == labels[:, 1]) and (number_predicted == labels[:, 0])).sum()\n",
    "\n",
    "    print('Accuracy of the model for numbers : {:.2f} %'.format(100*number_correct.item()/ len(dataset)))\n",
    "    print('Accuracy of the model for colors : {:.2f} %'.format(100*color_correct.item()/ len(dataset)))\n",
    "    print('Accuracy of the model for both : {:.2f} %'.format(100*both_correct.item()/ len(dataset)))"
   ]
  },
  {
   "cell_type": "code",
   "execution_count": null,
   "metadata": {
    "colab": {
     "base_uri": "https://localhost:8080/"
    },
    "executionInfo": {
     "elapsed": 49378,
     "status": "ok",
     "timestamp": 1611072072876,
     "user": {
      "displayName": "MARCO ANTONIO FARFAN QUIROZ",
      "photoUrl": "https://lh3.googleusercontent.com/a-/AOh14GiyouCic8PRJa_OhiXqrKl9D6yotjSxiwR5iKw9=s64",
      "userId": "01920866730777537430"
     },
     "user_tz": -60
    },
    "id": "oletdkIWQ4iL",
    "outputId": "13dc67e2-bce7-4701-b191-39be4f6c4097"
   },
   "outputs": [
    {
     "name": "stdout",
     "output_type": "stream",
     "text": [
      "Accuracy of the model for numbers : 98.14 %\n",
      "Accuracy of the model for colors : 100.00 %\n",
      "Accuracy of the model for both : 98.14 %\n"
     ]
    }
   ],
   "source": [
    "accuracy(val_set, model)"
   ]
  },
  {
   "cell_type": "code",
   "execution_count": null,
   "metadata": {
    "colab": {
     "base_uri": "https://localhost:8080/",
     "height": 298
    },
    "executionInfo": {
     "elapsed": 737,
     "status": "ok",
     "timestamp": 1611002215423,
     "user": {
      "displayName": "MARCO ANTONIO FARFAN QUIROZ",
      "photoUrl": "https://lh3.googleusercontent.com/a-/AOh14GiyouCic8PRJa_OhiXqrKl9D6yotjSxiwR5iKw9=s64",
      "userId": "01920866730777537430"
     },
     "user_tz": -60
    },
    "id": "yS52tkFnQ4iM",
    "outputId": "dfd5a93a-510b-4ce6-fd67-8e57e400fee9"
   },
   "outputs": [
    {
     "data": {
      "text/plain": [
       "Text(0.5, 1.0, 'Prediction: number=3, color=4')"
      ]
     },
     "execution_count": 678,
     "metadata": {
      "tags": []
     },
     "output_type": "execute_result"
    },
    {
     "data": {
      "image/png": "[encoded data removed]",
      "text/plain": [
       "<Figure size 432x288 with 1 Axes>"
      ]
     },
     "metadata": {
      "needs_background": "light",
      "tags": []
     },
     "output_type": "display_data"
    }
   ],
   "source": [
    "val_index = 66\n",
    "\n",
    "(image, label) = val_set[val_index]\n",
    "image = image.view(-1,3,16,16)\n",
    "(y_number, y_color) = model(image.float())\n",
    "_, number_prediction = torch.max(y_number.data, 1)\n",
    "_, color_prediction = torch.max(y_color.data, 1)\n",
    "\n",
    "image = image.view(3,16,16)\n",
    "plt.imshow(image.permute(1, 2, 0), interpolation='nearest')\n",
    "plt.title(\"Prediction: number=%d, color=%d\" % (number_prediction, color_prediction))"
   ]
  },
  {
   "cell_type": "markdown",
   "metadata": {
    "id": "u2X7HNF8Q4iM"
   },
   "source": [
    "### Exercise 1: Impact of the architecture of the model\n",
    "Define your own class `Model` to improve the predictions:\n",
    "\n",
    "* The convolutional layer can be a good choice to deal with images. Replace nn.Linear with [nn.Conv2d](https://pytorch.org/docs/stable/nn.html#conv2d).\n",
    "* Try to add more layers (1, 2, 3, more ?)\n",
    "* Change the number of neurons in hidden layers (5, 10, 20, more ?)\n",
    "* Try different activation functions such as [sigmoid](https://pytorch.org/docs/stable/nn.functional.html#torch.nn.functional.sigmoid), [tanh](https://pytorch.org/docs/stable/nn.functional.html#torch.nn.functional.tanh), [relu](https://pytorch.org/docs/stable/nn.functional.html#torch.nn.functional.relu), etc.\n",
    "* __Your network generates two different outputs, how much weight-sharing (i.e. how many common layers) between these two paths is appropriate?__"
   ]
  },
  {
   "cell_type": "markdown",
   "metadata": {
    "id": "deBqTvzWQ4iM"
   },
   "source": [
    "### Exercise 2: Impact of the optimizer\n",
    "Retrain the model by using different parameters of the optimizer; you can change its parameters in the cell initializing it, after the definition of your model.\n",
    "\n",
    "* Use different batch sizes, from 10 to 1 000 for instance\n",
    "* Try different values of the learning rate (between 0.001 and 10), and see how these impact the training process. Do all network architectures react the same way to different learning rates?\n",
    "* Change the duration of the training by increasing the number of epochs\n",
    "* Try other optimizers, such as [Adam](https://pytorch.org/docs/stable/optim.html?highlight=adam#torch.optim.Adam) or [RMSprop](https://pytorch.org/docs/stable/optim.html?highlight=rmsprop#torch.optim.RMSprop)"
   ]
  },
  {
   "cell_type": "markdown",
   "metadata": {
    "id": "cuK1L8qQQ4iM"
   },
   "source": [
    "### Exercise 3: Impact of the loss function\n",
    "The MSE error is rarely used in this case. The cross entropy loss can be a better choice for multi-classification problems. In pytorch, the cross entropy loss is defined by [nn.CrossEntropyLoss](https://pytorch.org/docs/stable/nn.html#crossentropyloss). Replace the MSE loss by this one to observe its impact.\n",
    "\n",
    "**Note:** In order to use nn.CrossEntropyLoss correctly, don't add an activation function to the last layer of your network. And one-hot encoding is no longer needed to calculate the loss, delete the encoding procedures in function `train`.   "
   ]
  },
  {
   "cell_type": "markdown",
   "metadata": {
    "id": "VnG-pIV1Q4iM"
   },
   "source": [
    "### Exercise 4: Prediction on test set\n",
    "\n",
    "Once you have a model that seems satisfying on the validation dataset, you SHOULD evaluate it on a test dataset that has never been used before, to obtain a final accuracy value."
   ]
  },
  {
   "cell_type": "code",
   "execution_count": null,
   "metadata": {
    "id": "sL_afU6iQ4iN"
   },
   "outputs": [],
   "source": [
    "# Loading MNIST test set from torchvision.dataset\n",
    "test_set = torchvision.datasets.USPS(root='USPS/',\n",
    "                                         train=False,\n",
    "                                         transform=transforms.ToTensor(),\n",
    "                                         download=True)\n",
    "test_set = colorize_dataset(test_set)"
   ]
  },
  {
   "cell_type": "code",
   "execution_count": null,
   "metadata": {
    "colab": {
     "base_uri": "https://localhost:8080/"
    },
    "executionInfo": {
     "elapsed": 2445,
     "status": "ok",
     "timestamp": 1611002221687,
     "user": {
      "displayName": "MARCO ANTONIO FARFAN QUIROZ",
      "photoUrl": "https://lh3.googleusercontent.com/a-/AOh14GiyouCic8PRJa_OhiXqrKl9D6yotjSxiwR5iKw9=s64",
      "userId": "01920866730777537430"
     },
     "user_tz": -60
    },
    "id": "S3wbcetbQ4iN",
    "outputId": "2e83ae33-1f01-46cc-ff8a-a0ddf401b363"
   },
   "outputs": [
    {
     "name": "stdout",
     "output_type": "stream",
     "text": [
      "Accuracy of the model for numbers : 94.72 %\n",
      "Accuracy of the model for colors : 100.00 %\n",
      "Accuracy of the model for both : 94.72 %\n"
     ]
    }
   ],
   "source": [
    "accuracy(test_set, model)"
   ]
  }
 ],
 "metadata": {
  "colab": {
   "collapsed_sections": [],
   "name": "TP1_Ex3_MultiTask.ipynb",
   "provenance": []
  },
  "kernelspec": {
   "display_name": "Python 3",
   "language": "python",
   "name": "python3"
  },
  "language_info": {
   "codemirror_mode": {
    "name": "ipython",
    "version": 3
   },
   "file_extension": ".py",
   "mimetype": "text/x-python",
   "name": "python",
   "nbconvert_exporter": "python",
   "pygments_lexer": "ipython3",
   "version": "3.8.3"
  },
  "widgets": {
   "application/vnd.jupyter.widget-state+json": {
    "0c84b4b57c63473aac70c856e56aac0e": {
     "model_module": "@jupyter-widgets/base",
     "model_name": "LayoutModel",
     "state": {
      "_model_module": "@jupyter-widgets/base",
      "_model_module_version": "1.2.0",
      "_model_name": "LayoutModel",
      "_view_count": null,
      "_view_module": "@jupyter-widgets/base",
      "_view_module_version": "1.2.0",
      "_view_name": "LayoutView",
      "align_content": null,
      "align_items": null,
      "align_self": null,
      "border": null,
      "bottom": null,
      "display": null,
      "flex": null,
      "flex_flow": null,
      "grid_area": null,
      "grid_auto_columns": null,
      "grid_auto_flow": null,
      "grid_auto_rows": null,
      "grid_column": null,
      "grid_gap": null,
      "grid_row": null,
      "grid_template_areas": null,
      "grid_template_columns": null,
      "grid_template_rows": null,
      "height": null,
      "justify_content": null,
      "justify_items": null,
      "left": null,
      "margin": null,
      "max_height": null,
      "max_width": null,
      "min_height": null,
      "min_width": null,
      "object_fit": null,
      "object_position": null,
      "order": null,
      "overflow": null,
      "overflow_x": null,
      "overflow_y": null,
      "padding": null,
      "right": null,
      "top": null,
      "visibility": null,
      "width": null
     }
    },
    "0feb1202bdd74c0c9c680c02e0db64a9": {
     "model_module": "@jupyter-widgets/controls",
     "model_name": "DescriptionStyleModel",
     "state": {
      "_model_module": "@jupyter-widgets/controls",
      "_model_module_version": "1.5.0",
      "_model_name": "DescriptionStyleModel",
      "_view_count": null,
      "_view_module": "@jupyter-widgets/base",
      "_view_module_version": "1.2.0",
      "_view_name": "StyleView",
      "description_width": ""
     }
    },
    "53e4c801d0d64230971a4713cc6bb6c4": {
     "model_module": "@jupyter-widgets/controls",
     "model_name": "FloatProgressModel",
     "state": {
      "_dom_classes": [],
      "_model_module": "@jupyter-widgets/controls",
      "_model_module_version": "1.5.0",
      "_model_name": "FloatProgressModel",
      "_view_count": null,
      "_view_module": "@jupyter-widgets/controls",
      "_view_module_version": "1.5.0",
      "_view_name": "ProgressView",
      "bar_style": "success",
      "description": "",
      "description_tooltip": null,
      "layout": "IPY_MODEL_cc171846f7a2430eba70c815a18d87e5",
      "max": 1,
      "min": 0,
      "orientation": "horizontal",
      "style": "IPY_MODEL_f1efb4f5b9c940b78987c69ba0505345",
      "value": 1
     }
    },
    "5faa9249c5124601bafbce2d239a49b6": {
     "model_module": "@jupyter-widgets/controls",
     "model_name": "HTMLModel",
     "state": {
      "_dom_classes": [],
      "_model_module": "@jupyter-widgets/controls",
      "_model_module_version": "1.5.0",
      "_model_name": "HTMLModel",
      "_view_count": null,
      "_view_module": "@jupyter-widgets/controls",
      "_view_module_version": "1.5.0",
      "_view_name": "HTMLView",
      "description": "",
      "description_tooltip": null,
      "layout": "IPY_MODEL_0c84b4b57c63473aac70c856e56aac0e",
      "placeholder": "​",
      "style": "IPY_MODEL_0feb1202bdd74c0c9c680c02e0db64a9",
      "value": " 6586368/? [00:05&lt;00:00, 1177511.94it/s]"
     }
    },
    "7959fd9346214e8a9d81c2a374d3f211": {
     "model_module": "@jupyter-widgets/controls",
     "model_name": "HBoxModel",
     "state": {
      "_dom_classes": [],
      "_model_module": "@jupyter-widgets/controls",
      "_model_module_version": "1.5.0",
      "_model_name": "HBoxModel",
      "_view_count": null,
      "_view_module": "@jupyter-widgets/controls",
      "_view_module_version": "1.5.0",
      "_view_name": "HBoxView",
      "box_style": "",
      "children": [
       "IPY_MODEL_53e4c801d0d64230971a4713cc6bb6c4",
       "IPY_MODEL_5faa9249c5124601bafbce2d239a49b6"
      ],
      "layout": "IPY_MODEL_f0a2c117f75d453094f4fc653ce49530"
     }
    },
    "cc171846f7a2430eba70c815a18d87e5": {
     "model_module": "@jupyter-widgets/base",
     "model_name": "LayoutModel",
     "state": {
      "_model_module": "@jupyter-widgets/base",
      "_model_module_version": "1.2.0",
      "_model_name": "LayoutModel",
      "_view_count": null,
      "_view_module": "@jupyter-widgets/base",
      "_view_module_version": "1.2.0",
      "_view_name": "LayoutView",
      "align_content": null,
      "align_items": null,
      "align_self": null,
      "border": null,
      "bottom": null,
      "display": null,
      "flex": null,
      "flex_flow": null,
      "grid_area": null,
      "grid_auto_columns": null,
      "grid_auto_flow": null,
      "grid_auto_rows": null,
      "grid_column": null,
      "grid_gap": null,
      "grid_row": null,
      "grid_template_areas": null,
      "grid_template_columns": null,
      "grid_template_rows": null,
      "height": null,
      "justify_content": null,
      "justify_items": null,
      "left": null,
      "margin": null,
      "max_height": null,
      "max_width": null,
      "min_height": null,
      "min_width": null,
      "object_fit": null,
      "object_position": null,
      "order": null,
      "overflow": null,
      "overflow_x": null,
      "overflow_y": null,
      "padding": null,
      "right": null,
      "top": null,
      "visibility": null,
      "width": null
     }
    },
    "f0a2c117f75d453094f4fc653ce49530": {
     "model_module": "@jupyter-widgets/base",
     "model_name": "LayoutModel",
     "state": {
      "_model_module": "@jupyter-widgets/base",
      "_model_module_version": "1.2.0",
      "_model_name": "LayoutModel",
      "_view_count": null,
      "_view_module": "@jupyter-widgets/base",
      "_view_module_version": "1.2.0",
      "_view_name": "LayoutView",
      "align_content": null,
      "align_items": null,
      "align_self": null,
      "border": null,
      "bottom": null,
      "display": null,
      "flex": null,
      "flex_flow": null,
      "grid_area": null,
      "grid_auto_columns": null,
      "grid_auto_flow": null,
      "grid_auto_rows": null,
      "grid_column": null,
      "grid_gap": null,
      "grid_row": null,
      "grid_template_areas": null,
      "grid_template_columns": null,
      "grid_template_rows": null,
      "height": null,
      "justify_content": null,
      "justify_items": null,
      "left": null,
      "margin": null,
      "max_height": null,
      "max_width": null,
      "min_height": null,
      "min_width": null,
      "object_fit": null,
      "object_position": null,
      "order": null,
      "overflow": null,
      "overflow_x": null,
      "overflow_y": null,
      "padding": null,
      "right": null,
      "top": null,
      "visibility": null,
      "width": null
     }
    },
    "f1efb4f5b9c940b78987c69ba0505345": {
     "model_module": "@jupyter-widgets/controls",
     "model_name": "ProgressStyleModel",
     "state": {
      "_model_module": "@jupyter-widgets/controls",
      "_model_module_version": "1.5.0",
      "_model_name": "ProgressStyleModel",
      "_view_count": null,
      "_view_module": "@jupyter-widgets/base",
      "_view_module_version": "1.2.0",
      "_view_name": "StyleView",
      "bar_color": null,
      "description_width": "initial"
     }
    }
   }
  }
 },
 "nbformat": 4,
 "nbformat_minor": 1
}
