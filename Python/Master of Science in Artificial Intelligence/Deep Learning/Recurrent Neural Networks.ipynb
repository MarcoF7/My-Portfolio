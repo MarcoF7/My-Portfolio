{
 "cells": [
  {
   "cell_type": "markdown",
   "metadata": {
    "id": "ufCtt9CQgUSQ"
   },
   "source": [
    "# Sequence to sequence translation"
   ]
  },
  {
   "cell_type": "markdown",
   "metadata": {},
   "source": [
    "Input file: eng-fra.txt (English-French pair sentences)"
   ]
  },
  {
   "cell_type": "code",
   "execution_count": null,
   "metadata": {
    "colab": {
     "base_uri": "https://localhost:8080/"
    },
    "executionInfo": {
     "elapsed": 443,
     "status": "ok",
     "timestamp": 1611345892569,
     "user": {
      "displayName": "MARCO ANTONIO FARFAN QUIROZ",
      "photoUrl": "https://lh3.googleusercontent.com/a-/AOh14GiyouCic8PRJa_OhiXqrKl9D6yotjSxiwR5iKw9=s64",
      "userId": "01920866730777537430"
     },
     "user_tz": -60
    },
    "id": "GXHFY8D-2t_K",
    "outputId": "48cb983c-9455-4790-af4a-1ad1962308ab"
   },
   "outputs": [
    {
     "name": "stdout",
     "output_type": "stream",
     "text": [
      "Drive already mounted at /content/drive; to attempt to forcibly remount, call drive.mount(\"/content/drive\", force_remount=True).\n"
     ]
    }
   ],
   "source": [
    "from google.colab import drive\n",
    "drive.mount('/content/drive')"
   ]
  },
  {
   "cell_type": "markdown",
   "metadata": {
    "id": "9HnQ6JrdhQFB"
   },
   "source": [
    "## Requirements"
   ]
  },
  {
   "cell_type": "code",
   "execution_count": null,
   "metadata": {
    "id": "irJIcvRiJfhk"
   },
   "outputs": [],
   "source": [
    "from __future__ import unicode_literals, print_function, division\n",
    "from io import open\n",
    "import unicodedata\n",
    "import string\n",
    "import re\n",
    "import random\n",
    "\n",
    "from tqdm.notebook import tqdm\n",
    "\n",
    "import torch\n",
    "import torch.nn as nn\n",
    "from torch import optim\n",
    "import torch.nn.functional as F\n",
    "\n",
    "device = torch.device(\"cuda\" if torch.cuda.is_available() else \"cpu\")"
   ]
  },
  {
   "cell_type": "markdown",
   "metadata": {
    "id": "RqGtE9DLPnGd"
   },
   "source": [
    "# Preprocessing the data"
   ]
  },
  {
   "cell_type": "markdown",
   "metadata": {
    "id": "kJZLNw8jXA5e"
   },
   "source": [
    "In order to train our text generation model, we need to transform raw text into training data. \\\\\n",
    "For each language, we have to convert every words into numerical data, in order our model to mathematically process them. To do that, we create a **vocabulary**, i.e. a dictionary in which each token is mapped to a different index.  One can add special tokens values for delimiting start or end of a sentence, or for unknown tokens (not encountered in training or discarded from the vocabulary). \\\\\n",
    "The next cell shows the vocabulary creation."
   ]
  },
  {
   "cell_type": "code",
   "execution_count": null,
   "metadata": {
    "id": "6aA0CbAJJvJO"
   },
   "outputs": [],
   "source": [
    "SOS_token = 0\n",
    "EOS_token = 1\n",
    "\n",
    "class Lang:\n",
    "    def __init__(self, name):\n",
    "        self.name = name\n",
    "        self.word2index = {}\n",
    "        self.word2count = {}\n",
    "        self.index2word = {0: \"SOS\", 1: \"EOS\"}\n",
    "        self.n_words = 2  # Count SOS and EOS\n",
    "\n",
    "    def addSentence(self, sentence):\n",
    "        for word in sentence.split(' '):\n",
    "            self.addWord(word)\n",
    "\n",
    "    def addWord(self, word):\n",
    "        if word not in self.word2index:\n",
    "            self.word2index[word] = self.n_words\n",
    "            self.word2count[word] = 1\n",
    "            self.index2word[self.n_words] = word\n",
    "            self.n_words += 1\n",
    "        else:\n",
    "            self.word2count[word] += 1"
   ]
  },
  {
   "cell_type": "markdown",
   "metadata": {
    "id": "gIcYT12mYtq2"
   },
   "source": [
    "Data are in Unicode, next cell aims to convert it into ASCII caracters and uniform them."
   ]
  },
  {
   "cell_type": "code",
   "execution_count": null,
   "metadata": {
    "id": "bhrLCbyWYsD_"
   },
   "outputs": [],
   "source": [
    "def unicodeToAscii(s):\n",
    "    return ''.join(\n",
    "        c for c in unicodedata.normalize('NFD', s)\n",
    "        if unicodedata.category(c) != 'Mn'\n",
    "    )\n",
    "\n",
    "# Lowercase, trim, and remove non-letter characters\n",
    "\n",
    "\n",
    "def normalizeString(s):\n",
    "    s = unicodeToAscii(s.lower().strip())\n",
    "    s = re.sub(r\"([.!?])\", r\" \\1\", s)\n",
    "    s = re.sub(r\"[^a-zA-Z.!?]+\", r\" \", s)\n",
    "    return s"
   ]
  },
  {
   "cell_type": "markdown",
   "metadata": {
    "id": "8i9yOcvOY8vt"
   },
   "source": [
    "Next cell enables to form sentences pairs between the two languages. "
   ]
  },
  {
   "cell_type": "code",
   "execution_count": null,
   "metadata": {
    "id": "ndfAhyGhY7Zu"
   },
   "outputs": [],
   "source": [
    "def readLangs(lang1, lang2, reverse=False):\n",
    "    print(\"Reading lines...\")\n",
    "\n",
    "    # Read the file and split into lines\n",
    "    lines = open('%s-%s.txt' % (lang1, lang2), encoding='utf-8').\\\n",
    "        read().strip().split('\\n')\n",
    "\n",
    "    # Split every line into pairs and normalize\n",
    "    pairs = [[normalizeString(s) for s in l.split('\\t')] for l in lines]\n",
    "\n",
    "    # Reverse pairs, make Lang instances\n",
    "    if reverse:\n",
    "        pairs = [list(reversed(p)) for p in pairs]\n",
    "        input_lang = Lang(lang2)\n",
    "        output_lang = Lang(lang1)\n",
    "    else:\n",
    "        input_lang = Lang(lang1)\n",
    "        output_lang = Lang(lang2)\n",
    "\n",
    "    return input_lang, output_lang, pairs\n"
   ]
  },
  {
   "cell_type": "markdown",
   "metadata": {
    "id": "h-kMwautZQx9"
   },
   "source": [
    "Then, in order to speed up training, we decide to filter sentences and only keep short ones, beginning with following prefixes:"
   ]
  },
  {
   "cell_type": "code",
   "execution_count": null,
   "metadata": {
    "id": "-tB8CUfeLyLk"
   },
   "outputs": [],
   "source": [
    "MAX_LENGTH = 10\n",
    "\n",
    "eng_prefixes = (\n",
    "    \"i am \", \"i m \",\n",
    "    \"he is\", \"he s \",\n",
    "    \"she is\", \"she s \",\n",
    "    \"you are\", \"you re \",\n",
    "    \"we are\", \"we re \",\n",
    "    \"they are\", \"they re \"\n",
    ")\n",
    "\n",
    "\n",
    "def filterPair(p):\n",
    "    return len(p[0].split(' ')) < MAX_LENGTH and \\\n",
    "        len(p[1].split(' ')) < MAX_LENGTH and \\\n",
    "        p[1].startswith(eng_prefixes)\n",
    "\n",
    "\n",
    "def filterPairs(pairs):\n",
    "    return [pair for pair in pairs if filterPair(pair)]"
   ]
  },
  {
   "cell_type": "markdown",
   "metadata": {
    "id": "8z2JcahpXkrb"
   },
   "source": [
    "We execute all these functions to obtain training data:"
   ]
  },
  {
   "cell_type": "code",
   "execution_count": null,
   "metadata": {
    "colab": {
     "base_uri": "https://localhost:8080/"
    },
    "executionInfo": {
     "elapsed": 4722,
     "status": "ok",
     "timestamp": 1611345896890,
     "user": {
      "displayName": "MARCO ANTONIO FARFAN QUIROZ",
      "photoUrl": "https://lh3.googleusercontent.com/a-/AOh14GiyouCic8PRJa_OhiXqrKl9D6yotjSxiwR5iKw9=s64",
      "userId": "01920866730777537430"
     },
     "user_tz": -60
    },
    "id": "AG2XoOt7MO2i",
    "outputId": "e97add18-a5ab-4844-faab-c3df6a0a8ef1"
   },
   "outputs": [
    {
     "name": "stdout",
     "output_type": "stream",
     "text": [
      "Reading lines...\n",
      "Read 135842 sentence pairs\n",
      "Trimmed to 10599 sentence pairs\n",
      "Counting words...\n",
      "Counted words:\n",
      "fra 4345\n",
      "eng 2803\n",
      "['j en suis vraiment fier .', 'i m really proud of it .']\n"
     ]
    }
   ],
   "source": [
    "def prepareData(lang1, lang2, reverse=False):\n",
    "    input_lang, output_lang, pairs = readLangs(lang1, lang2, reverse)\n",
    "    print(\"Read %s sentence pairs\" % len(pairs))\n",
    "    pairs = filterPairs(pairs)\n",
    "    print(\"Trimmed to %s sentence pairs\" % len(pairs))\n",
    "    print(\"Counting words...\")\n",
    "    for pair in pairs:\n",
    "        input_lang.addSentence(pair[0])\n",
    "        output_lang.addSentence(pair[1])\n",
    "    print(\"Counted words:\")\n",
    "    print(input_lang.name, input_lang.n_words)\n",
    "    print(output_lang.name, output_lang.n_words)\n",
    "    return input_lang, output_lang, pairs\n",
    "\n",
    "\n",
    "input_lang, output_lang, pairs = prepareData('eng', 'fra', True)\n",
    "print(random.choice(pairs))"
   ]
  },
  {
   "cell_type": "markdown",
   "metadata": {
    "id": "gGB6XU8HbGiI"
   },
   "source": [
    "Finally, as suggested above, we convert words into numerical values. "
   ]
  },
  {
   "cell_type": "code",
   "execution_count": null,
   "metadata": {
    "id": "XrVlDtKsbgIt"
   },
   "outputs": [],
   "source": [
    "def indexesFromSentence(lang, sentence):\n",
    "    return [lang.word2index[word] for word in sentence.split(' ')]\n",
    "\n",
    "  \n",
    "def tensorFromSentence(lang, sentence):\n",
    "    indexes = indexesFromSentence(lang, sentence)\n",
    "    indexes.append(EOS_token)\n",
    "    return torch.tensor(indexes, dtype=torch.long, device=device).view(-1, 1)\n",
    "\n",
    "\n",
    "def tensorsFromPair(pair):\n",
    "    input_tensor = tensorFromSentence(input_lang, pair[0])\n",
    "    target_tensor = tensorFromSentence(output_lang, pair[1])\n",
    "    return (input_tensor, target_tensor)"
   ]
  },
  {
   "cell_type": "markdown",
   "metadata": {
    "id": "IpzMTbu4aF7j"
   },
   "source": [
    "# The Encoder"
   ]
  },
  {
   "cell_type": "markdown",
   "metadata": {
    "id": "pT66bMh8aIeK"
   },
   "source": [
    "Recall the encoder-decoder architecture:\n",
    "\n",
    "![encoder.png](data:image/png;base64,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)\n",
    "\n",
    "We first implement the encoder part. It is a network module, composed of : \n",
    "\n",
    "* an Embedding Layer : Currently, our tokens are encoded as one-dimensional integers. This is not ideal for learning, as we want representations to be as disentangled as possible, i.e. that our model can easily separate different explainable factors of our data. Hence, it is common to represent tokens as multi-dimensional vectors. This layer learns a nice representation of the inputs. Here, we consider that the embedding dimension is the same as the hidden dimension of the RNN.\n",
    "\n",
    "* a recurrent layer, like a classical RNN, or a Gated RNN such as GRU and LSTM. **We'll use a GRU for this session.**\n",
    "\n",
    "![encoder ar.png](data:image/png;base64,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)\n"
   ]
  },
  {
   "cell_type": "markdown",
   "metadata": {
    "id": "x90wmhaujqaC"
   },
   "source": [
    "##### Hint"
   ]
  },
  {
   "cell_type": "markdown",
   "metadata": {
    "id": "AdNForC4jyZo"
   },
   "source": [
    "You may want to visit \n",
    "You may want to visit https://pytorch.org/docs/stable/generated/torch.nn.Embedding.html and https://pytorch.org/docs/stable/generated/torch.nn.GRU.html to fill the gaps below"
   ]
  },
  {
   "cell_type": "markdown",
   "metadata": {
    "id": "0RnjgObxj_la"
   },
   "source": [
    "# Your turn now !"
   ]
  },
  {
   "cell_type": "code",
   "execution_count": null,
   "metadata": {
    "id": "RrD-uQiSMwVQ"
   },
   "outputs": [],
   "source": [
    "class EncoderRNN(nn.Module):\n",
    "    def __init__(self, input_size, hidden_size):\n",
    "        super(EncoderRNN, self).__init__()\n",
    "\n",
    "        ### START CODE HERE ###\n",
    "\n",
    "        self.hidden_size = hidden_size\n",
    "\n",
    "        self.embedding = nn.Embedding(input_size,hidden_size)\n",
    "        self.gru = nn.GRU(hidden_size, hidden_size)\n",
    "\n",
    "        ### END CODE HERE ###\n",
    "\n",
    "    def forward(self, input, hidden):\n",
    "\n",
    "        ### START CODE HERE ###\n",
    "\n",
    "        embedded = self.embedding(input).view(1, 1, -1)\n",
    "        output, hidden = self.gru(embedded, hidden)\n",
    "        return output, hidden\n",
    "\n",
    "\n",
    "    def initHidden(self):\n",
    "        return torch.zeros(1, 1, self.hidden_size , device=device)\n",
    "\n",
    "         ### END CODE HERE ###"
   ]
  },
  {
   "cell_type": "markdown",
   "metadata": {
    "id": "GfodkyJPehE0"
   },
   "source": [
    "# The Decoder"
   ]
  },
  {
   "cell_type": "markdown",
   "metadata": {
    "id": "_6MDpslUekGz"
   },
   "source": [
    "The other part of the global architecture is the Decoder. It is composed of: \n",
    "\n",
    "* an Embedding layer, to map previous output words to multi-dimensional vectors, followed by a ReLu\n",
    "\n",
    "* a recurrent layer\n",
    "\n",
    "* a linear layer followed by a softmax to map output from the recurrent layer to the output \n",
    "\n",
    "![decoder.png](data:image/png;base64,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)"
   ]
  },
  {
   "cell_type": "code",
   "execution_count": null,
   "metadata": {
    "id": "LNywrwjrM3Ng"
   },
   "outputs": [],
   "source": [
    "class DecoderRNN(nn.Module):\n",
    "    def __init__(self, hidden_size, output_size):\n",
    "        super(DecoderRNN, self).__init__()\n",
    "\n",
    "        ### START CODE HERE ###\n",
    "\n",
    "        self.hidden_size = hidden_size\n",
    "\n",
    "        self.embedding =  nn.Embedding( output_size ,  hidden_size )\n",
    "        self.gru = nn.GRU( hidden_size , hidden_size )\n",
    "        self.out = nn.Linear( hidden_size , output_size ) #we want probabilities\n",
    "        self.softmax = nn.LogSoftmax(dim=1)\n",
    "\n",
    "        ### END CODE HERE ###\n",
    "\n",
    "    def forward(self, input, hidden):\n",
    "        output = self.embedding(input).view(1, 1, -1)\n",
    "\n",
    "        ### START CODE HERE ###\n",
    "\n",
    "        output = F.relu(output) \n",
    "        output, hidden = self.gru(output,hidden)\n",
    "        output = self.softmax(self.out(output[0]))\n",
    "\n",
    "        ### END CODE HERE ###\n",
    "\n",
    "        return output, hidden\n",
    "\n",
    "    def initHidden(self):\n",
    "        return torch.zeros(1, 1, self.hidden_size, device=device)"
   ]
  },
  {
   "cell_type": "markdown",
   "metadata": {
    "id": "kHniovF2kZ7R"
   },
   "source": [
    "# Adding Attention Module"
   ]
  },
  {
   "cell_type": "markdown",
   "metadata": {
    "id": "_iMWwJ3JkfEP"
   },
   "source": [
    "In order to earn some training time, let's update our decode already, by adding an attention module. Recall that the attention module will compute attention weights on every encoder hidden state, and thus will compute a context vector summing up the relevant information at a given time. \n",
    "\n",
    "![attention decoder.png](data:image/png;base64,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)\n",
    "\n",
    "The decoder now contains: \n",
    "\n",
    "* a linear layer computing attention weights based on previous hidden state and previous output\n",
    "* a dot-product operation computing a weighted sum (with computed attention weights) on encoder hidden states\n",
    "* a linear layer called \"attn_combine\" applied to that context vector to produce the new input for recurrent module\n",
    "* a recurrent module \n",
    "* as before, a linear layer followed by softmax to get ouptut probabilities"
   ]
  },
  {
   "cell_type": "code",
   "execution_count": null,
   "metadata": {
    "id": "miGjKZfWM5NA"
   },
   "outputs": [],
   "source": [
    "class AttnDecoderRNN(nn.Module):\n",
    "    def __init__(self, hidden_size, output_size, dropout_p=0.1, max_length=MAX_LENGTH):\n",
    "        super(AttnDecoderRNN, self).__init__()\n",
    "        self.hidden_size = hidden_size\n",
    "        self.output_size = output_size\n",
    "        self.dropout_p = dropout_p\n",
    "        self.max_length = max_length\n",
    "\n",
    "        self.embedding = nn.Embedding(self.output_size, self.hidden_size)\n",
    "        self.attn = nn.Linear(self.hidden_size * 2, self.max_length)\n",
    "        self.attn_combine = nn.Linear(self.hidden_size * 2, self.hidden_size)\n",
    "        self.dropout = nn.Dropout(self.dropout_p)\n",
    "        self.gru = nn.GRU(self.hidden_size, self.hidden_size)\n",
    "        self.out = nn.Linear(self.hidden_size, self.output_size)\n",
    "\n",
    "    def forward(self, input, hidden, encoder_outputs):\n",
    "        embedded = self.embedding(input).view(1, 1, -1)\n",
    "        embedded = self.dropout(embedded)\n",
    "\n",
    "        attn_weights = F.softmax(\n",
    "            self.attn(torch.cat((embedded[0], hidden[0]), 1)), dim=1)\n",
    "        attn_applied = torch.bmm(attn_weights.unsqueeze(0),\n",
    "                                 encoder_outputs.unsqueeze(0))\n",
    "\n",
    "        output = torch.cat((embedded[0], attn_applied[0]), 1)\n",
    "        output = self.attn_combine(output).unsqueeze(0)\n",
    "\n",
    "        output = F.relu(output)\n",
    "        output, hidden = self.gru(output, hidden)\n",
    "\n",
    "        output = F.log_softmax(self.out(output[0]), dim=1)\n",
    "        return output, hidden, attn_weights\n",
    "\n",
    "    def initHidden(self):\n",
    "        return torch.zeros(1, 1, self.hidden_size, device=device)"
   ]
  },
  {
   "cell_type": "markdown",
   "metadata": {
    "id": "0w7xIit1nKRA"
   },
   "source": [
    "# Training"
   ]
  },
  {
   "cell_type": "markdown",
   "metadata": {
    "id": "57E9j_WvnL0X"
   },
   "source": [
    "For the training procedure, we'll add a teacher_forcing module, in order to guide the model during training. Both modules (encoder and decoder) will have their own optimizer, but there is only one global loss. "
   ]
  },
  {
   "cell_type": "code",
   "execution_count": null,
   "metadata": {
    "id": "SgOggUy_M-wP"
   },
   "outputs": [],
   "source": [
    "teacher_forcing_ratio = 0.5\n",
    "\n",
    "\n",
    "def train(input_tensor, target_tensor, encoder, decoder, encoder_optimizer, decoder_optimizer, criterion, max_length=MAX_LENGTH):\n",
    "    encoder_hidden = encoder.initHidden()\n",
    "\n",
    "    encoder_optimizer.zero_grad()\n",
    "    decoder_optimizer.zero_grad()\n",
    "\n",
    "    input_length = input_tensor.size(0)\n",
    "    target_length = target_tensor.size(0)\n",
    "\n",
    "    encoder_outputs = torch.zeros(max_length, encoder.hidden_size, device=device)  #initializing all encoder outputs to 0\n",
    "\n",
    "    loss = 0\n",
    "\n",
    "    for ei in range(input_length):   # parsing all input words and computing encoder outputs\n",
    "        encoder_output, encoder_hidden = encoder(\n",
    "            input_tensor[ei], encoder_hidden)\n",
    "        encoder_outputs[ei] = encoder_output[0, 0] \n",
    "\n",
    "    decoder_input = torch.tensor([[SOS_token]], device=device) # initializing de oder first input as special token Start of Sentence\n",
    "\n",
    "    decoder_hidden = encoder_hidden # passing the encoder last hidden state as the initial one for decoder\n",
    "\n",
    "    use_teacher_forcing = True if random.random() < teacher_forcing_ratio else False\n",
    "\n",
    "    if use_teacher_forcing:\n",
    "        # Teacher forcing: Feed the target as the next input\n",
    "        for di in range(target_length): #generating word by word\n",
    "            decoder_output, decoder_hidden, decoder_attention = decoder(\n",
    "                decoder_input, decoder_hidden, encoder_outputs)\n",
    "            loss += criterion(decoder_output, target_tensor[di]) #comparing prediction to ground truth\n",
    "\n",
    "            ### START CODE HERE ###\n",
    "\n",
    "            #target_tensor is the ground truth\n",
    "            decoder_input = target_tensor[di]  # Teacher forcing\n",
    "\n",
    "            ### END CODE HERE ###\n",
    "\n",
    "    else:\n",
    "        # Without teacher forcing: use its own predictions as the next input\n",
    "        for di in range(target_length):\n",
    "            decoder_output, decoder_hidden, decoder_attention = decoder(\n",
    "                decoder_input, decoder_hidden, encoder_outputs)\n",
    "            topv, topi = decoder_output.topk(1) #taking maximum probabilit output as candidate for prediction\n",
    "            decoder_input = topi.squeeze().detach()  # detach from history as input, in order not to backprop on it\n",
    "\n",
    "            loss += criterion(decoder_output, target_tensor[di])\n",
    "            if decoder_input.item() == EOS_token: # end of sentence\n",
    "                break\n",
    "\n",
    "    loss.backward()\n",
    "\n",
    "    encoder_optimizer.step()\n",
    "    decoder_optimizer.step()\n",
    "\n",
    "    return loss.item() / target_length"
   ]
  },
  {
   "cell_type": "markdown",
   "metadata": {
    "id": "sLDzVv5An52e"
   },
   "source": [
    "**Questions :**\n",
    "\n",
    "* **Explain the line 26 : use_teacher_forcing = True if random.random() < teacher_forcing_ratio else False**"
   ]
  },
  {
   "cell_type": "markdown",
   "metadata": {
    "id": "LzGYtBiNrmK7"
   },
   "source": [
    "Supplementary functions for measuring execution time"
   ]
  },
  {
   "cell_type": "code",
   "execution_count": null,
   "metadata": {
    "id": "eidwLnZVNCCV"
   },
   "outputs": [],
   "source": [
    "import time\n",
    "import math\n",
    "\n",
    "\n",
    "def asMinutes(s):\n",
    "    m = math.floor(s / 60)\n",
    "    s -= m * 60\n",
    "    return '%dm %ds' % (m, s)\n",
    "\n",
    "\n",
    "def timeSince(since, percent):\n",
    "    now = time.time()\n",
    "    s = now - since\n",
    "    es = s / (percent)\n",
    "    rs = es - s\n",
    "    return '%s (- %s)' % (asMinutes(s), asMinutes(rs))"
   ]
  },
  {
   "cell_type": "markdown",
   "metadata": {
    "id": "T1nl-z_QrtXI"
   },
   "source": [
    "Let's put the training procedure in a global function, handling number of epochs:"
   ]
  },
  {
   "cell_type": "code",
   "execution_count": null,
   "metadata": {
    "id": "VJQYl_EyNDws"
   },
   "outputs": [],
   "source": [
    "def trainIters(encoder, decoder, n_iters, print_every=1000, plot_every=100, learning_rate=0.01):\n",
    "    start = time.time()\n",
    "    plot_losses = []\n",
    "    print_loss_total = 0  # Reset every print_every\n",
    "    plot_loss_total = 0  # Reset every plot_every\n",
    "\n",
    "    encoder_optimizer = optim.SGD(encoder.parameters(), lr=learning_rate) # we could use Adam too\n",
    "    decoder_optimizer = optim.SGD(decoder.parameters(), lr=learning_rate)\n",
    "    training_pairs = [tensorsFromPair(random.choice(pairs))\n",
    "                      for i in range(n_iters)]\n",
    "    criterion = nn.NLLLoss() # negative log likelihood minimization is equivalent to cross-entropy minimization for claissification\n",
    "\n",
    "    for iter in tqdm(range(1, n_iters + 1)):\n",
    "        training_pair = training_pairs[iter - 1]\n",
    "        input_tensor = training_pair[0]\n",
    "        target_tensor = training_pair[1]\n",
    "\n",
    "        ### START CODE HERE ###\n",
    "\n",
    "        loss = train(input_tensor,target_tensor,encoder,decoder,encoder_optimizer,decoder_optimizer,criterion)\n",
    "        \n",
    "        ### END CODE HERE ###\n",
    "        \n",
    "        print_loss_total += loss\n",
    "        plot_loss_total += loss\n",
    "\n",
    "        if iter % print_every == 0:\n",
    "            print_loss_avg = print_loss_total / print_every\n",
    "            print_loss_total = 0\n",
    "            print('%s (%d %d%%) %.4f' % (timeSince(start, iter / n_iters),\n",
    "                                         iter, iter / n_iters * 100, print_loss_avg))\n",
    "            evaluateRandomly(encoder, decoder, n=1)\n",
    "\n",
    "        if iter % plot_every == 0:\n",
    "            plot_loss_avg = plot_loss_total / plot_every\n",
    "            plot_losses.append(plot_loss_avg)\n",
    "            plot_loss_total = 0\n",
    "\n",
    "            showPlot(plot_losses)"
   ]
  },
  {
   "cell_type": "markdown",
   "metadata": {
    "id": "KAKxtjAotA1U"
   },
   "source": [
    "Plot dependencies"
   ]
  },
  {
   "cell_type": "code",
   "execution_count": null,
   "metadata": {
    "id": "MQgd9wVHNF62"
   },
   "outputs": [],
   "source": [
    "import matplotlib.pyplot as plt\n",
    "plt.switch_backend('agg')\n",
    "import matplotlib.ticker as ticker\n",
    "import numpy as np\n",
    "\n",
    "\n",
    "def showPlot(points):\n",
    "    plt.figure()\n",
    "    fig, ax = plt.subplots()\n",
    "    # this locator puts ticks at regular intervals\n",
    "    loc = ticker.MultipleLocator(base=0.2)\n",
    "    ax.yaxis.set_major_locator(loc)\n",
    "    plt.plot(points)"
   ]
  },
  {
   "cell_type": "markdown",
   "metadata": {
    "id": "cQJ1EzmBtDrL"
   },
   "source": [
    "We just need to define an evaluation function, and we're good !"
   ]
  },
  {
   "cell_type": "code",
   "execution_count": null,
   "metadata": {
    "id": "epMVwLvCNHQa"
   },
   "outputs": [],
   "source": [
    "def evaluate(encoder, decoder, sentence, max_length=MAX_LENGTH):\n",
    "    with torch.no_grad(): # we do not want to keep gradients during inference, we do not train the model at this point\n",
    "        input_tensor = tensorFromSentence(input_lang, sentence)\n",
    "        input_length = input_tensor.size()[0]\n",
    "        encoder_hidden = encoder.initHidden()\n",
    "\n",
    "\n",
    "        ### START CODE HERE ###\n",
    "\n",
    "        encoder_outputs = torch.zeros(max_length, encoder.hidden_size, device=device)\n",
    "\n",
    "        ### END CODE HERE ###\n",
    "\n",
    "        for ei in range(input_length):\n",
    "            encoder_output, encoder_hidden = encoder(input_tensor[ei],\n",
    "                                                     encoder_hidden)\n",
    "            encoder_outputs[ei] += encoder_output[0, 0]\n",
    "\n",
    "        decoder_input = torch.tensor([[SOS_token]], device=device)  # SOS\n",
    "\n",
    "        decoder_hidden = encoder_hidden\n",
    "\n",
    "        decoded_words = []\n",
    "        decoder_attentions = torch.zeros(max_length, max_length)\n",
    "\n",
    "        for di in range(max_length):\n",
    "            decoder_output, decoder_hidden, decoder_attention = decoder(\n",
    "                decoder_input, decoder_hidden, encoder_outputs)\n",
    "            decoder_attentions[di] = decoder_attention.data\n",
    "            topv, topi = decoder_output.data.topk(1)\n",
    "            if topi.item() == EOS_token:\n",
    "                decoded_words.append('<EOS>')\n",
    "                break\n",
    "            else:\n",
    "                decoded_words.append(output_lang.index2word[topi.item()])\n",
    "\n",
    "            decoder_input = topi.squeeze().detach()\n",
    "\n",
    "        return decoded_words, decoder_attentions[:di + 1]"
   ]
  },
  {
   "cell_type": "code",
   "execution_count": null,
   "metadata": {
    "id": "4Ly7S86qNJrE"
   },
   "outputs": [],
   "source": [
    "def evaluateRandomly(encoder, decoder, n=10):\n",
    "    for i in range(n):\n",
    "        pair = random.choice(pairs)\n",
    "        print('>', pair[0])\n",
    "        print('=', pair[1])\n",
    "        output_words, attentions = evaluate(encoder, decoder, pair[0])\n",
    "        output_sentence = ' '.join(output_words)\n",
    "        print('<', output_sentence)\n",
    "        print('')"
   ]
  },
  {
   "cell_type": "code",
   "execution_count": null,
   "metadata": {
    "colab": {
     "base_uri": "https://localhost:8080/",
     "height": 1000,
     "referenced_widgets": [
      "407049a3a05344fdb09376418e8f4358",
      "7b283eaee37746c88b20d4d55924d457",
      "a57bc2517cbf4039abf2d2e2d2ec21d2",
      "bbafa7d9654e4d5984018cb8348a5981",
      "57a89a9827be4464af5cb7470304b168",
      "9c2da7c4188c435a85ee63bf122305a1",
      "43cfe84474b14e04976282b9c4fb66b0",
      "1f3dc3b95fa34fa3ae60f0d35e5e2ece"
     ]
    },
    "executionInfo": {
     "elapsed": 1533698,
     "status": "ok",
     "timestamp": 1611158577199,
     "user": {
      "displayName": "MARCO ANTONIO FARFAN QUIROZ",
      "photoUrl": "https://lh3.googleusercontent.com/a-/AOh14GiyouCic8PRJa_OhiXqrKl9D6yotjSxiwR5iKw9=s64",
      "userId": "01920866730777537430"
     },
     "user_tz": -60
    },
    "id": "j2FJoOUVOv9R",
    "outputId": "0f339f44-7101-490c-a33b-2bd2d9b6c6f0"
   },
   "outputs": [
    {
     "data": {
      "application/vnd.jupyter.widget-view+json": {
       "model_id": "407049a3a05344fdb09376418e8f4358",
       "version_major": 2,
       "version_minor": 0
      },
      "text/plain": [
       "HBox(children=(FloatProgress(value=0.0, max=75000.0), HTML(value='')))"
      ]
     },
     "metadata": {
      "tags": []
     },
     "output_type": "display_data"
    },
    {
     "name": "stdout",
     "output_type": "stream",
     "text": [
      "1m 41s (- 23m 41s) (5000 6%) 2.8218\n",
      "> vous avez raison a ce sujet .\n",
      "= you re right about that .\n",
      "< you re such a the . . <EOS>\n",
      "\n",
      "3m 20s (- 21m 44s) (10000 13%) 2.2517\n",
      "> nous sommes en train de dejeuner .\n",
      "= we re having dinner .\n",
      "< we re out . <EOS>\n",
      "\n",
      "5m 0s (- 20m 3s) (15000 20%) 1.9296\n",
      "> vous imaginez des choses .\n",
      "= you re imagining things .\n",
      "< you re wasting . <EOS>\n",
      "\n",
      "6m 41s (- 18m 23s) (20000 26%) 1.6931\n",
      "> elle est appreciee de tout le monde .\n",
      "= she is appreciated by everyone .\n",
      "< she is absent by everyone . <EOS>\n",
      "\n",
      "8m 21s (- 16m 42s) (25000 33%) 1.5261\n",
      "> tu n es pas si vieux .\n",
      "= you re not that old .\n",
      "< you re not that old . <EOS>\n",
      "\n",
      "10m 2s (- 15m 3s) (30000 40%) 1.3675\n",
      "> je suis l un de vous .\n",
      "= i m one of you .\n",
      "< i m one of of . . <EOS>\n",
      "\n",
      "11m 43s (- 13m 23s) (35000 46%) 1.2479\n",
      "> je prends mon apres midi demain .\n",
      "= i m taking tomorrow afternoon off .\n",
      "< i m taking my tomorrow tomorrow . <EOS>\n",
      "\n",
      "13m 24s (- 11m 44s) (40000 53%) 1.1397\n",
      "> je travaille sur sa voiture .\n",
      "= i m working on his car .\n",
      "< i am working on his car . <EOS>\n",
      "\n",
      "15m 6s (- 10m 4s) (45000 60%) 0.9955\n",
      "> je suis tres interesse par la musique .\n",
      "= i am very interested in music .\n",
      "< i am very interested in the interested . <EOS>\n",
      "\n",
      "16m 47s (- 8m 23s) (50000 66%) 0.9268\n",
      "> cet endroit va me manquer .\n",
      "= i m going to miss this place .\n",
      "< i m going to miss a baby . <EOS>\n",
      "\n",
      "18m 29s (- 6m 43s) (55000 73%) 0.8412\n",
      "> il a offert son assistance .\n",
      "= he s offered to help .\n",
      "< he s to to . . . <EOS>\n",
      "\n"
     ]
    },
    {
     "name": "stderr",
     "output_type": "stream",
     "text": [
      "/usr/local/lib/python3.6/dist-packages/ipykernel_launcher.py:8: RuntimeWarning: More than 20 figures have been opened. Figures created through the pyplot interface (`matplotlib.pyplot.figure`) are retained until explicitly closed and may consume too much memory. (To control this warning, see the rcParam `figure.max_open_warning`).\n",
      "  \n",
      "/usr/local/lib/python3.6/dist-packages/ipykernel_launcher.py:9: RuntimeWarning: More than 20 figures have been opened. Figures created through the pyplot interface (`matplotlib.pyplot.figure`) are retained until explicitly closed and may consume too much memory. (To control this warning, see the rcParam `figure.max_open_warning`).\n",
      "  if __name__ == '__main__':\n"
     ]
    },
    {
     "name": "stdout",
     "output_type": "stream",
     "text": [
      "20m 11s (- 5m 2s) (60000 80%) 0.7568\n",
      "> elle est assez fachee .\n",
      "= she is quite angry .\n",
      "< she s always pretty . <EOS>\n",
      "\n",
      "21m 53s (- 3m 22s) (65000 86%) 0.6955\n",
      "> je vais bien maintenant .\n",
      "= i m feeling fine now .\n",
      "< i m well . <EOS>\n",
      "\n",
      "23m 35s (- 1m 41s) (70000 93%) 0.6439\n",
      "> tu es trop maigrichonne .\n",
      "= you re too skinny .\n",
      "< you re too skinny . <EOS>\n",
      "\n",
      "25m 17s (- 0m 0s) (75000 100%) 0.5636\n",
      "> il a un peu plus de quarante ans .\n",
      "= he is a little over forty .\n",
      "< he is getting years old . <EOS>\n",
      "\n",
      "\n"
     ]
    }
   ],
   "source": [
    "hidden_size = 256\n",
    "encoder1 = EncoderRNN(input_lang.n_words, hidden_size).to(device)\n",
    "attn_decoder1 = AttnDecoderRNN(hidden_size, output_lang.n_words, dropout_p=0.1).to(device)\n",
    "\n",
    "trainIters(encoder1, attn_decoder1, 75000, print_every=5000, plot_every=5000)"
   ]
  }
 ],
 "metadata": {
  "accelerator": "GPU",
  "colab": {
   "collapsed_sections": [
    "x90wmhaujqaC"
   ],
   "name": "TP_RNN.ipynb",
   "provenance": [],
   "toc_visible": true
  },
  "kernelspec": {
   "display_name": "Python 3",
   "language": "python",
   "name": "python3"
  },
  "language_info": {
   "codemirror_mode": {
    "name": "ipython",
    "version": 3
   },
   "file_extension": ".py",
   "mimetype": "text/x-python",
   "name": "python",
   "nbconvert_exporter": "python",
   "pygments_lexer": "ipython3",
   "version": "3.8.3"
  },
  "widgets": {
   "application/vnd.jupyter.widget-state+json": {
    "1f3dc3b95fa34fa3ae60f0d35e5e2ece": {
     "model_module": "@jupyter-widgets/base",
     "model_name": "LayoutModel",
     "state": {
      "_model_module": "@jupyter-widgets/base",
      "_model_module_version": "1.2.0",
      "_model_name": "LayoutModel",
      "_view_count": null,
      "_view_module": "@jupyter-widgets/base",
      "_view_module_version": "1.2.0",
      "_view_name": "LayoutView",
      "align_content": null,
      "align_items": null,
      "align_self": null,
      "border": null,
      "bottom": null,
      "display": null,
      "flex": null,
      "flex_flow": null,
      "grid_area": null,
      "grid_auto_columns": null,
      "grid_auto_flow": null,
      "grid_auto_rows": null,
      "grid_column": null,
      "grid_gap": null,
      "grid_row": null,
      "grid_template_areas": null,
      "grid_template_columns": null,
      "grid_template_rows": null,
      "height": null,
      "justify_content": null,
      "justify_items": null,
      "left": null,
      "margin": null,
      "max_height": null,
      "max_width": null,
      "min_height": null,
      "min_width": null,
      "object_fit": null,
      "object_position": null,
      "order": null,
      "overflow": null,
      "overflow_x": null,
      "overflow_y": null,
      "padding": null,
      "right": null,
      "top": null,
      "visibility": null,
      "width": null
     }
    },
    "407049a3a05344fdb09376418e8f4358": {
     "model_module": "@jupyter-widgets/controls",
     "model_name": "HBoxModel",
     "state": {
      "_dom_classes": [],
      "_model_module": "@jupyter-widgets/controls",
      "_model_module_version": "1.5.0",
      "_model_name": "HBoxModel",
      "_view_count": null,
      "_view_module": "@jupyter-widgets/controls",
      "_view_module_version": "1.5.0",
      "_view_name": "HBoxView",
      "box_style": "",
      "children": [
       "IPY_MODEL_a57bc2517cbf4039abf2d2e2d2ec21d2",
       "IPY_MODEL_bbafa7d9654e4d5984018cb8348a5981"
      ],
      "layout": "IPY_MODEL_7b283eaee37746c88b20d4d55924d457"
     }
    },
    "43cfe84474b14e04976282b9c4fb66b0": {
     "model_module": "@jupyter-widgets/controls",
     "model_name": "DescriptionStyleModel",
     "state": {
      "_model_module": "@jupyter-widgets/controls",
      "_model_module_version": "1.5.0",
      "_model_name": "DescriptionStyleModel",
      "_view_count": null,
      "_view_module": "@jupyter-widgets/base",
      "_view_module_version": "1.2.0",
      "_view_name": "StyleView",
      "description_width": ""
     }
    },
    "57a89a9827be4464af5cb7470304b168": {
     "model_module": "@jupyter-widgets/controls",
     "model_name": "ProgressStyleModel",
     "state": {
      "_model_module": "@jupyter-widgets/controls",
      "_model_module_version": "1.5.0",
      "_model_name": "ProgressStyleModel",
      "_view_count": null,
      "_view_module": "@jupyter-widgets/base",
      "_view_module_version": "1.2.0",
      "_view_name": "StyleView",
      "bar_color": null,
      "description_width": "initial"
     }
    },
    "7b283eaee37746c88b20d4d55924d457": {
     "model_module": "@jupyter-widgets/base",
     "model_name": "LayoutModel",
     "state": {
      "_model_module": "@jupyter-widgets/base",
      "_model_module_version": "1.2.0",
      "_model_name": "LayoutModel",
      "_view_count": null,
      "_view_module": "@jupyter-widgets/base",
      "_view_module_version": "1.2.0",
      "_view_name": "LayoutView",
      "align_content": null,
      "align_items": null,
      "align_self": null,
      "border": null,
      "bottom": null,
      "display": null,
      "flex": null,
      "flex_flow": null,
      "grid_area": null,
      "grid_auto_columns": null,
      "grid_auto_flow": null,
      "grid_auto_rows": null,
      "grid_column": null,
      "grid_gap": null,
      "grid_row": null,
      "grid_template_areas": null,
      "grid_template_columns": null,
      "grid_template_rows": null,
      "height": null,
      "justify_content": null,
      "justify_items": null,
      "left": null,
      "margin": null,
      "max_height": null,
      "max_width": null,
      "min_height": null,
      "min_width": null,
      "object_fit": null,
      "object_position": null,
      "order": null,
      "overflow": null,
      "overflow_x": null,
      "overflow_y": null,
      "padding": null,
      "right": null,
      "top": null,
      "visibility": null,
      "width": null
     }
    },
    "9c2da7c4188c435a85ee63bf122305a1": {
     "model_module": "@jupyter-widgets/base",
     "model_name": "LayoutModel",
     "state": {
      "_model_module": "@jupyter-widgets/base",
      "_model_module_version": "1.2.0",
      "_model_name": "LayoutModel",
      "_view_count": null,
      "_view_module": "@jupyter-widgets/base",
      "_view_module_version": "1.2.0",
      "_view_name": "LayoutView",
      "align_content": null,
      "align_items": null,
      "align_self": null,
      "border": null,
      "bottom": null,
      "display": null,
      "flex": null,
      "flex_flow": null,
      "grid_area": null,
      "grid_auto_columns": null,
      "grid_auto_flow": null,
      "grid_auto_rows": null,
      "grid_column": null,
      "grid_gap": null,
      "grid_row": null,
      "grid_template_areas": null,
      "grid_template_columns": null,
      "grid_template_rows": null,
      "height": null,
      "justify_content": null,
      "justify_items": null,
      "left": null,
      "margin": null,
      "max_height": null,
      "max_width": null,
      "min_height": null,
      "min_width": null,
      "object_fit": null,
      "object_position": null,
      "order": null,
      "overflow": null,
      "overflow_x": null,
      "overflow_y": null,
      "padding": null,
      "right": null,
      "top": null,
      "visibility": null,
      "width": null
     }
    },
    "a57bc2517cbf4039abf2d2e2d2ec21d2": {
     "model_module": "@jupyter-widgets/controls",
     "model_name": "FloatProgressModel",
     "state": {
      "_dom_classes": [],
      "_model_module": "@jupyter-widgets/controls",
      "_model_module_version": "1.5.0",
      "_model_name": "FloatProgressModel",
      "_view_count": null,
      "_view_module": "@jupyter-widgets/controls",
      "_view_module_version": "1.5.0",
      "_view_name": "ProgressView",
      "bar_style": "success",
      "description": "100%",
      "description_tooltip": null,
      "layout": "IPY_MODEL_9c2da7c4188c435a85ee63bf122305a1",
      "max": 75000,
      "min": 0,
      "orientation": "horizontal",
      "style": "IPY_MODEL_57a89a9827be4464af5cb7470304b168",
      "value": 75000
     }
    },
    "bbafa7d9654e4d5984018cb8348a5981": {
     "model_module": "@jupyter-widgets/controls",
     "model_name": "HTMLModel",
     "state": {
      "_dom_classes": [],
      "_model_module": "@jupyter-widgets/controls",
      "_model_module_version": "1.5.0",
      "_model_name": "HTMLModel",
      "_view_count": null,
      "_view_module": "@jupyter-widgets/controls",
      "_view_module_version": "1.5.0",
      "_view_name": "HTMLView",
      "description": "",
      "description_tooltip": null,
      "layout": "IPY_MODEL_1f3dc3b95fa34fa3ae60f0d35e5e2ece",
      "placeholder": "​",
      "style": "IPY_MODEL_43cfe84474b14e04976282b9c4fb66b0",
      "value": " 75000/75000 [25:13&lt;00:00, 49.56it/s]"
     }
    }
   }
  }
 },
 "nbformat": 4,
 "nbformat_minor": 1
}
